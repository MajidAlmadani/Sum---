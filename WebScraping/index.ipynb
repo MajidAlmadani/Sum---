{
 "cells": [
  {
   "cell_type": "markdown",
   "metadata": {},
   "source": [
    "## Import & Initialize"
   ]
  },
  {
   "cell_type": "code",
   "execution_count": 3,
   "metadata": {},
   "outputs": [],
   "source": [
    "import os\n",
    "import time\n",
    "from datetime import datetime\n",
    "from dotenv import load_dotenv\n",
    "\n",
    "import googlemaps\n",
    "import gmplot\n",
    "\n",
    "import pandas as pd"
   ]
  },
  {
   "cell_type": "code",
   "execution_count": 4,
   "metadata": {},
   "outputs": [],
   "source": [
    "load_dotenv()\n",
    "API_KEY = os.getenv('GOOGLE_MAPS_API_KEY')"
   ]
  },
  {
   "cell_type": "code",
   "execution_count": 6,
   "metadata": {},
   "outputs": [],
   "source": [
    "gmaps = googlemaps.Client(key=API_KEY)"
   ]
  },
  {
   "cell_type": "markdown",
   "metadata": {},
   "source": [
    "## Roads Names"
   ]
  },
  {
   "cell_type": "markdown",
   "metadata": {},
   "source": [
    "#### First Try:"
   ]
  },
  {
   "cell_type": "code",
   "execution_count": 5,
   "metadata": {},
   "outputs": [],
   "source": [
    "# def get_roads_in_location(gmaps_client, query, location, radius=50000):\n",
    "#     roads_data = []\n",
    "    \n",
    "#     # Perform the text search for roads\n",
    "#     try:\n",
    "#         places_result = gmaps_client.places(query=query, location=location, radius=radius)\n",
    "        \n",
    "#         # Print the response status to debug\n",
    "#         print(f\"API Response Status: {places_result.get('status')}\")\n",
    "        \n",
    "#         # Print the raw results to see what is coming from the API\n",
    "#         # print(\"Places Results (raw data):\", places_result['results'])\n",
    "\n",
    "#         # Check if there are results\n",
    "#         if places_result['status'] == 'ZERO_RESULTS':\n",
    "#             print(\"No results found for the query.\")\n",
    "#             return roads_data\n",
    "#         elif places_result['status'] != 'OK':\n",
    "#             print(f\"Error in API response: {places_result['status']}\")\n",
    "#             return roads_data\n",
    "        \n",
    "#         # Extract road-related names and their locations from initial results\n",
    "#         for place in places_result['results']:\n",
    "#             place_name = place.get('name', '')\n",
    "#             # Check if the place name contains common road keywords\n",
    "#             if any(keyword in place_name.lower() for keyword in ['road', 'street', 'highway', 'route']):\n",
    "#                 road_info = {\n",
    "#                     'name': place['name'],\n",
    "#                     'latitude': place['geometry']['location']['lat'],\n",
    "#                     'longitude': place['geometry']['location']['lng']\n",
    "#                 }\n",
    "#                 roads_data.append(road_info)\n",
    "        \n",
    "#         # Check if more results are available via pagination (next_page_token)\n",
    "#         while 'next_page_token' in places_result:\n",
    "#             time.sleep(2)  # Add delay to allow token activation\n",
    "#             places_result = gmaps_client.places(query=query, page_token=places_result['next_page_token'])\n",
    "#             # print(f\"Next Page API Response Status: {places_result.get('status')}\")\n",
    "            \n",
    "#             if places_result['status'] == 'ZERO_RESULTS':\n",
    "#                 print(\"No more results found on next page.\")\n",
    "#                 break\n",
    "#             elif places_result['status'] != 'OK':\n",
    "#                 print(f\"Error in API response on next page: {places_result['status']}\")\n",
    "#                 break\n",
    "            \n",
    "#             # Extract road names and their locations from paginated results\n",
    "#             for place in places_result['results']:\n",
    "#                 place_name = place.get('name', '')\n",
    "#                 # Check if the place name contains common road keywords\n",
    "#                 if any(keyword in place_name.lower() for keyword in ['road', 'street', 'highway', 'route']):\n",
    "#                     road_info = {\n",
    "#                         'name': place['name'],\n",
    "#                         'latitude': place['geometry']['location']['lat'],\n",
    "#                         'longitude': place['geometry']['location']['lng']\n",
    "#                     }\n",
    "#                     roads_data.append(road_info)\n",
    "    \n",
    "#     except Exception as e:\n",
    "#         print(f\"An error occurred: {str(e)}\")\n",
    "    \n",
    "#     return roads_data\n"
   ]
  },
  {
   "cell_type": "code",
   "execution_count": null,
   "metadata": {},
   "outputs": [],
   "source": [
    "# riyadh_location = (24.7136, 46.6753)\n",
    "\n",
    "# # Update query to search for roads instead of main roads\n",
    "# query = \"شارع\"\n",
    "\n",
    "# # Get the roads in Riyadh\n",
    "# roads_data = get_roads_in_location(gmaps, query, riyadh_location)\n",
    "\n",
    "# # Print road names and details\n",
    "# print(\"Roads in Riyadh:\")\n",
    "# for road in roads_data:\n",
    "#     print(f\"Name: {road['name']}, Latitude: {road['latitude']}, Longitude: {road['longitude']}\")"
   ]
  },
  {
   "cell_type": "code",
   "execution_count": 22,
   "metadata": {},
   "outputs": [],
   "source": [
    "# road_first = ['11565 Olaya Street, Riyadh','1564 Makkah Al Mukarramah Branch Road, Riyadh','1st Floor, Dove Plaza, (Hyper Panda 4406, 6554 تقاطع شارع أم الحمام مع شارع رضوان، حي أم الحمام الغربي،, Riyadh','2459 Makkah Al Mukarramah Branch Road, Riyadh','3004 No. 58, 12213 8285 Khurais Intersection with Olaya General Street, Riyadh','3019 Abu Bakr Alrazi Street, Riyadh','7520 Ibrahim Ala Nafisi Street Al Madhar, الرياض','8096 King Abdulaziz Road, Riyadh','9033 King Fahd Road, Tower 1, Riyadh','Abi Bakr As Siddiq Road, Riyadh','Al Awsat Valley Street, Riyadh','Al Muhandis Masaid Al Anqari, PM9J+G55, Riyadh','Al Takhassousi, Norah Square, Riyadh','Al Takhassousi, PMG3+72H, Riyadh','Al Takhassousi, Riyadh','Almughirah Ibn Shubah, Riyadh','Andalusia Hotel, Building No-10, Street No-6, Capital O 237, Riyadh','Ash Shaikh Abdullah Al Anqari, Riyadh','Building No.7358 Al Hanka, Riyadh','Center Point, King Abdullah Road, king abdullah road beside home centre, Riyadh','Dababt street, PP34+WFC, Al Hayat Newspaper Building, Riyadh','Imam Saud Bin Abdulaziz Bin Mohammed Road, Riyadh','Khalid Ibn Yazid Ibn Muawiyah, Riyadh','King Abdulaziz Road, PMWJ+CPV, Riyadh','King Abdullah Branch Road, Riyadh','King Fahd Branch Road, Riyadh','King Fahd Road, Riyadh','King Faisal Foundation, King Fahd Branch Road, مبنى, Riyadh','King Salman Neighborhood','Kingdom Centre, Olaya Street, Riyadh','Makkah Al Mukarramah Road, Riyadh','Merfal Apartment, Urwa Bin Ward Street, طريق الأمام سعود بن عبدالعزيز - شارع عروة بن الورد - حي المروج','Office No. 203, Block C, Al Akaria Plaza, Olaya Road, الرياض','Olaya Street, Riyadh','Opposite To The Kingdom Tower, Olaya Street, Riyadh','Prince Muhammad Ibn Abd Al Aziz, Riyadh','Prince Sultan Bin Abdulaziz Rd, Al Olaya, Riyadh','Rafha Street, PPM2+557, Riyadh','Rafha Street, Salah Ad Din, Riyadh','Riyadh','Thalateen Street, Riyadh','prince faisal, Riyadh','tahlia street Riyadh 11322 Saudi Arabia, Riyadh','حي الملك فهد،, طريق الملك فهد, Riyadh','سنتر بوينت, شارع العليــــــا العام , قرب, Riyadh','شارع التخصصي،, Riyadh','شارع, PM2J+FQ2, Riyadh','طريق الملك فهد, Olaya, الرياض','طريق مكة المكرمة، طريق خريص، مقابل مدينة الملك فهد الطبية, Riyadh']"
   ]
  },
  {
   "cell_type": "markdown",
   "metadata": {},
   "source": [
    "#### Second Try:"
   ]
  },
  {
   "cell_type": "code",
   "execution_count": null,
   "metadata": {},
   "outputs": [],
   "source": [
    "# def get_road_names(gmaps, location):\n",
    "#     road_names = []\n",
    "#     places_result = gmaps.places_nearby(location=location, radius=50000, type='establishment')\n",
    "    \n",
    "#     road_names.extend([place.get('vicinity', '') for place in places_result['results']])\n",
    "    \n",
    "#     while 'next_page_token' in places_result:\n",
    "#         time.sleep(2)\n",
    "#         places_result = gmaps.places_nearby(location=location, radius=50000, type='establishment', page_token=places_result['next_page_token'])\n",
    "#         road_names.extend([place.get('vicinity', '') for place in places_result['results']])\n",
    "    \n",
    "#     return road_names\n",
    "\n",
    "# location = {'lat': 24.7136, 'lng': 46.6753}  # Coordinates for Riyadh center\n",
    "# roads = get_road_names(gmaps, location)\n",
    "\n",
    "# for road in roads:\n",
    "#     print(road)\n"
   ]
  },
  {
   "cell_type": "code",
   "execution_count": 23,
   "metadata": {},
   "outputs": [],
   "source": [
    "# road_second = ['Al Urubah Road','Unnamed Road','Olaya Street','Al Ulaya','Khalid Ibn Yazid Ibn Muawiyah','شارع العليا','Abdullah Ibn Zamah','Sayyidah Ar Ruasa','طريق العروبة','Al Khourmah','العروبه','حراج بن قاسم']"
   ]
  },
  {
   "cell_type": "code",
   "execution_count": 24,
   "metadata": {},
   "outputs": [],
   "source": [
    "# road_third = ['Yaqub Ibn Ghanaim','البديعات','أبي صادق المخزومي','Ibn Al Qutub','Al Dahiah','Unnamed Road','Abi Al Faraj Ibn Al Jawzi','Wadi Awal','ابن الأثير','Almalga','أبي البقاء التيمي','ابن هبة الله','Adhbah','سلطان بن بجاد','أبي البركات النسفي','Prince Sultan Bin Salman Bin Abdulaziz Street','Saad Al Kindi','Jawdah','Muhammad As Sabati','مؤتة','Ibn Hamid','92','Abdul Rahman Ibn Hassan Al Umran','Al Hafez Abi Al Mouammar','Al Suhail','Buraidah Ibn Al Husaib','Street Number 84','Ibn Abdulwarith','شارع التخصصي','Abd Al Mouhsen Al Shami','Al Foudoul','Abdulwahab Ibn Abdulqadir','Ash Shulah','Mouta Street','أبي النجح إسماعيل','Al Amir Muhammad Ibn Abdul Aziz Branch Road','شارع الوحدة','Ashiqar','ابن إياس الكناني','Yousef Al Ayoubi','Street Number 94','Abdulhaq Ibn Ali Al Malki','أبي المفاخر الحموي','الأمير محمد بن عبدالعزيز','Abi Ibrahim Al Bardani','Al Maidhar','Wadi Ghulail','Al Mundhir Ibn Abdullah','عتاب الأموي','Al Tounisi','التلمساني','أبي غالب الكاتب','أبي الحسن العطار','Abi Sadik Al Mokhsumi Street','Ibn Al Attar','أبي الفتح القارئ','Muqdam','Algla','قتيبة بن شريح','Al Jazan','عبدالواحد بن جديد','Al Harbi','Uzaihir','Mubarak Al Douaik','Hussain Rushdi','Ibn Ammar Al Asadi','ممر3','Al lethamah','Ahmad Al Itab','Ad Dawid','Ibn Ad Dujaji','Ibn Al Shater','Khousaibah','As Sinani','Abi Backer Bin Niama Path','نعمة','ابن الآبار','Al Badiyah','Abdallah Bin Mohammad Al Talmisani','التاجر','أم البهاء البغدادية','Rumah','Al Jamuh Al Ansari','أبي حامد الغزالي','Abdulrahman Ibn Hibatullah','Al Anadol','Al Hawamidiyah','شارع','عبدالواحد بن عبدالله النصري','Ibn Al Kharasani','Jablah Ibn Malek','Umm Al Karam Az Zahawiyah','Abduljalil Alqurtubi','King Abdallah Ibn Abd Al Aziz','صعائد','Abdulqader Al Jazairi','Jabal Thahlan Path','أبي بكر الصفي','Al Baz','Jabal Nuam','السلطان أبي المغازي','Malik Ibn Khalaf','الثاملة','Abd Al Hakim Al Jamhi','Naim Ibn Masud','أبي الحسن الهاشمي','Abd Al Khalek Ibn Ahmad','Abdullah Ibn Al Arqam','Abi Jafar Ibn Zuraiq','Bashir Ibn Mahfouz','Mura Bin Ghaith Path','As Sanad','موسى بن عقبة، العليا،','Juneah Path','الأفراح','محمود الساوى','وادي خيبر','No. 68','Ibn Al Atar Path','Abdullah Ibn Yasir','Abi Al Qasim Al Balawi','أبي المظفر بن باكير','شارع الأمير سلطان بن سلمان بن عبدالعزيز','Uthman Al Harqumi','Huda Ash Sham','Om Alsaud','الديوان','Abi Abdullah Ibn Dawud','Al Ghuraira','Abi Salih Al Jaili','Yahia Al Bakri','Al Amli','Salih Al Krafi','Ibn Hibatullah','Abi Al Qasim Idris','Al Mansur As Saadi','عمر بن سعيد بن مالك','العماد بن محمد الأصبهاني','Daou Al Sabah','At Takhassusi Branch Street','Abdulrahman Al Azdi','Al Mounzir Ibn Abdullah','الكاتب','وادي العمارية','Malilah','Al Mouwaffaq Al Sabouni','Yosef Al Bazaz Street','الغزولي','Abd Al Wahed Ibn Jarir','Ibn Amamah','Al Jarrah Al Hakami','Zat Al Sawari','Street Number 90','Al Safwi','Safiy Ad Din Al Hali','65','Ibn Al Mamun','Ath Thamad','Abi Al Hussain Al Habri','جبل فحيط','وادي صفير','الغنائم','Umm Hakim','Jabal Qamir','Abi Amr Al Yaseri','ابن أبي ليلي','Sajir','ابن ابي ليلي','Al Shatinah','Abdulrahim Al Maghribi','Al Ajri','Ibn Matir Al Hakami','Az Zurayqat','Al Athal','Abi Al Thoraya Path','أيوب الثعلبى','No. 48','AI- waround neighborhood','يعقوب بن داود','At Takhassusi Branch','Musa Bin Oakba Path','Isa Bin Fairuz','Rafiq Al Hariri','Wadi Mara','Ibn Ad Daminah','شارع الأمير ممدوح بن عبدالعزيز','Ibn Abi Al Hadeed Lane','أبي محمد النساج','Hafr Al Bab','Ibn Al Wathiq','Dumah Al Jandal','ابن المنتخب','Ibn Hydarah','الراشدية','509','الأنجب','Ibrahim Ash Shami','Ash Shuaybah','الخميس','Mansur Al Bahwati','شارع بدر التمام','احمد بن حمبل','Abbas Al Jawhari','شهاب بن أبى بكر','Omar Al Shehab','Al Buraq','عبدالله بن سليمان الحمدان','الأخوة','Ibn Futuh','احمد عبدالغفور عطار','Abi Nuzar Al Jamal','Ibn Zawtan','Abi Al Fadl','Fadl Ibn Salmah','عبدالرحمن بن علي آل الشيخ','أبي العلاء البصري','شارع عبدالله بن سليمان الحمدان','Ibn Al Shaikh','بخاري','Fatimah Umm Al Baha','RQJA3630 Ibn Al Amid','Sabtah','Qasim Al Jabiri','أبي أرطى','ابن الصباغ','No. 66','Qoudamah Ibn Madoun','شارع وادي الكردي','King Abdulaziz Road','Al Qalanasi','محمود بن الربيع','المزرع','Abi Bakr Ibn Al Faqih','الاميراحمد بن عبدالعزيز','وادي الثمامة','طريق الامير محمد بن عبدالعزيز','الأغلب بن عمرو','Thabet Al Loughaoui','أمين واصف','Abi Al Fath Ath Thaqafi','Ibn Atiyah','Abi Tamim Al Musawi','ابن الساعي','أبي مصعب المدني','أبي الحسين الحبري','Ibrahim Ar Rasafi','Duhyah','Khalf Ibn Mudan','رشيد الدين الصوري','Ibn Shakir','Al Masoudi','Prince Abdullah Ibn Faisal Ibn Abdulaziz','الملك فهد الفرعي','شارع جبل المضابيع','Al Raht','Abi Al Mouhasin Al Tousi','Al Katip Street','Aiun Al Jawa Street','شارع 98','Tamam Al Habshi','Al Jamouh Al Ansari','أحمد بن فضلان','Ain Al Thaghrah','Al Wousaiti','ابن الناظر','المواقيتي','ابن أبي الحديد','Abi Hayyan At Tawhidi','Ibn Abanah Al Ashbili','Ibn Naim','Alimam Altartushi Almaliki Path','Al Mughirah Ibn Iyash','الاثير','Salih Ibn Salim','البرقان','Muhammad Ibn Al Zahabi','Mahmud as Sawi','Ar Rabi Al Ahmar','Hatim Ibn Dhafir','Sayyidah Ar Ruasa','ابن عقيل','ابن بركة','إسماعيل السمذي','Al Hazimi','Abi Ath Thana Al Maghribi','Al Mizri','طريق الملك عبدالله الفرعي','Jabalah Ibn Harithah','Hilal Ibn Badr','الدرعي','Az Zanbaq','Mazin Ibn Shaiban','Ibn Al Qazzaz','ثابت بن معاذ الأنصاري','Al Badir','وادي الابطح','علي العريف','Fathuallah Ash Shafi','ابن ابي حليم','ممر7','Ahmad Alghafi Street','خالد بن يزيد','Abi Hadid','الشلال','إبراهيم بن نشا القيسي','Daoud Al Asbahani','Ibn Ibad Al Katib','Al Walid At Tamimi','الرحالة','Al Zouhour','Umm Sadirah','Jafar Alskmi','Rizgallah Altamimi','شارع العليا، حي الملك فهد','Thavit Al Lghawt','أبي جعفر بن زريق','Al Alaya','Ras Al Ain','رقم 62','Ath Thamilah','Mohammad Al Koufi','Mahmoud Ibn Al Rabih','الداخلة','Wadi Hanifah Street','Ar Rabi Ibn Anas','Orjowan','الأمان','الشعلة','Sulaiman Al Murtada','شارع أم الحمام','ابن أمامة','شهاب بن أبي بكر','King Abdullah Branch Road','Al Kutbi','Al Dalimi','Abi Jafar Al Gharnati','Al Mahjar','Oumro Al Qais','As Suraya','Ibn Uqail','أحمد الواعظ','خير الدين الرملي','Tahliah Street','الاملي','Abdullah Ibn Yarbu','Yahia Al Rahwani','الناصرة','إبراهيم بن الحمصي','الغريراء','حارثة بن سهل','أبي محمد الجوهري','Abi Al Ala Ibn Zahr','Al Awwam Ibn Kaab','حسين رشدي','Hasan Shakir Aflatun','Al Awsat Valley Street','خبيرا','مثيبة','Abdulqadir As Saadi','Qutn Ibn Harithah','عيسي الثعالبي','Abi Al Fath Al Qari','مرخ','Al Muthwah','ابن أبي المفاخر','Al Hulyah','أبي عمران الرشيد','الأملي','خالد بن عمير العدوي البصري','حراء','التخصصي','رقم 78','Hatib Ibn Amr','البلاغة','Jafar Ibn Abi Talib','Umar Al Qazzaz','Abi Bakr Al Wasiti','Al Bekaa','سعيد الأسدي','Mouzaffar Al Sawadi','Katib Al Dine','Jabal Amayah','Al Shaikh Hamad Al Jasir','Prince Nayef Ibn Abd Al Aziz','أبي العباس الوكيل','Al Shaqiq','Al Qamra','الربيع الأحمر','Al Sultan Abi Al Maghazi','ابن آجروم','Abi Al Khair Al Sakhaoui','Al Kamli','ابن الأزرق','Al Batinah','Al Bahriah','Al Burj','أبي الفرج بن الجوزي','أبي حديد','Abi Mansur Al Nousouli','ابي المفاخر الحموي','Jaw','Al Shaikh Abdallah','Wadi Al Thoumamah','جبل كويكب','شارع وادي الثمامة','يحيي بن علي','Mujashi Ibn Masud','الزاهد أويس','Ali Ibn Salih','Ahmad Ibrahim Al Ghazzawi','Shuraih Ibn Al Arith','Abdulrazaq an Najari','أبي موسى الجمال','أبي سليك',\"Obaidah Ibn Rabi'ah\",'Nisah','Khair Al Dine Al Ramli','دسمان','البرج','Abi Salik','Panda Parking','Tatouan','محمد ابن ابراهيم ابن جبير','Al Basala','Muhammad Ibn Wahaib','Al Burqat','khalid ibn sinan al absi','Abi As Sadat Al Mubarak','Abdulaziz Al Qabiti','التخصصي الفرعي','Mazra','إبراهيم الرصافي','Ubaidah Ibn Rabia','العليا، 2721','وادي الريحان','Wadi Al Tesrear Street','Ibn An Namis','الأمير خالد بن محمد بن عبدالرحمن','Prince Turki Bin Abdulaziz Al Awal Road','Ibn Abd Al Wahid','Mouheiddine Al Naisaburi','لطف بن محمد الزبيري','Saad Ibn Soubaih','Al Dari','Muhammad As Suwaihali','Youssef Al Kadi','Ibn Abd Al Warith','أبي الفرج الحربي','شارع علي العريف','سعد بن بخيت','Al Barud','داود الأصبهاني','Abi Al Moujahid Al Marouzi','Barquq Al Ashraf','Hussein Roushdi','Hussein Ibn Hasan','Shamail','شارع رقم 54','أبي الفرج العدل','Ibn Al Damina Path','Hasan Al Badr','المعارف','القمراء','Al Badeh','Harithah Ibn Sahl','شارع موسى بن نصير','AR Ramayid','Al Urubah Road','Awis Az Zahid','Al Mufaddhal Ibn Fadhalah','Abi Mansur Al Kilabi','Moosab Al Zubari Street','Al Ghazi Ibn Qays','المراتبي','ذات السواري','أبي الحسن المأموني','ممر13','Ash Shaikh Uthman Ibn Al Barahim','537','Ibn Abi Al Fakhr Path','Fakhr Ad Din Ibn Salamah','Al Nakhai Path','Ibn Umayrah Al Makhzumi','Ahmad At Tai','ابي الفضل','الامير خالد بن محمد بن عبدالرحمن','Ibn Al Mountakhib','Ibrahim Ibn Al Hamasi','Ad Dakhilah','Al Naserah','أبي بكر الواسطي','Al Adl','Al Khoulaif','Abi Al Mufakhir Al Hamawi','Al Takhassousi','Al Seham','وادي القري','أبي علي الزماني','ابن أجروم','الشيحية','Samha','Al Bustan Path',\"Atika'a Bint Zid Street\",'Al Adab Street','Bir Al Kaiam Street','عبدالرحمن بن علي ال الشيخ','Abduljabbar Ibn Abi Dhar','Prince Abdallah Ibn Saoud Ibn Faisal','النور','Abi Hashim Ibn Ammar','Abdullah Ibn Khamis','Taher Al Maqdisi','Abi Al Hasan Al Mamuni','Ibrahim Ibn Al Aghlib','عبدالله بن الارقم','Al Sarh Road','الشيخ مبارك الصباح','وادي عليب','Dhifar','Al-Thumamah Valley Street','Al Bishari','Al Doma Street','Umm Al Fakhr','حصن بن وبرة الطائي','هلال بن امية','شارع العليا','أبي الحسن النحوي','أبي منصور النعماني','Abdulkhaliq Ibn Ahmad','ممر يونس المليجي','Jameh Al Tamimi','Al Bathnah','العصفر','أبي دجانة','Asyad Ibn Abi Iyas','أبي المكارم بن المسلم','طريف','Ash Shallal','Al Mahazim','يحيى بن النجار','Ash Shihab at Taifi','Ibn Al Karif Path','الاناضول','أبي الثناء المغربي','أبي هاشم بن عمار','No. 54','طريق الأمير تركي بن عبدالعزيز الأول','جعفر بن أبي طالب','Muhammad Al Hakim','Albkhit','العليا','Ayyad Ibn Khouwailid','Shourai Ibn Amer','Musa Ibn Nussair Street','التجارة','King Abdullah Road','ممر27','Isa Ath Thaalabi','Al Tourfiah','أبي بكر أحمد بن نعمة','Al Farouthi','Albdiat','ثابت ابن معاذ الانصاري','Street Number 82','Adamnahuri','أبي ثلوم','Hanifa Valley Street','إبراهيم الباهلي','Zain Al Dar','أبي منصور الكلابي','الخليفة الأمين','Wadi Albatah Street','Al Attaf Al Kalbi','التجاره','ورد بن خالد','وادي الكردي','Abi Taib Al Akabi Path','الشيماء','Al Zourwah','Rabiah Bint Abi Al Abbas','Uthman An Nahwi','Wadi Jaleel','Zaid Bin Oasama Street','شعبة بن الحجاج','الزنبق','المرقش الأكبر','Hamzah As Saydalani','Muawiyah Al Aqili','Thabit Al Loghawi Street','Akmal Al Qurashi','AZ Zuhur','Roumah','Hamid at Tawil','Ahbab','Abdullah Ibn Zamah','PM8G+5HX،','ابي المحاسن الطوسي','Muhammad Al Aqbani','Abi Al Barkat An Nisfi','عنبسة الغافقي','الأعوام','Al Khalifah Al Amin','الأغصان','Shaiban At Tamimi','No. 64','Ibn Al Khurayf','Abi Ahmad Al Hamathany Path','أبي سلمة','محمد بن واسع الأزدي','عبدالحميد أبي هيف','Al Harith Ibn Zouhair','Al Shaikh Hamad Al Thani','Suliman Bin Rahma Path','ابن الخصيب الدمشقي','Abi Al Hasan Al Jalajali','Ibrahim Ibn Nasha Al Qaysi','Asfal Al Batin','Al Ghazzal Al Baghdadi','Said Al Asadi','Wadi Jessah','Ismail Al Waidh','الأمير عبدالله بن محمد بن عبدالرحمن','الشهاب الطائفي','Yusuf Al Hanbali','وادي ملحة','أبي منصور النصولي','Al Shalal','يعقوب بن غنائم','إبراهيم الزيادي','Abi An Najah Ismail','أبي عبدالله الحربي','علي إبراهيم','Abi Jafar Al Adeeb Path','وادي سمائل','Said ibn harith','عاتكة بنت زيد','أبي ذر الحنفي','رقم 104','شارع صفوان بن مالك','Abhor','البريمي','المختص البدري','الاغصان','Ibn Al Jamal','أحمد بن داود الجذامي','Ibn Al Faqih','الأمير عبدالله بن فيصل بن عبدالعزيز','Al Bardiyah','Abdulmutalib Al Hanafi','Abi Al Fath Ibn Abi Qasim','جبل اسود العين','Al Fadl Ibn Ismail','الباز','Wadi Al Batin','Ibn Abi Sudika Path','Hafr Albab','جناح','Al Shamardal Al Bajali Path','الشيخ عبدالله العنقري','الخرمه','Al Nabaqiah','Ali Ibn Abdulghaffar','Khalid Ibn Bakir','Rmah','Masyaf','الأمير تركي بن عبدالعزيز الأول الفرعي','القلانسي','Matuq Al Baghdadi','البير','محمد صالح قزاز','ابن الشاطر الأنباري','Sabat Al Ala','Ibn Al Abbar','أحجار الثمام','Abdulrahman Bin Saad Bin Saeed','ابن إدريس','Sulaiman Ibn Al Lubad','محمد بن أبي صفرة','Al Moughirah Ibn Ayash','Ibn Al Mawardi','المليجي','Ibn Arafah','شارع الأمير أحمد بن عبدالعزيز','Wadi Al Raihan','Al Asli','Ali Ibn Wahb','Al Ramayid','أبي الحارث الشافعي','Abdallah Al Nadim','ابي عمارة البغدادي','أبي الحسن الجلاجلي','Abi Al Muhasin Al Khayyat','Al Sinidi Path','Al Ashraf Al Ayyubi','الكرامة','Abdulmalik Ibn Razin','Abdulhamid Abu Haif','Jabal Amaiah','No. 60','حسن شاكر أفلاطون','شارع وادي حنيفة','أحمد المكناسي','ابن حميد','Al Khayzaran','عقدة','وادي مطعم','Al Bouraikah','Ibn Hawqal','Al ghanayim','Abi Muhammad Ibn Hydarah','Umm Abdullah At Tanukhiyah','إبراهيم بن السيد البصري','Muraifiq','Ibn as Sai','Prince Abdullah Ibn Muhammad Ibn Abdulrahman','Al Diwan','Ahmed Al Itab','الافراح','الشيخ محمد بن إبراهيم بن جبير','المقدام','حوطة بني تميم','Kinda Bin Huthain Street','As Sain','Ain Al Shams Al Thaqafiyah','رقم 84','Al Ulaya','صلالة','Al Jalal Al Mahali','نصر بن منصور الضرير','Dabil','Al Cheikh Muhammad Ibn Ibrahim Ibn Joubeir','Al Naqrah','Abi Al Hajjaj Al Maqdisi','أبي الفتح بن أبي القاسم','عبدالله بن سند','Ibrahim Al Muhaddith','رأس العين','Abi Al Abbas Al Farghani','الأمير أحمد بن عبدالرحمن بن فيصل','دقلة','Ibn Ammar',\"Al Howra'a Street\",'عبدالله بن ثعلبة','سطام أبا الخيل','عبدالله بن خميس','Ziad Al Fazari','عامر بن امية','سفيان بن عيينة','Abdullah Ar Ramisi','Al Shouwaier Al Jaafi','Yahya Ar Rahwani','Al Hulwah','الأمن','Al Bark','علي بن الحسن الخزرجي','Wathab Ibn Sabiq','Ibn Fadlan','Ibn Awanah','Al Aliyah','Ali as Saigh','شارع رقم 108','Pedestrians Overpass','أبي العلاء بن زهر','Asinani Path','Hamran','Abi Hanifah Ad Dainuri','جعفر بن عباس بن صديق','Street Number 72','المسدي','Abdulrahman Ibn Ali Al Ash Shaikh','عبدالرحمن بن حسن آل عمران','حراج بن قاسم','Muhammad Ibn Talab','طريق الملك فهد','Al Buraimi','Jabal Baysan','البدر','Abdullah Al Miselli Street','Al Maliji','Ahjar Al Thamam','Abi Al Faraj Aladl','King Fahd Branch Road','Shouja Ibn Wahb','Muthibah','Abi Talh','Ibn Ammarah Al Baghdadi','No. 62','شارع حوطة بني تميم','Abi Masab Al Madani','Al Shoulah','Abdulrahim As Samani','Anbasah Al Ghafaqi','Al Wadiah','Ibn Shuraih','Dasman','Mahmoud Ibn Omair Al Aousi','Masud Al Badri','الأشرف الأيوبي','عبدالله بن سلمه','Ibn Shahman','Ibn Al Hafidh','Ibraheem Alshami','أم سديرة','Dawud Ibn Urwah','King Fahd Road','Aldakhlah','أبي الحسن القلصادي','أبي حيان التوحيدي','Hamid Al Tawil','Al Jumaiha','ابن فتوح','Abi Hafs Ibn Hilal','Albradi','Al Faraj Ibn Kinanah','إبراهيم النفيسي','قريش المدني','Muhammad Ibn Suwaid','Abi Abdallah Al Husseini','Tamam Ibn Umar','Ibn Abi An Najm','Ibn Al Muhalhil','Saad Ibn Bakhit','Al Ataa','شارع سليمان المرتضي','Ubaidullah Allithi','محمد بن أسباط','رقم 52','وادي مية','Jafar Al Andalusi','يحيى بن عدي','الأمير فيصل بن سعد بن عبدالرحمن','Al Roumahi','Abdulkarim Nadir','Heraa','Prince Khalid Ibn Muhammad Ibn Abd Al Rahman','Safaqis','Abi Zakaria Ibn Mansour','أحمد بن المقتدر بالله','شارع رقم 74','Abdulrahman Ibn Mahdi','البساتين','حلوة','Ash Shihah','Al Barqa','Abdulwahid Ibn Jarir','Sad Ibn Bakhit At Turki','Al Muraqish Al Akbar','الازدهار','Ibrahim Ibn Nasha Al Qaisi','Abi Al Mansur Ad Daqiqi','عمر القزاز','Abi Ali Al Qali','ضهية','Ali Ibrahim','أبي نزار الجمال','Abdulrahman bin Saleh Al Shubaili','Al Burqan','Salim Al Hatub Path','يحيى بن معين','Ahmad Abdulghafur Attar','Abi Al Hasan Al Attar','Oqda','Abi Huffs Bin Hilal Path','أحمد بن دراج','Sufyan Ibn Qays','عبدالرحمن أبي شامة','Prince Ahmad Ibn Abdulrahman','المهندس مساعد العنقري','Al Tawim','Al Banan','رقم 74','Al Jabiri','Alamar','Al Sidrah','Abdullah Ibn Abi at Taqi','Al Makhayniq','ابن العطار','Ajdad Street','Abi Umran Ar Rashid','Raoudat Mehanna','Al Huliah','عبدالقادر الجزائري','Abi Muhammad Al Jawhari','Al Hudaifiyah','Ibn Barakah','Asyad Ibn Abdullah','صلاح الدين الصفدي','Jamal Aldin Algezairi','Al Husami','أبي المحاسن','Yehia Bin Yaqut Path','Ar Rahif','Ibn Al Asad','Street Number 74','أبي منصور الكوفي','Abi Ghalib Ibn Saadullah','حجر','Abi Al Mudhaffar Ibn Bakir','Ar Rabiyah','Street Number 92','الراعي الكلبي','Abi Ishaq Al Harbi','Al Aqiliyah','أحمد العشاب','Abdallah Ibn Abi Al Taqi','Al Rashidiah','Safwan Ibn Malik','Yaqub Ibn Dawud','Amr Ibn Marzuq','Souhaj','Ahmad Al Baihaqi','Ibn Sabbagh','أحمد الزاهد','شارع ابن امامه','Muhammad Al Kufi','ابراهيم الزيادي','أبي الحسن بن البناء','أبي الفداء إسماعيل','Arwa Ibn Ouzaina','ام الحمام','الكوكب','Albuhturiah','يوسف القاضي','Abi Haishah','Muhammad Al Muqaddisi','زين الدار المصري','Kareem Alley','جعفر الأندلسي','Abou Al Selm','ممر9','الإقدام','Ibn Al Farad','Thabit Ibn Hazm','المسعودي','Wadi Batan Path','عبدالرحيم الأزدي','أمرؤ القيس','عبدالرحمن بن هبة الله','النقرة','Nasr Ibn Mansur','الجزعان','شارع نساح','Al Farrat Ibn Abi Al Khansa','Al Azuli','Al Abbas Ar Rashidi','المغيرة بن عياش','Sahl Ibn Atik','Al Khamis','Al Qasim Ibn Isa','أبي الحجاج المقدسي','الكثيب','الذبياني','Hanzalah Ibn Malek','عبدالله بن زمعة','Al Fadl Ibn Habbab','Abi Al Qasem Idris','الفضل بن إسماعيل','Abi Thalum','Ibn Hamdun','فضل بن سلمة','Shafi Ibn Al Saeb','Ibn Abi Al Fath Al Kharfi','أبي القاسم البلوي','Al Shehab Al Taifi','صالح الكراني','Safi Al Deen Al Hilli','إبراهيم المحدث','Mousa Ibn Uqbah','الملك عبدالعزيز ابن عبدالرحمن سعود','Muhammad Al Koufi','Ibn Jaljal','Mahmud Ibn AR Rabi','Abi Al Hasan Al Qalsadi','Ahmad ibn Al Muqtadar Billah','Abdulhamid Al Katib','Prince Faisal Ibn Saad Ibn Abd Al Rahman','داود بن عروة','Ibn Sanin','أبي محمد بن حيدرة','أبي أحمد الهمذاني','احمد الواعظ','Al Cheikh Mubarak Al Soubah','Al Henkah','محمد المغربي','سعد بن خيثمة الأوسي','وادي ريمار','مصدق الصلحي','أبي سليمان الأندي','وادي أم أثله','Al Aghlab Ibn Amr','Abi Mohammad Al Jawhari','Omar Al Gazaz Path','Sufyan Ibn Ayinah','Abdullah Ibn Salamah','طريق الملك عبدالله','حنظلة بن مالك','Mahmud Ibn Al Mubarak','Harithah An Najari','Abi Al Faraj Al Adl','المنيني']"
   ]
  },
  {
   "cell_type": "code",
   "execution_count": null,
   "metadata": {},
   "outputs": [],
   "source": [
    "# road_forth = ['عاقل الليثي','شارع الخرج القديم','المزاحميه 2673','طريق الحاير حوطة بني تميم','Qurtajina','Ibn Zaidoun Street','Al Kharj Road','ابي الحسن الفصيحي','511','Abdallah Ibn Houzafah Al Sahmi','اللغفيه 1766','عبدالله ابن حذافة السهمي','البدائع 194','Al Hameid','5399','Abi Al Abbas Al Asqalani','Al Imam Muslim','Abdul Rahman Ad Dakhil','ممر3','Al Johari','المجزر بن زياد البلوي','طريق الحائر','Unnamed Road','المزاحميه 1284','علي البغدادي','65','Samahat Ash Shaikh Abdulaziz Ibn Baz Street','ابراهيم القيسي','المزاحميه 1264','قرين','أبي الحسن الفصيحي','Jabal Ajyad Road','Gharsa','Fatimah Valley Street','Muslimah Al Fahri','قصور ال مقبل 54','ابن لهيعة','ال حفيان 1193','قصور ال مقبل 52','المزاحميه 1584','وادي فاطمه','جبل الضبيان','طريق رياض الخرج','Aliuddin Al Hanafi','Ahmad Ibn Alkhattab','جبل مركوز','Alsail Alkabeer Road','Ibn Mani','هجرة الاوسط 1032','أبي العباس البغدادي','Weastern Ring Branch Road','وادي لبن','ضرما 206','اللؤلؤة 25','الرفايع 2074','Abdullah Alsahmi Street','5395','ضرما 1189','Mujahid Street','ال حفيان 1256','يوسف نعمة الله','الحائر','النابغه','Al Hadaar Street','أبي بكر بن علي الحدادي العبادي','إسماعيل الصقلي','Al Madina Al Munawwarah Road','وادي السادة','Asir Street','حراء','العزيزية','ابن زيدون','شارع صحار بن عياش','هجرة المناخ 1579','Mohammad Rashid Rida','Shebh Al Jazirah','ابو عماد','Salih Al Hariri Al Afandi Street','حداب القرى','Aljawhri Street','Omar Ibn Al Khattab Branch Road','القاسم ابن امية','الدائري الثالث','وادي الرمه','Al Farazdaq Street','عسير','المجد','505','أم ظهران','Wadi Rikham','جبل حضن','شارع وادي الهدار','Al Haeer Road','المعتصم','قريه ديراب 2289','Wadi Laban','هجرة الاوسط 2515','المزاحميه 2569','المروه','يثرب','عبدالرحمن العنبري','ضرما 1225']"
   ]
  },
  {
   "cell_type": "markdown",
   "metadata": {},
   "source": [
    "#### Last Try:"
   ]
  },
  {
   "cell_type": "code",
   "execution_count": 37,
   "metadata": {},
   "outputs": [
    {
     "name": "stderr",
     "output_type": "stream",
     "text": [
      "/opt/anaconda3/lib/python3.11/site-packages/osmnx/_overpass.py:254: UserWarning: This area is 180 times your configured Overpass max query area size. It will automatically be divided up into multiple sub-queries accordingly. This may take a long time.\n",
      "  multi_poly_proj = utils_geo._consolidate_subdivide_geometry(poly_proj)\n"
     ]
    },
    {
     "name": "stdout",
     "output_type": "stream",
     "text": [
      "Road: nan, Origin: 19.4587722,45.0894183, Destination: 19.8331846,45.1229376\n",
      "Road: nan, Origin: 19.8498979,45.1166366, Destination: 19.8498204,45.116388\n",
      "Road: nan, Origin: 19.8498979,45.1166366, Destination: 19.962766,45.0520869\n",
      "Road: nan, Origin: 20.3496233,45.1867822, Destination: 20.3753786,45.2115235\n",
      "Road: nan, Origin: 20.3496233,45.1867822, Destination: 20.3293589,45.2207351\n",
      "Road: nan, Origin: 19.8498204,45.116388, Destination: 19.8498979,45.1166366\n",
      "Road: nan, Origin: 19.8498204,45.116388, Destination: 19.8330878,45.1226822\n",
      "Road: nan, Origin: 19.9714283,45.0503174, Destination: 19.962725,45.051828\n",
      "Road: nan, Origin: 19.9714283,45.0503174, Destination: 19.971123,44.9464614\n",
      "Road: nan, Origin: 19.8415351,45.119844, Destination: 19.8498979,45.1166366\n"
     ]
    }
   ],
   "source": [
    "# import osmnx as ox\n",
    "# import random\n",
    "\n",
    "# # Get the street network for Riyadh from OSMnx\n",
    "# city_name = 'Riyadh, Saudi Arabia'\n",
    "# G = ox.graph_from_place(city_name, network_type='drive')\n",
    "\n",
    "# # Convert graph to GeoDataFrame to get road data\n",
    "# edges = ox.graph_to_gdfs(G, nodes=False, edges=True)\n",
    "\n",
    "# # List to store road names with their corresponding origin-destination pairs\n",
    "# roads_with_coords = []\n",
    "\n",
    "# # Iterate over edges (road segments) to extract road names, origin, and destination\n",
    "# for _, row in edges.iterrows():\n",
    "#     # Get the origin and destination coordinates from the edge\n",
    "#     origin = f\"{row['geometry'].coords[0][1]},{row['geometry'].coords[0][0]}\"  # lat, lon of start point\n",
    "#     destination = f\"{row['geometry'].coords[-1][1]},{row['geometry'].coords[-1][0]}\"  # lat, lon of end point\n",
    "    \n",
    "#     # Get the road name (if available)\n",
    "#     road_name = row['name'] if 'name' in row and row['name'] is not None else \"Unnamed road\"\n",
    "    \n",
    "#     # Append road name and its origin-destination pair to the list\n",
    "#     roads_with_coords.append((road_name, origin, destination))\n",
    "\n",
    "# for road_info in roads_with_coords[:10]: \n",
    "#     road_name, origin, destination = road_info\n",
    "#     print(f\"Road: {road_name}, Origin: {origin}, Destination: {destination}\")\n"
   ]
  },
  {
   "cell_type": "code",
   "execution_count": 39,
   "metadata": {},
   "outputs": [],
   "source": [
    "# import numpy as np\n",
    "# list_graph_roads = []\n",
    "\n",
    "# for i in roads_with_coords:\n",
    "#     if isinstance(i[0], (list, np.ndarray)):  # Check if i[0] is a list or array\n",
    "#         if not pd.isnull(i[0]).any():  # Check if any element in i[0] is NaN\n",
    "#             list_graph_roads.append(i[0])\n",
    "#     else:  # For scalar values\n",
    "#         if not pd.isnull(i[0]):  # Check if i[0] is NaN for scalar\n",
    "#             list_graph_roads.append(i[0])\n"
   ]
  },
  {
   "cell_type": "code",
   "execution_count": 47,
   "metadata": {},
   "outputs": [],
   "source": [
    "# list_from_before_graph = ['Al Braida','ضرما','طريق الملك سلمان','عبدالله بن دهيش','شارع الربيع','محمد بن نصر الدمشقي','قرطاجة','أبي العباس الخطيب','شارع الوقار','BRT11','البيطار','علي بن أبي الخير','حامد القاري','طريق الإمام سعود بن فيصل','الخيران','النورة','الطريق الدائري الشمالي','Al Saud','عبدالله الخليفي','وادي حلب','الغنامية','الأحيدب','عبدالله بن حسن آل الشيخ','المفضل الغلابي','الأبهري','شارع وادي أزيمة','الإدريسي','Mahayeda','الظفير','السبهانية','بلقيس','King Fahad Rd','بوعرفة','الشجون','المشورة','رقم 43','سيف الدولة الغافل','Al Massaif','المدينة المنورة','25','سليط بن قيس','يحيى الأنصاري','طريق الخرج','نهر النيل','No. 11','الأمير سلطان بن عبدالعزيز','Al Jamil','Manara','no.218','محمد النياحي','أحمد المقدسي','العريد','اللؤلؤة','شارع رقم 306','أبي حفص النحوي','شارع ابن ماجة','خلاد بن رافع','Dertour','رقم 99','شارع ابن سينا','شيخ الشيوخ الجويني','الغنامية','شارع الشيخ على الحمد الصالحي','السامرية','الحماسة',['حذيفة بن اليمان', 'سليمان بن علي آل مشرف'],'رقم 62','حبان بن أبي جبلة','As-Sahabh','الصعوب','الخليفة الناصر لدين الله','الغدير','طريق مكة المكرمة','أبي عبدالله البهاء','رماح','أبو عبيدة عامر بن الجراح','البريمي','الشيخ صالح بن عبدالعزيز آل الشيخ','طريق تركي الأول بن عبدالعزيز آل سعود','البحار','شارع الصحراوي','الحجاب','القلانسي','عبدالرحيم الدرجي','جبل مبرك','الأخاشب','حسن الشوري','التين','شهاب الدين الغزي','عوف بن عبدالرحمن','طريق الملك عبدالعزيز','ابن الصباغ الخزرجي','الأمير سعد بن عبدالرحمن الأول','السيل','الجديدة','سهيل بن عدي','No. 205','الحوارة','مسلا','الدويمة','طريق الدائري الشرقي','الدائري الشمالي','شارع أبي طاهر الشيباني','ابي الثناء الحلي','الريامة','حمد الشويعر','أبي الندى','Al Wadi Al Akhdhar','محمود الأيوبي','شارع متعب بن عبدالعزيز','ثنيات','سالم الحطاب','شارع حفصه بن سيرين','الحسن الطوسي','عاصم بن عمر','ممر الدحض','صفية بنت أحمد','حمورية','شارع النجمة','شارع عبادة بن الصامت','المباركة','شارع عبدالله التميمي','Mohammed Al Shanqiti','آل درع','القاضي إياس','وادي ترج','وادي قران','الثامر','Ibn Khalkan','سطام أبا الخيل','طريق تركي الأول بن عبدالعزيز آل سعود','خيران','الحسين الكندي','شارع عبدالرحمن بخش','ابن السقاء','سودة','شارع الاحساء','Waqada','ابن النقال','الأعلم النحوي','Abdullah Bin Ibrahim Bin Saif','طريق العليا العام','شعب الحليفة','كرز بن الحارث','حماد المارديني','القاسم النميري','دار المجد','شارع أبي نصر الضرير','شارع عبدالله بن أبي السرح','الذهبي','عبدالعزيز بن محمد بن مانع','السودي','بللسمر','طريق مكة المكرمة','Nemran','شارع الكناني','الموتد','عبدالمجيد بن الحسن','علي بن الهيثم','الأفضلي','يحيى الفرضي','Abi Al Hasan Al Nazani St.','خلف بن عبدالله','زين الدين التنوخي','No. 285','السويداوي','محمد بن أحمد الفاسي','الحمود','شارع عثمان بن عفان','Al Maqrah','فرج حسين','إسحاق بن مرة','المغرة','شارع الشيخ عبد العزيز بن عبد الرحمن بن بشر','Najran','إسماعيل بن السلطان','ابن غزيل','شارع فرج التغلبي','البجادية','دعاء','شارع السلامة','أبي ميمونة','طريق الأمير فيصل بن بندر بن عبدالعزيز','تميم بن مر','وادي ماوان','شارع ال فريان','شارع أبي الحسن المقدسي','أبي الفتح البغدادي','الأشعث','مقدام','معتوق بن أبي البقاء','وادي الأحمد','أحمد التميمي','الأمير سعود بن عبدالله بن جلوي','شارع الأمير بدر بن عبدالعزيز','No. 163','عبدالله بن حبان','شارع أروم','علي عبدالله الشهراني',\"'Al Foqaha\",'ابن جرير التنوخي','أبي العزائم','فاطمة الزهراء','التوحيد']"
   ]
  },
  {
   "cell_type": "code",
   "execution_count": 73,
   "metadata": {},
   "outputs": [],
   "source": [
    "# road_names = [road_info[0] for road_info in roads_with_coords if isinstance(road_info[0], str)]\n",
    "\n",
    "# unique_road_names = set(road_names)"
   ]
  },
  {
   "cell_type": "code",
   "execution_count": 81,
   "metadata": {},
   "outputs": [],
   "source": [
    "# with open(\"unique_road_names.txt\", \"w\") as f:\n",
    "#     for road_name in unique_road_names:\n",
    "#         f.write(f\"{road_name}\\n\")"
   ]
  },
  {
   "cell_type": "markdown",
   "metadata": {},
   "source": [
    "## Filter Road Names (Didn't Work)"
   ]
  },
  {
   "cell_type": "code",
   "execution_count": 53,
   "metadata": {},
   "outputs": [],
   "source": [
    "import re\n",
    "from difflib import SequenceMatcher\n",
    "\n",
    "# Helper function to clean road names\n",
    "def clean_road_name(road_name):\n",
    "    # Convert to lowercase and remove special characters, and translate Arabic numerals if needed\n",
    "    road_name = road_name.lower()\n",
    "    road_name = re.sub(r'[^\\w\\s]', '', road_name)  # Remove punctuation\n",
    "    return road_name\n",
    "\n",
    "# Function to check similarity between two road names\n",
    "def are_similar(name1, name2, threshold=0.8):\n",
    "    similarity = SequenceMatcher(None, name1, name2).ratio()\n",
    "    return similarity >= threshold"
   ]
  },
  {
   "cell_type": "code",
   "execution_count": 54,
   "metadata": {},
   "outputs": [],
   "source": [
    "def get_geocode(road_name, city=\"Riyadh\", country=\"Saudi Arabia\"):\n",
    "\n",
    "    # Try geocoding with road name and context\n",
    "    queries = [road_name, f\"{road_name}, {city}\", f\"{road_name}, {city}, {country}\"]\n",
    "    \n",
    "    for query in queries:\n",
    "        geocode_result = gmaps.geocode(query)\n",
    "        if geocode_result:\n",
    "            location = geocode_result[0]['geometry']['location']\n",
    "            return location['lat'], location['lng']\n",
    "    \n",
    "    # If no result was found\n",
    "    return None, None\n"
   ]
  },
  {
   "cell_type": "code",
   "execution_count": 55,
   "metadata": {},
   "outputs": [],
   "source": [
    "def get_traffic_data(road_name):\n",
    "    try:\n",
    "        # Get geocodes for start and end of the road with fallback mechanism\n",
    "        origin_lat, origin_lng = get_geocode(road_name + \" start\")\n",
    "        destination_lat, destination_lng = get_geocode(road_name + \" end\")\n",
    "        \n",
    "        # If either geocode is missing, skip this road\n",
    "        if origin_lat is None or destination_lat is None:\n",
    "            print(f\"Error getting geocodes for {road_name}\")\n",
    "            return None\n",
    "\n",
    "        origin = f\"{origin_lat},{origin_lng}\"\n",
    "        destination = f\"{destination_lat},{destination_lng}\"\n",
    "        \n",
    "        # Request traffic data using Distance Matrix API\n",
    "        traffic_data = gmaps.distance_matrix(origins=origin, \n",
    "                                             destinations=destination, \n",
    "                                             mode=\"driving\", \n",
    "                                             departure_time=\"now\")\n",
    "        element = traffic_data['rows'][0]['elements'][0]\n",
    "        \n",
    "        # Check if traffic duration is available, otherwise use regular duration\n",
    "        if 'duration_in_traffic' in element:\n",
    "            traffic_duration = element['duration_in_traffic']['value']\n",
    "        elif 'duration' in element:\n",
    "            traffic_duration = element['duration']['value']\n",
    "            print(f\"Traffic data not available for {road_name}, using regular duration\")\n",
    "        else:\n",
    "            print(f\"No duration data found for {road_name}\")\n",
    "            return None\n",
    "\n",
    "        return traffic_duration\n",
    "    except Exception as e:\n",
    "        print(f\"Error getting traffic data for {road_name}: {e}\")\n",
    "        return None\n"
   ]
  },
  {
   "cell_type": "code",
   "execution_count": 56,
   "metadata": {},
   "outputs": [],
   "source": [
    "def deduplicate_roads(road_list):\n",
    "    cleaned_roads = []\n",
    "    unique_roads = []\n",
    "    \n",
    "    for road in road_list:\n",
    "        cleaned_name = clean_road_name(road)\n",
    "        \n",
    "        if not any(are_similar(cleaned_name, clean_road_name(r)) for r in unique_roads):\n",
    "            unique_roads.append(road)\n",
    "    \n",
    "    return unique_roads"
   ]
  },
  {
   "cell_type": "code",
   "execution_count": 57,
   "metadata": {},
   "outputs": [],
   "source": [
    "def rank_roads_by_traffic(roads):\n",
    "    road_traffic = []\n",
    "    \n",
    "    for road in roads:\n",
    "        traffic = get_traffic_data(road)\n",
    "        if traffic is not None:\n",
    "            road_traffic.append((road, traffic))\n",
    "    \n",
    "    # Sort by traffic duration in descending order\n",
    "    road_traffic.sort(key=lambda x: x[1], reverse=True)\n",
    "    return road_traffic[:200]  # Top 200 most trafficked roads\n"
   ]
  },
  {
   "cell_type": "code",
   "execution_count": 58,
   "metadata": {},
   "outputs": [
    {
     "name": "stdout",
     "output_type": "stream",
     "text": [
      "No duration data found for Mazra\n"
     ]
    },
    {
     "ename": "KeyboardInterrupt",
     "evalue": "",
     "output_type": "error",
     "traceback": [
      "\u001b[0;31m---------------------------------------------------------------------------\u001b[0m",
      "\u001b[0;31mKeyboardInterrupt\u001b[0m                         Traceback (most recent call last)",
      "Cell \u001b[0;32mIn[58], line 11\u001b[0m\n\u001b[1;32m      8\u001b[0m     \u001b[38;5;28;01mreturn\u001b[39;00m top_200_roads\n\u001b[1;32m     10\u001b[0m \u001b[38;5;66;03m# Get top 200 roads with the highest traffic\u001b[39;00m\n\u001b[0;32m---> 11\u001b[0m top_200_roads \u001b[38;5;241m=\u001b[39m get_top_200_traffic_roads(all_roads)\n\u001b[1;32m     13\u001b[0m \u001b[38;5;66;03m# Display the results\u001b[39;00m\n\u001b[1;32m     14\u001b[0m \u001b[38;5;28;01mfor\u001b[39;00m road, traffic \u001b[38;5;129;01min\u001b[39;00m top_200_roads:\n",
      "Cell \u001b[0;32mIn[58], line 6\u001b[0m, in \u001b[0;36mget_top_200_traffic_roads\u001b[0;34m(road_list)\u001b[0m\n\u001b[1;32m      3\u001b[0m unique_roads \u001b[38;5;241m=\u001b[39m deduplicate_roads(road_list)\n\u001b[1;32m      5\u001b[0m \u001b[38;5;66;03m# Step 2: Rank the roads by traffic\u001b[39;00m\n\u001b[0;32m----> 6\u001b[0m top_200_roads \u001b[38;5;241m=\u001b[39m rank_roads_by_traffic(unique_roads)\n\u001b[1;32m      8\u001b[0m \u001b[38;5;28;01mreturn\u001b[39;00m top_200_roads\n",
      "Cell \u001b[0;32mIn[57], line 5\u001b[0m, in \u001b[0;36mrank_roads_by_traffic\u001b[0;34m(roads)\u001b[0m\n\u001b[1;32m      2\u001b[0m road_traffic \u001b[38;5;241m=\u001b[39m []\n\u001b[1;32m      4\u001b[0m \u001b[38;5;28;01mfor\u001b[39;00m road \u001b[38;5;129;01min\u001b[39;00m roads:\n\u001b[0;32m----> 5\u001b[0m     traffic \u001b[38;5;241m=\u001b[39m get_traffic_data(road)\n\u001b[1;32m      6\u001b[0m     \u001b[38;5;28;01mif\u001b[39;00m traffic \u001b[38;5;129;01mis\u001b[39;00m \u001b[38;5;129;01mnot\u001b[39;00m \u001b[38;5;28;01mNone\u001b[39;00m:\n\u001b[1;32m      7\u001b[0m         road_traffic\u001b[38;5;241m.\u001b[39mappend((road, traffic))\n",
      "Cell \u001b[0;32mIn[55], line 4\u001b[0m, in \u001b[0;36mget_traffic_data\u001b[0;34m(road_name)\u001b[0m\n\u001b[1;32m      1\u001b[0m \u001b[38;5;28;01mdef\u001b[39;00m \u001b[38;5;21mget_traffic_data\u001b[39m(road_name):\n\u001b[1;32m      2\u001b[0m     \u001b[38;5;28;01mtry\u001b[39;00m:\n\u001b[1;32m      3\u001b[0m         \u001b[38;5;66;03m# Get geocodes for start and end of the road with fallback mechanism\u001b[39;00m\n\u001b[0;32m----> 4\u001b[0m         origin_lat, origin_lng \u001b[38;5;241m=\u001b[39m get_geocode(road_name \u001b[38;5;241m+\u001b[39m \u001b[38;5;124m\"\u001b[39m\u001b[38;5;124m start\u001b[39m\u001b[38;5;124m\"\u001b[39m)\n\u001b[1;32m      5\u001b[0m         destination_lat, destination_lng \u001b[38;5;241m=\u001b[39m get_geocode(road_name \u001b[38;5;241m+\u001b[39m \u001b[38;5;124m\"\u001b[39m\u001b[38;5;124m end\u001b[39m\u001b[38;5;124m\"\u001b[39m)\n\u001b[1;32m      7\u001b[0m         \u001b[38;5;66;03m# If either geocode is missing, skip this road\u001b[39;00m\n",
      "Cell \u001b[0;32mIn[54], line 7\u001b[0m, in \u001b[0;36mget_geocode\u001b[0;34m(road_name, city, country)\u001b[0m\n\u001b[1;32m      4\u001b[0m queries \u001b[38;5;241m=\u001b[39m [road_name, \u001b[38;5;124mf\u001b[39m\u001b[38;5;124m\"\u001b[39m\u001b[38;5;132;01m{\u001b[39;00mroad_name\u001b[38;5;132;01m}\u001b[39;00m\u001b[38;5;124m, \u001b[39m\u001b[38;5;132;01m{\u001b[39;00mcity\u001b[38;5;132;01m}\u001b[39;00m\u001b[38;5;124m\"\u001b[39m, \u001b[38;5;124mf\u001b[39m\u001b[38;5;124m\"\u001b[39m\u001b[38;5;132;01m{\u001b[39;00mroad_name\u001b[38;5;132;01m}\u001b[39;00m\u001b[38;5;124m, \u001b[39m\u001b[38;5;132;01m{\u001b[39;00mcity\u001b[38;5;132;01m}\u001b[39;00m\u001b[38;5;124m, \u001b[39m\u001b[38;5;132;01m{\u001b[39;00mcountry\u001b[38;5;132;01m}\u001b[39;00m\u001b[38;5;124m\"\u001b[39m]\n\u001b[1;32m      6\u001b[0m \u001b[38;5;28;01mfor\u001b[39;00m query \u001b[38;5;129;01min\u001b[39;00m queries:\n\u001b[0;32m----> 7\u001b[0m     geocode_result \u001b[38;5;241m=\u001b[39m gmaps\u001b[38;5;241m.\u001b[39mgeocode(query)\n\u001b[1;32m      8\u001b[0m     \u001b[38;5;28;01mif\u001b[39;00m geocode_result:\n\u001b[1;32m      9\u001b[0m         location \u001b[38;5;241m=\u001b[39m geocode_result[\u001b[38;5;241m0\u001b[39m][\u001b[38;5;124m'\u001b[39m\u001b[38;5;124mgeometry\u001b[39m\u001b[38;5;124m'\u001b[39m][\u001b[38;5;124m'\u001b[39m\u001b[38;5;124mlocation\u001b[39m\u001b[38;5;124m'\u001b[39m]\n",
      "File \u001b[0;32m/opt/anaconda3/lib/python3.11/site-packages/googlemaps/client.py:445\u001b[0m, in \u001b[0;36mmake_api_method.<locals>.wrapper\u001b[0;34m(*args, **kwargs)\u001b[0m\n\u001b[1;32m    442\u001b[0m \u001b[38;5;129m@functools\u001b[39m\u001b[38;5;241m.\u001b[39mwraps(func)\n\u001b[1;32m    443\u001b[0m \u001b[38;5;28;01mdef\u001b[39;00m \u001b[38;5;21mwrapper\u001b[39m(\u001b[38;5;241m*\u001b[39margs, \u001b[38;5;241m*\u001b[39m\u001b[38;5;241m*\u001b[39mkwargs):\n\u001b[1;32m    444\u001b[0m     args[\u001b[38;5;241m0\u001b[39m]\u001b[38;5;241m.\u001b[39m_extra_params \u001b[38;5;241m=\u001b[39m kwargs\u001b[38;5;241m.\u001b[39mpop(\u001b[38;5;124m\"\u001b[39m\u001b[38;5;124mextra_params\u001b[39m\u001b[38;5;124m\"\u001b[39m, \u001b[38;5;28;01mNone\u001b[39;00m)\n\u001b[0;32m--> 445\u001b[0m     result \u001b[38;5;241m=\u001b[39m func(\u001b[38;5;241m*\u001b[39margs, \u001b[38;5;241m*\u001b[39m\u001b[38;5;241m*\u001b[39mkwargs)\n\u001b[1;32m    446\u001b[0m     \u001b[38;5;28;01mtry\u001b[39;00m:\n\u001b[1;32m    447\u001b[0m         \u001b[38;5;28;01mdel\u001b[39;00m args[\u001b[38;5;241m0\u001b[39m]\u001b[38;5;241m.\u001b[39m_extra_params\n",
      "File \u001b[0;32m/opt/anaconda3/lib/python3.11/site-packages/googlemaps/geocoding.py:75\u001b[0m, in \u001b[0;36mgeocode\u001b[0;34m(client, address, place_id, components, bounds, region, language)\u001b[0m\n\u001b[1;32m     72\u001b[0m \u001b[38;5;28;01mif\u001b[39;00m language:\n\u001b[1;32m     73\u001b[0m     params[\u001b[38;5;124m\"\u001b[39m\u001b[38;5;124mlanguage\u001b[39m\u001b[38;5;124m\"\u001b[39m] \u001b[38;5;241m=\u001b[39m language\n\u001b[0;32m---> 75\u001b[0m \u001b[38;5;28;01mreturn\u001b[39;00m client\u001b[38;5;241m.\u001b[39m_request(\u001b[38;5;124m\"\u001b[39m\u001b[38;5;124m/maps/api/geocode/json\u001b[39m\u001b[38;5;124m\"\u001b[39m, params)\u001b[38;5;241m.\u001b[39mget(\u001b[38;5;124m\"\u001b[39m\u001b[38;5;124mresults\u001b[39m\u001b[38;5;124m\"\u001b[39m, [])\n",
      "File \u001b[0;32m/opt/anaconda3/lib/python3.11/site-packages/googlemaps/client.py:315\u001b[0m, in \u001b[0;36mClient._request\u001b[0;34m(self, url, params, first_request_time, retry_counter, base_url, accepts_clientid, extract_body, requests_kwargs, post_json)\u001b[0m\n\u001b[1;32m    312\u001b[0m     final_requests_kwargs[\u001b[38;5;124m\"\u001b[39m\u001b[38;5;124mjson\u001b[39m\u001b[38;5;124m\"\u001b[39m] \u001b[38;5;241m=\u001b[39m post_json\n\u001b[1;32m    314\u001b[0m \u001b[38;5;28;01mtry\u001b[39;00m:\n\u001b[0;32m--> 315\u001b[0m     response \u001b[38;5;241m=\u001b[39m requests_method(base_url \u001b[38;5;241m+\u001b[39m authed_url,\n\u001b[1;32m    316\u001b[0m                                \u001b[38;5;241m*\u001b[39m\u001b[38;5;241m*\u001b[39mfinal_requests_kwargs)\n\u001b[1;32m    317\u001b[0m \u001b[38;5;28;01mexcept\u001b[39;00m requests\u001b[38;5;241m.\u001b[39mexceptions\u001b[38;5;241m.\u001b[39mTimeout:\n\u001b[1;32m    318\u001b[0m     \u001b[38;5;28;01mraise\u001b[39;00m googlemaps\u001b[38;5;241m.\u001b[39mexceptions\u001b[38;5;241m.\u001b[39mTimeout()\n",
      "File \u001b[0;32m/opt/anaconda3/lib/python3.11/site-packages/requests/sessions.py:602\u001b[0m, in \u001b[0;36mSession.get\u001b[0;34m(self, url, **kwargs)\u001b[0m\n\u001b[1;32m    594\u001b[0m \u001b[38;5;250m\u001b[39m\u001b[38;5;124mr\u001b[39m\u001b[38;5;124;03m\"\"\"Sends a GET request. Returns :class:`Response` object.\u001b[39;00m\n\u001b[1;32m    595\u001b[0m \n\u001b[1;32m    596\u001b[0m \u001b[38;5;124;03m:param url: URL for the new :class:`Request` object.\u001b[39;00m\n\u001b[1;32m    597\u001b[0m \u001b[38;5;124;03m:param \\*\\*kwargs: Optional arguments that ``request`` takes.\u001b[39;00m\n\u001b[1;32m    598\u001b[0m \u001b[38;5;124;03m:rtype: requests.Response\u001b[39;00m\n\u001b[1;32m    599\u001b[0m \u001b[38;5;124;03m\"\"\"\u001b[39;00m\n\u001b[1;32m    601\u001b[0m kwargs\u001b[38;5;241m.\u001b[39msetdefault(\u001b[38;5;124m\"\u001b[39m\u001b[38;5;124mallow_redirects\u001b[39m\u001b[38;5;124m\"\u001b[39m, \u001b[38;5;28;01mTrue\u001b[39;00m)\n\u001b[0;32m--> 602\u001b[0m \u001b[38;5;28;01mreturn\u001b[39;00m \u001b[38;5;28mself\u001b[39m\u001b[38;5;241m.\u001b[39mrequest(\u001b[38;5;124m\"\u001b[39m\u001b[38;5;124mGET\u001b[39m\u001b[38;5;124m\"\u001b[39m, url, \u001b[38;5;241m*\u001b[39m\u001b[38;5;241m*\u001b[39mkwargs)\n",
      "File \u001b[0;32m/opt/anaconda3/lib/python3.11/site-packages/requests/sessions.py:589\u001b[0m, in \u001b[0;36mSession.request\u001b[0;34m(self, method, url, params, data, headers, cookies, files, auth, timeout, allow_redirects, proxies, hooks, stream, verify, cert, json)\u001b[0m\n\u001b[1;32m    584\u001b[0m send_kwargs \u001b[38;5;241m=\u001b[39m {\n\u001b[1;32m    585\u001b[0m     \u001b[38;5;124m\"\u001b[39m\u001b[38;5;124mtimeout\u001b[39m\u001b[38;5;124m\"\u001b[39m: timeout,\n\u001b[1;32m    586\u001b[0m     \u001b[38;5;124m\"\u001b[39m\u001b[38;5;124mallow_redirects\u001b[39m\u001b[38;5;124m\"\u001b[39m: allow_redirects,\n\u001b[1;32m    587\u001b[0m }\n\u001b[1;32m    588\u001b[0m send_kwargs\u001b[38;5;241m.\u001b[39mupdate(settings)\n\u001b[0;32m--> 589\u001b[0m resp \u001b[38;5;241m=\u001b[39m \u001b[38;5;28mself\u001b[39m\u001b[38;5;241m.\u001b[39msend(prep, \u001b[38;5;241m*\u001b[39m\u001b[38;5;241m*\u001b[39msend_kwargs)\n\u001b[1;32m    591\u001b[0m \u001b[38;5;28;01mreturn\u001b[39;00m resp\n",
      "File \u001b[0;32m/opt/anaconda3/lib/python3.11/site-packages/requests/sessions.py:703\u001b[0m, in \u001b[0;36mSession.send\u001b[0;34m(self, request, **kwargs)\u001b[0m\n\u001b[1;32m    700\u001b[0m start \u001b[38;5;241m=\u001b[39m preferred_clock()\n\u001b[1;32m    702\u001b[0m \u001b[38;5;66;03m# Send the request\u001b[39;00m\n\u001b[0;32m--> 703\u001b[0m r \u001b[38;5;241m=\u001b[39m adapter\u001b[38;5;241m.\u001b[39msend(request, \u001b[38;5;241m*\u001b[39m\u001b[38;5;241m*\u001b[39mkwargs)\n\u001b[1;32m    705\u001b[0m \u001b[38;5;66;03m# Total elapsed time of the request (approximately)\u001b[39;00m\n\u001b[1;32m    706\u001b[0m elapsed \u001b[38;5;241m=\u001b[39m preferred_clock() \u001b[38;5;241m-\u001b[39m start\n",
      "File \u001b[0;32m/opt/anaconda3/lib/python3.11/site-packages/requests/adapters.py:486\u001b[0m, in \u001b[0;36mHTTPAdapter.send\u001b[0;34m(self, request, stream, timeout, verify, cert, proxies)\u001b[0m\n\u001b[1;32m    483\u001b[0m     timeout \u001b[38;5;241m=\u001b[39m TimeoutSauce(connect\u001b[38;5;241m=\u001b[39mtimeout, read\u001b[38;5;241m=\u001b[39mtimeout)\n\u001b[1;32m    485\u001b[0m \u001b[38;5;28;01mtry\u001b[39;00m:\n\u001b[0;32m--> 486\u001b[0m     resp \u001b[38;5;241m=\u001b[39m conn\u001b[38;5;241m.\u001b[39murlopen(\n\u001b[1;32m    487\u001b[0m         method\u001b[38;5;241m=\u001b[39mrequest\u001b[38;5;241m.\u001b[39mmethod,\n\u001b[1;32m    488\u001b[0m         url\u001b[38;5;241m=\u001b[39murl,\n\u001b[1;32m    489\u001b[0m         body\u001b[38;5;241m=\u001b[39mrequest\u001b[38;5;241m.\u001b[39mbody,\n\u001b[1;32m    490\u001b[0m         headers\u001b[38;5;241m=\u001b[39mrequest\u001b[38;5;241m.\u001b[39mheaders,\n\u001b[1;32m    491\u001b[0m         redirect\u001b[38;5;241m=\u001b[39m\u001b[38;5;28;01mFalse\u001b[39;00m,\n\u001b[1;32m    492\u001b[0m         assert_same_host\u001b[38;5;241m=\u001b[39m\u001b[38;5;28;01mFalse\u001b[39;00m,\n\u001b[1;32m    493\u001b[0m         preload_content\u001b[38;5;241m=\u001b[39m\u001b[38;5;28;01mFalse\u001b[39;00m,\n\u001b[1;32m    494\u001b[0m         decode_content\u001b[38;5;241m=\u001b[39m\u001b[38;5;28;01mFalse\u001b[39;00m,\n\u001b[1;32m    495\u001b[0m         retries\u001b[38;5;241m=\u001b[39m\u001b[38;5;28mself\u001b[39m\u001b[38;5;241m.\u001b[39mmax_retries,\n\u001b[1;32m    496\u001b[0m         timeout\u001b[38;5;241m=\u001b[39mtimeout,\n\u001b[1;32m    497\u001b[0m         chunked\u001b[38;5;241m=\u001b[39mchunked,\n\u001b[1;32m    498\u001b[0m     )\n\u001b[1;32m    500\u001b[0m \u001b[38;5;28;01mexcept\u001b[39;00m (ProtocolError, \u001b[38;5;167;01mOSError\u001b[39;00m) \u001b[38;5;28;01mas\u001b[39;00m err:\n\u001b[1;32m    501\u001b[0m     \u001b[38;5;28;01mraise\u001b[39;00m \u001b[38;5;167;01mConnectionError\u001b[39;00m(err, request\u001b[38;5;241m=\u001b[39mrequest)\n",
      "File \u001b[0;32m/opt/anaconda3/lib/python3.11/site-packages/urllib3/connectionpool.py:791\u001b[0m, in \u001b[0;36mHTTPConnectionPool.urlopen\u001b[0;34m(self, method, url, body, headers, retries, redirect, assert_same_host, timeout, pool_timeout, release_conn, chunked, body_pos, preload_content, decode_content, **response_kw)\u001b[0m\n\u001b[1;32m    788\u001b[0m response_conn \u001b[38;5;241m=\u001b[39m conn \u001b[38;5;28;01mif\u001b[39;00m \u001b[38;5;129;01mnot\u001b[39;00m release_conn \u001b[38;5;28;01melse\u001b[39;00m \u001b[38;5;28;01mNone\u001b[39;00m\n\u001b[1;32m    790\u001b[0m \u001b[38;5;66;03m# Make the request on the HTTPConnection object\u001b[39;00m\n\u001b[0;32m--> 791\u001b[0m response \u001b[38;5;241m=\u001b[39m \u001b[38;5;28mself\u001b[39m\u001b[38;5;241m.\u001b[39m_make_request(\n\u001b[1;32m    792\u001b[0m     conn,\n\u001b[1;32m    793\u001b[0m     method,\n\u001b[1;32m    794\u001b[0m     url,\n\u001b[1;32m    795\u001b[0m     timeout\u001b[38;5;241m=\u001b[39mtimeout_obj,\n\u001b[1;32m    796\u001b[0m     body\u001b[38;5;241m=\u001b[39mbody,\n\u001b[1;32m    797\u001b[0m     headers\u001b[38;5;241m=\u001b[39mheaders,\n\u001b[1;32m    798\u001b[0m     chunked\u001b[38;5;241m=\u001b[39mchunked,\n\u001b[1;32m    799\u001b[0m     retries\u001b[38;5;241m=\u001b[39mretries,\n\u001b[1;32m    800\u001b[0m     response_conn\u001b[38;5;241m=\u001b[39mresponse_conn,\n\u001b[1;32m    801\u001b[0m     preload_content\u001b[38;5;241m=\u001b[39mpreload_content,\n\u001b[1;32m    802\u001b[0m     decode_content\u001b[38;5;241m=\u001b[39mdecode_content,\n\u001b[1;32m    803\u001b[0m     \u001b[38;5;241m*\u001b[39m\u001b[38;5;241m*\u001b[39mresponse_kw,\n\u001b[1;32m    804\u001b[0m )\n\u001b[1;32m    806\u001b[0m \u001b[38;5;66;03m# Everything went great!\u001b[39;00m\n\u001b[1;32m    807\u001b[0m clean_exit \u001b[38;5;241m=\u001b[39m \u001b[38;5;28;01mTrue\u001b[39;00m\n",
      "File \u001b[0;32m/opt/anaconda3/lib/python3.11/site-packages/urllib3/connectionpool.py:537\u001b[0m, in \u001b[0;36mHTTPConnectionPool._make_request\u001b[0;34m(self, conn, method, url, body, headers, retries, timeout, chunked, response_conn, preload_content, decode_content, enforce_content_length)\u001b[0m\n\u001b[1;32m    535\u001b[0m \u001b[38;5;66;03m# Receive the response from the server\u001b[39;00m\n\u001b[1;32m    536\u001b[0m \u001b[38;5;28;01mtry\u001b[39;00m:\n\u001b[0;32m--> 537\u001b[0m     response \u001b[38;5;241m=\u001b[39m conn\u001b[38;5;241m.\u001b[39mgetresponse()\n\u001b[1;32m    538\u001b[0m \u001b[38;5;28;01mexcept\u001b[39;00m (BaseSSLError, \u001b[38;5;167;01mOSError\u001b[39;00m) \u001b[38;5;28;01mas\u001b[39;00m e:\n\u001b[1;32m    539\u001b[0m     \u001b[38;5;28mself\u001b[39m\u001b[38;5;241m.\u001b[39m_raise_timeout(err\u001b[38;5;241m=\u001b[39me, url\u001b[38;5;241m=\u001b[39murl, timeout_value\u001b[38;5;241m=\u001b[39mread_timeout)\n",
      "File \u001b[0;32m/opt/anaconda3/lib/python3.11/site-packages/urllib3/connection.py:461\u001b[0m, in \u001b[0;36mHTTPConnection.getresponse\u001b[0;34m(self)\u001b[0m\n\u001b[1;32m    458\u001b[0m \u001b[38;5;28;01mfrom\u001b[39;00m \u001b[38;5;21;01m.\u001b[39;00m\u001b[38;5;21;01mresponse\u001b[39;00m \u001b[38;5;28;01mimport\u001b[39;00m HTTPResponse\n\u001b[1;32m    460\u001b[0m \u001b[38;5;66;03m# Get the response from http.client.HTTPConnection\u001b[39;00m\n\u001b[0;32m--> 461\u001b[0m httplib_response \u001b[38;5;241m=\u001b[39m \u001b[38;5;28msuper\u001b[39m()\u001b[38;5;241m.\u001b[39mgetresponse()\n\u001b[1;32m    463\u001b[0m \u001b[38;5;28;01mtry\u001b[39;00m:\n\u001b[1;32m    464\u001b[0m     assert_header_parsing(httplib_response\u001b[38;5;241m.\u001b[39mmsg)\n",
      "File \u001b[0;32m/opt/anaconda3/lib/python3.11/http/client.py:1386\u001b[0m, in \u001b[0;36mHTTPConnection.getresponse\u001b[0;34m(self)\u001b[0m\n\u001b[1;32m   1384\u001b[0m \u001b[38;5;28;01mtry\u001b[39;00m:\n\u001b[1;32m   1385\u001b[0m     \u001b[38;5;28;01mtry\u001b[39;00m:\n\u001b[0;32m-> 1386\u001b[0m         response\u001b[38;5;241m.\u001b[39mbegin()\n\u001b[1;32m   1387\u001b[0m     \u001b[38;5;28;01mexcept\u001b[39;00m \u001b[38;5;167;01mConnectionError\u001b[39;00m:\n\u001b[1;32m   1388\u001b[0m         \u001b[38;5;28mself\u001b[39m\u001b[38;5;241m.\u001b[39mclose()\n",
      "File \u001b[0;32m/opt/anaconda3/lib/python3.11/http/client.py:325\u001b[0m, in \u001b[0;36mHTTPResponse.begin\u001b[0;34m(self)\u001b[0m\n\u001b[1;32m    323\u001b[0m \u001b[38;5;66;03m# read until we get a non-100 response\u001b[39;00m\n\u001b[1;32m    324\u001b[0m \u001b[38;5;28;01mwhile\u001b[39;00m \u001b[38;5;28;01mTrue\u001b[39;00m:\n\u001b[0;32m--> 325\u001b[0m     version, status, reason \u001b[38;5;241m=\u001b[39m \u001b[38;5;28mself\u001b[39m\u001b[38;5;241m.\u001b[39m_read_status()\n\u001b[1;32m    326\u001b[0m     \u001b[38;5;28;01mif\u001b[39;00m status \u001b[38;5;241m!=\u001b[39m CONTINUE:\n\u001b[1;32m    327\u001b[0m         \u001b[38;5;28;01mbreak\u001b[39;00m\n",
      "File \u001b[0;32m/opt/anaconda3/lib/python3.11/http/client.py:286\u001b[0m, in \u001b[0;36mHTTPResponse._read_status\u001b[0;34m(self)\u001b[0m\n\u001b[1;32m    285\u001b[0m \u001b[38;5;28;01mdef\u001b[39;00m \u001b[38;5;21m_read_status\u001b[39m(\u001b[38;5;28mself\u001b[39m):\n\u001b[0;32m--> 286\u001b[0m     line \u001b[38;5;241m=\u001b[39m \u001b[38;5;28mstr\u001b[39m(\u001b[38;5;28mself\u001b[39m\u001b[38;5;241m.\u001b[39mfp\u001b[38;5;241m.\u001b[39mreadline(_MAXLINE \u001b[38;5;241m+\u001b[39m \u001b[38;5;241m1\u001b[39m), \u001b[38;5;124m\"\u001b[39m\u001b[38;5;124miso-8859-1\u001b[39m\u001b[38;5;124m\"\u001b[39m)\n\u001b[1;32m    287\u001b[0m     \u001b[38;5;28;01mif\u001b[39;00m \u001b[38;5;28mlen\u001b[39m(line) \u001b[38;5;241m>\u001b[39m _MAXLINE:\n\u001b[1;32m    288\u001b[0m         \u001b[38;5;28;01mraise\u001b[39;00m LineTooLong(\u001b[38;5;124m\"\u001b[39m\u001b[38;5;124mstatus line\u001b[39m\u001b[38;5;124m\"\u001b[39m)\n",
      "File \u001b[0;32m/opt/anaconda3/lib/python3.11/socket.py:706\u001b[0m, in \u001b[0;36mSocketIO.readinto\u001b[0;34m(self, b)\u001b[0m\n\u001b[1;32m    704\u001b[0m \u001b[38;5;28;01mwhile\u001b[39;00m \u001b[38;5;28;01mTrue\u001b[39;00m:\n\u001b[1;32m    705\u001b[0m     \u001b[38;5;28;01mtry\u001b[39;00m:\n\u001b[0;32m--> 706\u001b[0m         \u001b[38;5;28;01mreturn\u001b[39;00m \u001b[38;5;28mself\u001b[39m\u001b[38;5;241m.\u001b[39m_sock\u001b[38;5;241m.\u001b[39mrecv_into(b)\n\u001b[1;32m    707\u001b[0m     \u001b[38;5;28;01mexcept\u001b[39;00m timeout:\n\u001b[1;32m    708\u001b[0m         \u001b[38;5;28mself\u001b[39m\u001b[38;5;241m.\u001b[39m_timeout_occurred \u001b[38;5;241m=\u001b[39m \u001b[38;5;28;01mTrue\u001b[39;00m\n",
      "File \u001b[0;32m/opt/anaconda3/lib/python3.11/ssl.py:1315\u001b[0m, in \u001b[0;36mSSLSocket.recv_into\u001b[0;34m(self, buffer, nbytes, flags)\u001b[0m\n\u001b[1;32m   1311\u001b[0m     \u001b[38;5;28;01mif\u001b[39;00m flags \u001b[38;5;241m!=\u001b[39m \u001b[38;5;241m0\u001b[39m:\n\u001b[1;32m   1312\u001b[0m         \u001b[38;5;28;01mraise\u001b[39;00m \u001b[38;5;167;01mValueError\u001b[39;00m(\n\u001b[1;32m   1313\u001b[0m           \u001b[38;5;124m\"\u001b[39m\u001b[38;5;124mnon-zero flags not allowed in calls to recv_into() on \u001b[39m\u001b[38;5;132;01m%s\u001b[39;00m\u001b[38;5;124m\"\u001b[39m \u001b[38;5;241m%\u001b[39m\n\u001b[1;32m   1314\u001b[0m           \u001b[38;5;28mself\u001b[39m\u001b[38;5;241m.\u001b[39m\u001b[38;5;18m__class__\u001b[39m)\n\u001b[0;32m-> 1315\u001b[0m     \u001b[38;5;28;01mreturn\u001b[39;00m \u001b[38;5;28mself\u001b[39m\u001b[38;5;241m.\u001b[39mread(nbytes, buffer)\n\u001b[1;32m   1316\u001b[0m \u001b[38;5;28;01melse\u001b[39;00m:\n\u001b[1;32m   1317\u001b[0m     \u001b[38;5;28;01mreturn\u001b[39;00m \u001b[38;5;28msuper\u001b[39m()\u001b[38;5;241m.\u001b[39mrecv_into(buffer, nbytes, flags)\n",
      "File \u001b[0;32m/opt/anaconda3/lib/python3.11/ssl.py:1167\u001b[0m, in \u001b[0;36mSSLSocket.read\u001b[0;34m(self, len, buffer)\u001b[0m\n\u001b[1;32m   1165\u001b[0m \u001b[38;5;28;01mtry\u001b[39;00m:\n\u001b[1;32m   1166\u001b[0m     \u001b[38;5;28;01mif\u001b[39;00m buffer \u001b[38;5;129;01mis\u001b[39;00m \u001b[38;5;129;01mnot\u001b[39;00m \u001b[38;5;28;01mNone\u001b[39;00m:\n\u001b[0;32m-> 1167\u001b[0m         \u001b[38;5;28;01mreturn\u001b[39;00m \u001b[38;5;28mself\u001b[39m\u001b[38;5;241m.\u001b[39m_sslobj\u001b[38;5;241m.\u001b[39mread(\u001b[38;5;28mlen\u001b[39m, buffer)\n\u001b[1;32m   1168\u001b[0m     \u001b[38;5;28;01melse\u001b[39;00m:\n\u001b[1;32m   1169\u001b[0m         \u001b[38;5;28;01mreturn\u001b[39;00m \u001b[38;5;28mself\u001b[39m\u001b[38;5;241m.\u001b[39m_sslobj\u001b[38;5;241m.\u001b[39mread(\u001b[38;5;28mlen\u001b[39m)\n",
      "\u001b[0;31mKeyboardInterrupt\u001b[0m: "
     ]
    }
   ],
   "source": [
    "def get_top_200_traffic_roads(road_list):\n",
    "    # Step 1: Clean and deduplicate the roads\n",
    "    unique_roads = deduplicate_roads(road_list)\n",
    "\n",
    "    # Step 2: Rank the roads by traffic\n",
    "    top_200_roads = rank_roads_by_traffic(unique_roads)\n",
    "    \n",
    "    return top_200_roads\n",
    "\n",
    "# Get top 200 roads with the highest traffic\n",
    "top_200_roads = get_top_200_traffic_roads(all_roads)\n",
    "\n",
    "# Display the results\n",
    "for road, traffic in top_200_roads:\n",
    "    print(f\"{road}: {traffic} seconds of traffic delay\")\n"
   ]
  },
  {
   "cell_type": "code",
   "execution_count": 52,
   "metadata": {},
   "outputs": [
    {
     "data": {
      "text/plain": [
       "200"
      ]
     },
     "execution_count": 52,
     "metadata": {},
     "output_type": "execute_result"
    }
   ],
   "source": [
    "len(top_200_roads)"
   ]
  },
  {
   "cell_type": "markdown",
   "metadata": {},
   "source": [
    "## Continue after taking the name of the roads to check the roads and minimize the number"
   ]
  },
  {
   "cell_type": "code",
   "execution_count": 82,
   "metadata": {},
   "outputs": [
    {
     "name": "stdout",
     "output_type": "stream",
     "text": [
      "20790\n"
     ]
    }
   ],
   "source": [
    "with open(\"unique_road_names.txt\", \"r\") as f:\n",
    "    loaded_road_names = set(line.strip() for line in f)\n",
    "\n",
    "print(len(loaded_road_names))\n"
   ]
  },
  {
   "cell_type": "markdown",
   "metadata": {},
   "source": [
    "## The rest"
   ]
  },
  {
   "cell_type": "code",
   "execution_count": 38,
   "metadata": {},
   "outputs": [],
   "source": [
    "# def get_popular_places(location='Riyadh', radius=20000, place_type='tourist_attraction'):\n",
    "#     try:\n",
    "#         places_result = gmaps.places_nearby(location=location, radius=radius, type=place_type)\n",
    "#         places = []\n",
    "#         while places_result:\n",
    "#             places.extend(places_result['results'])\n",
    "#             if 'next_page_token' not in places_result:\n",
    "#                 break\n",
    "#             else:\n",
    "#                 next_page_token = places_result['next_page_token']\n",
    "#                 time.sleep(2)  # Add a 2-second delay to avoid rate limiting\n",
    "#                 places_result = gmaps.places_nearby(location=location, radius=radius, type=place_type, page_token=next_page_token)\n",
    "#         return places\n",
    "#     except googlemaps.exceptions.ApiError as e:\n",
    "#         print(f\"API Error: {e}\")\n",
    "#     except Exception as e:\n",
    "#         print(f\"Error: {e}\")\n",
    "#     return []\n"
   ]
  },
  {
   "cell_type": "code",
   "execution_count": 39,
   "metadata": {},
   "outputs": [],
   "source": [
    "# # Get popular places in Riyadh\n",
    "# location = {'lat': 24.7136, 'lng': 46.6753}  # Coordinates for Riyadh\n",
    "# popular_places = get_popular_places(location=location)\n",
    "# place_names = [place['name'] + ', Riyadh' for place in popular_places]\n",
    "\n",
    "# # Generate pairs of origin and destination\n",
    "# directions = [(origin, destination) for origin in place_names for destination in place_names if origin != destination]"
   ]
  },
  {
   "cell_type": "code",
   "execution_count": 19,
   "metadata": {},
   "outputs": [],
   "source": [
    "# Function to get traffic data\n",
    "def get_traffic_data(origin, destination):\n",
    "    try:\n",
    "        directions_result = gmaps.directions(origin, destination, departure_time='now')\n",
    "        route = directions_result[0]['legs'][0]\n",
    "        traffic_data = {\n",
    "            'route_id': f\"{origin}_{destination}_{datetime.now().strftime('%Y%m%d%H%M%S')}\",\n",
    "            'origin': origin,\n",
    "            'destination': destination,\n",
    "            'distance_km': route['distance']['value'] / 1000,\n",
    "            'duration_min': route['duration']['value'] / 60,\n",
    "            'duration_in_traffic_min': route['duration_in_traffic']['value'] / 60,\n",
    "            'departure_time': datetime.now().isoformat(),\n",
    "            'traffic_condition': 'N/A',  # This needs to be determined based on speed and delay\n",
    "            'speed_kmh': (route['distance']['value'] / 1000) / (route['duration_in_traffic']['value'] / 3600),\n",
    "            'delay_min': (route['duration_in_traffic']['value'] - route['duration']['value']) / 60,\n",
    "            'timestamp': datetime.now().isoformat(),\n",
    "            'day_of_week': datetime.now().strftime('%A'),\n",
    "            'time_of_day': datetime.now().strftime('%p')  # AM/PM format for time of day\n",
    "        }\n",
    "        return traffic_data\n",
    "    except Exception as e:\n",
    "        print(f\"Error fetching data for {origin} to {destination}: {e}\")\n",
    "        return None"
   ]
  },
  {
   "cell_type": "code",
   "execution_count": null,
   "metadata": {},
   "outputs": [],
   "source": [
    "\n",
    "# Initialize data lists\n",
    "routes_list = []\n",
    "traffic_conditions_list = []\n",
    "points_of_interest_list = []\n",
    "traffic_data_list = []\n",
    "\n",
    "# Collect data\n",
    "poi_id_counter = 1\n",
    "for origin, destination in directions:\n",
    "    route_data = get_traffic_data(origin, destination)\n",
    "    if route_data:\n",
    "        # Add route to routes_list\n",
    "        route_id = route_data['route_id']\n",
    "        if route_id not in [route['route_id'] for route in routes_list]:\n",
    "            routes_list.append({\n",
    "                'route_id': route_id,\n",
    "                'origin': origin,\n",
    "                'destination': destination,\n",
    "                'distance_km': route_data['distance_km']\n",
    "            })\n",
    "        \n",
    "        # Add traffic condition to traffic_conditions_list\n",
    "        traffic_condition_id = len(traffic_conditions_list) + 1\n",
    "        traffic_conditions_list.append({\n",
    "            'condition_id': traffic_condition_id,\n",
    "            'route_id': route_id,\n",
    "            'duration_min': route_data['duration_min'],\n",
    "            'duration_in_traffic_min': route_data['duration_in_traffic_min'],\n",
    "            'departure_time': route_data['departure_time'],\n",
    "            'speed_kmh': route_data['speed_kmh'],\n",
    "            'delay_min': route_data['delay_min'],\n",
    "            'timestamp': route_data['timestamp'],\n",
    "            'day_of_week': route_data['day_of_week'],\n",
    "            'time_of_day': route_data['time_of_day']\n",
    "        })\n",
    "        \n",
    "        # Add points of interest to points_of_interest_list\n",
    "        for place in popular_places:\n",
    "            poi_name = place['name']\n",
    "            if poi_name not in [poi['poi_name'] for poi in points_of_interest_list]:\n",
    "                points_of_interest_list.append({\n",
    "                    'poi_id': poi_id_counter,\n",
    "                    'route_id': route_id,\n",
    "                    'poi_name': poi_name,\n",
    "                    'poi_type': place.get('types', ['unknown'])[0],\n",
    "                    'poi_distance_m': place.get('distance', 'N/A'),  # Placeholder for distance\n",
    "                    'poi_impact': 'N/A'  # Placeholder for impact\n",
    "                })\n",
    "                poi_id_counter += 1\n",
    "        \n",
    "        # Add traffic data to traffic_data_list\n",
    "        traffic_data_list.append({\n",
    "            'data_id': len(traffic_data_list) + 1,\n",
    "            'route_id': route_id,\n",
    "            'condition_id': traffic_condition_id,\n",
    "            'poi_id': poi_id_counter - 1  # Assuming the last added POI is relevant\n",
    "        })\n",
    "        \n",
    "        if len(traffic_data_list) >= 20000:\n",
    "            break\n",
    "\n",
    "# Convert to DataFrame\n",
    "routes_df = pd.DataFrame(routes_list)\n",
    "traffic_conditions_df = pd.DataFrame(traffic_conditions_list)\n",
    "points_of_interest_df = pd.DataFrame(points_of_interest_list)\n",
    "traffic_data_df = pd.DataFrame(traffic_data_list)\n",
    "\n",
    "# Display DataFrames\n",
    "print(\"Routes:\")\n",
    "print(routes_df.head())\n",
    "print(\"\\nTraffic Conditions:\")\n",
    "print(traffic_conditions_df.head())\n",
    "print(\"\\nPoints of Interest:\")\n",
    "print(points_of_interest_df.head())\n",
    "print(\"\\nTraffic Data:\")\n",
    "print(traffic_data_df.head())\n",
    "\n",
    "# Save data to CSV\n",
    "routes_df.to_csv('routes.csv', index=False)\n",
    "traffic_conditions_df.to_csv('traffic_conditions.csv', index=False)\n",
    "points_of_interest_df.to_csv('points_of_interest.csv', index=False)\n",
    "traffic_data_df.to_csv('traffic_data.csv', index=False)\n"
   ]
  }
 ],
 "metadata": {
  "kernelspec": {
   "display_name": "base",
   "language": "python",
   "name": "python3"
  },
  "language_info": {
   "codemirror_mode": {
    "name": "ipython",
    "version": 3
   },
   "file_extension": ".py",
   "mimetype": "text/x-python",
   "name": "python",
   "nbconvert_exporter": "python",
   "pygments_lexer": "ipython3",
   "version": "3.11.7"
  }
 },
 "nbformat": 4,
 "nbformat_minor": 2
}
