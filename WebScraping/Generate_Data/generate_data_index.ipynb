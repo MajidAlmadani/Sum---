{
 "cells": [
  {
   "cell_type": "markdown",
   "metadata": {},
   "source": [
    "## Import & Initialize"
   ]
  },
  {
   "cell_type": "code",
   "execution_count": 14,
   "metadata": {},
   "outputs": [],
   "source": [
    "import os\n",
    "import time\n",
    "from datetime import datetime\n",
    "from dotenv import load_dotenv\n",
    "\n",
    "import googlemaps\n",
    "import gmplot\n",
    "\n",
    "import pandas as pd\n",
    "\n",
    "from io import StringIO\n",
    "import uuid\n",
    "import ast"
   ]
  },
  {
   "cell_type": "code",
   "execution_count": 15,
   "metadata": {},
   "outputs": [],
   "source": [
    "load_dotenv()\n",
    "API_KEY = os.getenv('GOOGLE_MAPS_API_KEY_3')"
   ]
  },
  {
   "cell_type": "code",
   "execution_count": 16,
   "metadata": {},
   "outputs": [],
   "source": [
    "gmaps = googlemaps.Client(key=API_KEY)"
   ]
  },
  {
   "cell_type": "code",
   "execution_count": 17,
   "metadata": {},
   "outputs": [],
   "source": [
    "df = pd.read_csv('filtered_road_names.csv')\n",
    "# df.head()"
   ]
  },
  {
   "cell_type": "code",
   "execution_count": 19,
   "metadata": {},
   "outputs": [],
   "source": [
    "# df.duplicated().sum()"
   ]
  },
  {
   "cell_type": "code",
   "execution_count": 20,
   "metadata": {},
   "outputs": [],
   "source": [
    "# df.info()"
   ]
  },
  {
   "cell_type": "code",
   "execution_count": 21,
   "metadata": {},
   "outputs": [],
   "source": [
    "df = df[(df['Distance (km)'] <= 81) & (df['Distance (km)'] >= 7)]"
   ]
  },
  {
   "cell_type": "markdown",
   "metadata": {},
   "source": [
    "## Code"
   ]
  },
  {
   "cell_type": "code",
   "execution_count": 30,
   "metadata": {},
   "outputs": [
    {
     "name": "stdout",
     "output_type": "stream",
     "text": [
      "Traffic data saved as 'traffic_data_20240918_171831_fad6e4df-f7b7-423a-bee6-560c7a190ef3.csv'.\n"
     ]
    }
   ],
   "source": [
    "gmaps = googlemaps.Client(key=API_KEY)\n",
    "df = pd.read_csv('filtered_road_names.csv')\n",
    "\n",
    "\n",
    "def determine_traffic_color(delay, duration):\n",
    "    if delay < 0.05 * duration:\n",
    "        return 'Blue'\n",
    "    elif delay < 0.20 * duration:\n",
    "        return 'Yellow'\n",
    "    elif delay < 0.50 * duration:\n",
    "        return 'Orange'\n",
    "    elif delay < 1.00 * duration:\n",
    "        return 'Red'\n",
    "    else:\n",
    "        return 'Dark Red'\n",
    "\n",
    "def get_traffic_data_from_dataframe(gmaps_client, start_lat, start_lng, end_lat, end_lng, road_name, city='Riyadh'):\n",
    "    origin = f\"{start_lat},{start_lng}\"\n",
    "    destination = f\"{end_lat},{end_lng}\"\n",
    "    \n",
    "    try:\n",
    "        directions_result = gmaps_client.directions(\n",
    "            origin, destination, mode=\"driving\", departure_time=\"now\", traffic_model=\"best_guess\"\n",
    "        )\n",
    "\n",
    "        if not directions_result:\n",
    "            return None\n",
    "\n",
    "        route = directions_result[0]['legs'][0]\n",
    "        duration_in_traffic_min = route['duration_in_traffic']['value'] / 60\n",
    "        distance_km = route['distance']['value'] / 1000\n",
    "        speed_kmh = distance_km / (duration_in_traffic_min / 60)\n",
    "        delay_min = (route['duration_in_traffic']['value'] - route['duration']['value']) / 60\n",
    "        traffic_condition = determine_traffic_color(delay_min, route['duration']['value'] / 60)\n",
    "        timestamp = datetime.now().isoformat()\n",
    "        \n",
    "        return {\n",
    "            'road_name': road_name,\n",
    "            'distance_km': distance_km,\n",
    "            'duration_in_traffic_min': duration_in_traffic_min,\n",
    "            'speed_kmh': speed_kmh,\n",
    "            'delay_min': delay_min,\n",
    "            'traffic_condition': traffic_condition,\n",
    "            'timestamp': timestamp,\n",
    "            'Start_point': (start_lat, start_lng),\n",
    "            'End_point': (end_lat, end_lng),\n",
    "        }\n",
    "    except Exception as e:\n",
    "        print(f\"Error fetching traffic data for {road_name}: {e}\")\n",
    "        return None\n",
    "\n",
    "def generate_data_from_dataframe(csv_file, gmaps_client):\n",
    "    df = pd.read_csv(csv_file)\n",
    "    \n",
    "    traffic_data_list = []\n",
    "    df['Start_point'] = df['Start_point'].apply(ast.literal_eval)\n",
    "    df['End_point'] = df['End_point'].apply(ast.literal_eval)\n",
    "    \n",
    "    for _, row in df.iterrows():\n",
    "        road_name = row['Road Name']\n",
    "        start_lat,start_lng = row['Start_point']\n",
    "        end_lat,end_lng = row['End_point']\n",
    "        \n",
    "        traffic_data = get_traffic_data_from_dataframe(gmaps_client, start_lat, start_lng, end_lat, end_lng, road_name)\n",
    "        \n",
    "        if traffic_data:\n",
    "            traffic_data_list.append(traffic_data)\n",
    "\n",
    "    if traffic_data_list:\n",
    "        traffic_df = pd.DataFrame(traffic_data_list)\n",
    "        \n",
    "        timestamp = datetime.now().strftime(\"%Y%m%d_%H%M%S\")\n",
    "        unique_filename = f\"traffic_data_{timestamp}_{uuid.uuid4()}.csv\"\n",
    "        \n",
    "        traffic_df.to_csv(unique_filename, index=False)\n",
    "        \n",
    "        print(f\"Traffic data saved as '{unique_filename}'.\")\n",
    "\n",
    "generate_data_from_dataframe('filtered_road_names.csv', gmaps)\n"
   ]
  },
  {
   "cell_type": "code",
   "execution_count": null,
   "metadata": {},
   "outputs": [],
   "source": []
  }
 ],
 "metadata": {
  "kernelspec": {
   "display_name": "base",
   "language": "python",
   "name": "python3"
  },
  "language_info": {
   "codemirror_mode": {
    "name": "ipython",
    "version": 3
   },
   "file_extension": ".py",
   "mimetype": "text/x-python",
   "name": "python",
   "nbconvert_exporter": "python",
   "pygments_lexer": "ipython3",
   "version": "3.11.7"
  }
 },
 "nbformat": 4,
 "nbformat_minor": 2
}
