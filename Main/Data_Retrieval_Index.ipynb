{
 "cells": [
  {
   "cell_type": "markdown",
   "metadata": {},
   "source": [
    "# Retrieving Video"
   ]
  },
  {
   "cell_type": "code",
   "execution_count": null,
   "metadata": {},
   "outputs": [],
   "source": [
    "import boto3\n",
    "import cv2\n",
    "import os\n",
    "import tempfile\n",
    "\n",
    "# Initialize the S3 client\n",
    "s3_client = boto3.client('s3')\n",
    "\n",
    "# Specify the S3 bucket and video file key\n",
    "bucket_name = 'savingbuckett5'\n",
    "s3_file_key = 'Video-Processing/sample.mp4'\n",
    "\n",
    "try:\n",
    "    # Create a temporary file to save the video from S3\n",
    "    with tempfile.NamedTemporaryFile(suffix=\".mp4\", delete=False) as temp_video_file:\n",
    "        temp_video_path = temp_video_file.name\n",
    "        \n",
    "        s3_client.download_file(bucket_name, s3_file_key, temp_video_path)\n",
    "\n",
    "    video_capture = cv2.VideoCapture(temp_video_path)\n",
    "\n",
    "    if not video_capture.isOpened():\n",
    "        print(\"Error opening video stream or file\")\n",
    "        exit()\n",
    "\n",
    "    while video_capture.isOpened():\n",
    "        ret, frame = video_capture.read()\n",
    "        \n",
    "        if ret:\n",
    "            cv2.imshow('Video', frame)\n",
    "\n",
    "            if cv2.waitKey(25) & 0xFF == ord('q'):\n",
    "                break\n",
    "        else:\n",
    "            break\n",
    "\n",
    "    video_capture.release()\n",
    "    cv2.destroyAllWindows()\n",
    "\n",
    "    os.remove(temp_video_path)\n",
    "\n",
    "except Exception as e:\n",
    "    print(f\"Error reading video from S3: {str(e)}\")\n"
   ]
  },
  {
   "cell_type": "markdown",
   "metadata": {},
   "source": [
    "# Retrieving Dataframe"
   ]
  },
  {
   "cell_type": "code",
   "execution_count": 2,
   "metadata": {},
   "outputs": [
    {
     "name": "stdout",
     "output_type": "stream",
     "text": [
      "Connected to the database!\n",
      "Connection closed.\n"
     ]
    }
   ],
   "source": [
    "import pymysql\n",
    "import pandas as pd\n",
    "\n",
    "RDS_HOST = \"\"\n",
    "RDS_PORT = 3306  # MySQL default port\n",
    "DB_USER = \"\"\n",
    "DB_PASSWORD = \"\"\n",
    "DB_NAME = \"\"\n",
    "\n",
    "# SQL Query to retrieve data\n",
    "query = \"SELECT * FROM traffic_data\"  # Replace with your table name\n",
    "\n",
    "# Connect to the RDS MySQL instance\n",
    "try:\n",
    "    connection = pymysql.connect(\n",
    "        host=RDS_HOST,\n",
    "        port=RDS_PORT,\n",
    "        user=DB_USER,\n",
    "        password=DB_PASSWORD,\n",
    "        database=DB_NAME,\n",
    "        cursorclass=pymysql.cursors.DictCursor  # Fetches the result as a dictionary\n",
    "    )\n",
    "    print(\"Connected to the database!\")\n",
    "\n",
    "    # Execute the query and fetch the data\n",
    "    with connection.cursor() as cursor:\n",
    "        cursor.execute(query)\n",
    "        results = cursor.fetchall()  # Fetch all rows from the table\n",
    "        \n",
    "        # Convert the query results into a Pandas DataFrame\n",
    "        df = pd.DataFrame(results)\n",
    "\n",
    "except pymysql.MySQLError as e:\n",
    "    print(f\"Error: {e}\")\n",
    "\n",
    "finally:\n",
    "    if connection:\n",
    "        connection.close()\n",
    "        print(\"Connection closed.\")\n"
   ]
  },
  {
   "cell_type": "code",
   "execution_count": 6,
   "metadata": {},
   "outputs": [
    {
     "data": {
      "text/plain": [
       "array([b'\\x00\\x00\\x00\\x00\\x01\\x01\\x00\\x00\\x00\\x9a\\x1c\\x88v_\\xd58@4\\xb0U\\x82\\xc5uG@'],\n",
       "      dtype=object)"
      ]
     },
     "execution_count": 6,
     "metadata": {},
     "output_type": "execute_result"
    }
   ],
   "source": [
    "df.head(1)['start_point'].values"
   ]
  },
  {
   "cell_type": "code",
   "execution_count": null,
   "metadata": {},
   "outputs": [],
   "source": []
  }
 ],
 "metadata": {
  "kernelspec": {
   "display_name": "base",
   "language": "python",
   "name": "python3"
  },
  "language_info": {
   "codemirror_mode": {
    "name": "ipython",
    "version": 3
   },
   "file_extension": ".py",
   "mimetype": "text/x-python",
   "name": "python",
   "nbconvert_exporter": "python",
   "pygments_lexer": "ipython3",
   "version": "3.11.7"
  }
 },
 "nbformat": 4,
 "nbformat_minor": 2
}
