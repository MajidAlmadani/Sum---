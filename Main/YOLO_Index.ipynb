{
 "cells": [
  {
   "cell_type": "markdown",
   "metadata": {},
   "source": [
    "# Setup Environment"
   ]
  },
  {
   "cell_type": "code",
   "execution_count": null,
   "metadata": {},
   "outputs": [],
   "source": [
    "!pip install ultralytics"
   ]
  },
  {
   "cell_type": "code",
   "execution_count": null,
   "metadata": {},
   "outputs": [],
   "source": [
    "from ultralytics import YOLO\n",
    "import yaml"
   ]
  },
  {
   "cell_type": "markdown",
   "metadata": {},
   "source": [
    "# Data Preparing"
   ]
  },
  {
   "cell_type": "code",
   "execution_count": null,
   "metadata": {},
   "outputs": [],
   "source": [
    "def create_data_yaml(train_path, val_path, num_classes, class_names, output_path='data.yaml'):\n",
    "    \"\"\"\n",
    "    Creates a 'data.yaml' file to be used for training a model, specifying paths for the \n",
    "    training and validation datasets, number of classes, and class names.\n",
    "\n",
    "    Args:\n",
    "    - train_path (str): Path to the training dataset images.\n",
    "    - val_path (str): Path to the validation dataset images.\n",
    "    - num_classes (int): Number of classes in the dataset.\n",
    "    - class_names (list): List of class names.\n",
    "    - output_path (str, optional): Path where the 'data.yaml' file will be saved. Default is 'data.yaml'.\n",
    "\n",
    "    Returns:\n",
    "    - None: This function writes to a file and does not return any value.\n",
    "    \"\"\"\n",
    "    with open(output_path, 'w') as f:\n",
    "        f.write(f\"train: {train_path}\\n\")\n",
    "        f.write(f\"val: {val_path}\\n\")\n",
    "        f.write(f\"nc: {num_classes}\\n\")\n",
    "        f.write(f\"names: {class_names}\\n\")\n",
    "    print(f\"data.yaml created at {output_path}\")\n",
    "\n",
    "\n",
    "train_path = \"License-Plates.v1i.yolov8/train/images\" \n",
    "val_path = \"License-Plates.v1i.yolov8/valid/images\"    \n",
    "num_classes = int(\"1\") \n",
    "class_names = \"license_plate\".split(',')\n",
    "\n",
    "class_names = [name.strip() for name in class_names]\n",
    "\n",
    "create_data_yaml(train_path, val_path, num_classes, class_names, output_path='data.yaml')\n",
    "\n",
    "yaml_path = 'data.yaml'\n",
    "\n",
    "with open(yaml_path, 'r') as f:\n",
    "    data = f.read() \n",
    "    print(data)\n"
   ]
  },
  {
   "cell_type": "markdown",
   "metadata": {},
   "source": [
    "# Model Fine-Tuning"
   ]
  },
  {
   "cell_type": "code",
   "execution_count": null,
   "metadata": {},
   "outputs": [],
   "source": [
    "model = YOLO('/content/license_plate_detector.pt')\n",
    "\n",
    "model.train(data=data, epochs=5, imgsz=100, batch=32)\n",
    "\n",
    "model.save('fine_tuned_linecne_plate.pt')\n"
   ]
  },
  {
   "cell_type": "markdown",
   "metadata": {},
   "source": [
    "# Model Evaluate"
   ]
  },
  {
   "cell_type": "code",
   "execution_count": null,
   "metadata": {},
   "outputs": [],
   "source": [
    "results = model.val(data='/content/vehicle-and-license-plate-3/data.yaml', imgsz=640)\n",
    "\n",
    "results_dict = results.results_dict\n",
    "print(f\"Precision: {results_dict['metrics/precision(B)']:.4f}\")\n",
    "print(f\"Recall: {results_dict['metrics/recall(B)']:.4f}\")\n",
    "print(f\"mAP@0.5: {results_dict['metrics/mAP50(B)']:.4f}\")\n",
    "print(f\"mAP@0.5:0.95: {results_dict['metrics/mAP50-95(B)']:.4f}\")\n",
    "print(f\"F1 Score: {2 * (results_dict['metrics/precision(B)'] * results_dict['metrics/recall(B)']) / (results_dict['metrics/precision(B)'] + results_dict['metrics/recall(B)']):.4f}\")"
   ]
  }
 ],
 "metadata": {
  "kernelspec": {
   "display_name": "base",
   "language": "python",
   "name": "python3"
  },
  "language_info": {
   "name": "python",
   "version": "3.11.7"
  }
 },
 "nbformat": 4,
 "nbformat_minor": 2
}
