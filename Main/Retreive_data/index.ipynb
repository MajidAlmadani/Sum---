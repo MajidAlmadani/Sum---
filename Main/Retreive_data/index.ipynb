{
 "cells": [
  {
   "cell_type": "markdown",
   "metadata": {},
   "source": [
    "## Downloading the File"
   ]
  },
  {
   "cell_type": "code",
   "execution_count": 8,
   "metadata": {},
   "outputs": [
    {
     "ename": "KeyboardInterrupt",
     "evalue": "",
     "output_type": "error",
     "traceback": [
      "\u001b[0;31m---------------------------------------------------------------------------\u001b[0m",
      "\u001b[0;31mKeyboardInterrupt\u001b[0m                         Traceback (most recent call last)",
      "Cell \u001b[0;32mIn[8], line 11\u001b[0m\n\u001b[1;32m      8\u001b[0m local_file_name \u001b[38;5;241m=\u001b[39m \u001b[38;5;124m'\u001b[39m\u001b[38;5;124msample.mp4\u001b[39m\u001b[38;5;124m'\u001b[39m\n\u001b[1;32m     10\u001b[0m \u001b[38;5;28;01mtry\u001b[39;00m:\n\u001b[0;32m---> 11\u001b[0m     s3_client\u001b[38;5;241m.\u001b[39mdownload_file(bucket_name, s3_file_key, local_file_name)\n\u001b[1;32m     12\u001b[0m     \u001b[38;5;28mprint\u001b[39m(\u001b[38;5;124mf\u001b[39m\u001b[38;5;124m\"\u001b[39m\u001b[38;5;124mFile \u001b[39m\u001b[38;5;124m'\u001b[39m\u001b[38;5;132;01m{\u001b[39;00ms3_file_key\u001b[38;5;132;01m}\u001b[39;00m\u001b[38;5;124m'\u001b[39m\u001b[38;5;124m downloaded successfully from \u001b[39m\u001b[38;5;124m'\u001b[39m\u001b[38;5;132;01m{\u001b[39;00mbucket_name\u001b[38;5;132;01m}\u001b[39;00m\u001b[38;5;124m'\u001b[39m\u001b[38;5;124m and saved as \u001b[39m\u001b[38;5;124m'\u001b[39m\u001b[38;5;132;01m{\u001b[39;00mlocal_file_name\u001b[38;5;132;01m}\u001b[39;00m\u001b[38;5;124m'\u001b[39m\u001b[38;5;124m.\u001b[39m\u001b[38;5;124m\"\u001b[39m)\n\u001b[1;32m     13\u001b[0m \u001b[38;5;28;01mexcept\u001b[39;00m \u001b[38;5;167;01mException\u001b[39;00m \u001b[38;5;28;01mas\u001b[39;00m e:\n",
      "File \u001b[0;32m/opt/anaconda3/lib/python3.11/site-packages/boto3/s3/inject.py:192\u001b[0m, in \u001b[0;36mdownload_file\u001b[0;34m(self, Bucket, Key, Filename, ExtraArgs, Callback, Config)\u001b[0m\n\u001b[1;32m    157\u001b[0m \u001b[38;5;250m\u001b[39m\u001b[38;5;124;03m\"\"\"Download an S3 object to a file.\u001b[39;00m\n\u001b[1;32m    158\u001b[0m \n\u001b[1;32m    159\u001b[0m \u001b[38;5;124;03mUsage::\u001b[39;00m\n\u001b[0;32m   (...)\u001b[0m\n\u001b[1;32m    189\u001b[0m \u001b[38;5;124;03m    transfer.\u001b[39;00m\n\u001b[1;32m    190\u001b[0m \u001b[38;5;124;03m\"\"\"\u001b[39;00m\n\u001b[1;32m    191\u001b[0m \u001b[38;5;28;01mwith\u001b[39;00m S3Transfer(\u001b[38;5;28mself\u001b[39m, Config) \u001b[38;5;28;01mas\u001b[39;00m transfer:\n\u001b[0;32m--> 192\u001b[0m     \u001b[38;5;28;01mreturn\u001b[39;00m transfer\u001b[38;5;241m.\u001b[39mdownload_file(\n\u001b[1;32m    193\u001b[0m         bucket\u001b[38;5;241m=\u001b[39mBucket,\n\u001b[1;32m    194\u001b[0m         key\u001b[38;5;241m=\u001b[39mKey,\n\u001b[1;32m    195\u001b[0m         filename\u001b[38;5;241m=\u001b[39mFilename,\n\u001b[1;32m    196\u001b[0m         extra_args\u001b[38;5;241m=\u001b[39mExtraArgs,\n\u001b[1;32m    197\u001b[0m         callback\u001b[38;5;241m=\u001b[39mCallback,\n\u001b[1;32m    198\u001b[0m     )\n",
      "File \u001b[0;32m/opt/anaconda3/lib/python3.11/site-packages/boto3/s3/transfer.py:406\u001b[0m, in \u001b[0;36mS3Transfer.download_file\u001b[0;34m(self, bucket, key, filename, extra_args, callback)\u001b[0m\n\u001b[1;32m    402\u001b[0m future \u001b[38;5;241m=\u001b[39m \u001b[38;5;28mself\u001b[39m\u001b[38;5;241m.\u001b[39m_manager\u001b[38;5;241m.\u001b[39mdownload(\n\u001b[1;32m    403\u001b[0m     bucket, key, filename, extra_args, subscribers\n\u001b[1;32m    404\u001b[0m )\n\u001b[1;32m    405\u001b[0m \u001b[38;5;28;01mtry\u001b[39;00m:\n\u001b[0;32m--> 406\u001b[0m     future\u001b[38;5;241m.\u001b[39mresult()\n\u001b[1;32m    407\u001b[0m \u001b[38;5;66;03m# This is for backwards compatibility where when retries are\u001b[39;00m\n\u001b[1;32m    408\u001b[0m \u001b[38;5;66;03m# exceeded we need to throw the same error from boto3 instead of\u001b[39;00m\n\u001b[1;32m    409\u001b[0m \u001b[38;5;66;03m# s3transfer's built in RetriesExceededError as current users are\u001b[39;00m\n\u001b[1;32m    410\u001b[0m \u001b[38;5;66;03m# catching the boto3 one instead of the s3transfer exception to do\u001b[39;00m\n\u001b[1;32m    411\u001b[0m \u001b[38;5;66;03m# their own retries.\u001b[39;00m\n\u001b[1;32m    412\u001b[0m \u001b[38;5;28;01mexcept\u001b[39;00m S3TransferRetriesExceededError \u001b[38;5;28;01mas\u001b[39;00m e:\n",
      "File \u001b[0;32m/opt/anaconda3/lib/python3.11/site-packages/s3transfer/futures.py:106\u001b[0m, in \u001b[0;36mTransferFuture.result\u001b[0;34m(self)\u001b[0m\n\u001b[1;32m    104\u001b[0m \u001b[38;5;28;01mexcept\u001b[39;00m \u001b[38;5;167;01mKeyboardInterrupt\u001b[39;00m \u001b[38;5;28;01mas\u001b[39;00m e:\n\u001b[1;32m    105\u001b[0m     \u001b[38;5;28mself\u001b[39m\u001b[38;5;241m.\u001b[39mcancel()\n\u001b[0;32m--> 106\u001b[0m     \u001b[38;5;28;01mraise\u001b[39;00m e\n",
      "File \u001b[0;32m/opt/anaconda3/lib/python3.11/site-packages/s3transfer/futures.py:103\u001b[0m, in \u001b[0;36mTransferFuture.result\u001b[0;34m(self)\u001b[0m\n\u001b[1;32m     98\u001b[0m \u001b[38;5;28;01mdef\u001b[39;00m \u001b[38;5;21mresult\u001b[39m(\u001b[38;5;28mself\u001b[39m):\n\u001b[1;32m     99\u001b[0m     \u001b[38;5;28;01mtry\u001b[39;00m:\n\u001b[1;32m    100\u001b[0m         \u001b[38;5;66;03m# Usually the result() method blocks until the transfer is done,\u001b[39;00m\n\u001b[1;32m    101\u001b[0m         \u001b[38;5;66;03m# however if a KeyboardInterrupt is raised we want want to exit\u001b[39;00m\n\u001b[1;32m    102\u001b[0m         \u001b[38;5;66;03m# out of this and propagate the exception.\u001b[39;00m\n\u001b[0;32m--> 103\u001b[0m         \u001b[38;5;28;01mreturn\u001b[39;00m \u001b[38;5;28mself\u001b[39m\u001b[38;5;241m.\u001b[39m_coordinator\u001b[38;5;241m.\u001b[39mresult()\n\u001b[1;32m    104\u001b[0m     \u001b[38;5;28;01mexcept\u001b[39;00m \u001b[38;5;167;01mKeyboardInterrupt\u001b[39;00m \u001b[38;5;28;01mas\u001b[39;00m e:\n\u001b[1;32m    105\u001b[0m         \u001b[38;5;28mself\u001b[39m\u001b[38;5;241m.\u001b[39mcancel()\n",
      "File \u001b[0;32m/opt/anaconda3/lib/python3.11/site-packages/s3transfer/futures.py:261\u001b[0m, in \u001b[0;36mTransferCoordinator.result\u001b[0;34m(self)\u001b[0m\n\u001b[1;32m    251\u001b[0m \u001b[38;5;250m\u001b[39m\u001b[38;5;124;03m\"\"\"Waits until TransferFuture is done and returns the result\u001b[39;00m\n\u001b[1;32m    252\u001b[0m \n\u001b[1;32m    253\u001b[0m \u001b[38;5;124;03mIf the TransferFuture succeeded, it will return the result. If the\u001b[39;00m\n\u001b[1;32m    254\u001b[0m \u001b[38;5;124;03mTransferFuture failed, it will raise the exception associated to the\u001b[39;00m\n\u001b[1;32m    255\u001b[0m \u001b[38;5;124;03mfailure.\u001b[39;00m\n\u001b[1;32m    256\u001b[0m \u001b[38;5;124;03m\"\"\"\u001b[39;00m\n\u001b[1;32m    257\u001b[0m \u001b[38;5;66;03m# Doing a wait() with no timeout cannot be interrupted in python2 but\u001b[39;00m\n\u001b[1;32m    258\u001b[0m \u001b[38;5;66;03m# can be interrupted in python3 so we just wait with the largest\u001b[39;00m\n\u001b[1;32m    259\u001b[0m \u001b[38;5;66;03m# possible value integer value, which is on the scale of billions of\u001b[39;00m\n\u001b[1;32m    260\u001b[0m \u001b[38;5;66;03m# years...\u001b[39;00m\n\u001b[0;32m--> 261\u001b[0m \u001b[38;5;28mself\u001b[39m\u001b[38;5;241m.\u001b[39m_done_event\u001b[38;5;241m.\u001b[39mwait(MAXINT)\n\u001b[1;32m    263\u001b[0m \u001b[38;5;66;03m# Once done waiting, raise an exception if present or return the\u001b[39;00m\n\u001b[1;32m    264\u001b[0m \u001b[38;5;66;03m# final result.\u001b[39;00m\n\u001b[1;32m    265\u001b[0m \u001b[38;5;28;01mif\u001b[39;00m \u001b[38;5;28mself\u001b[39m\u001b[38;5;241m.\u001b[39m_exception:\n",
      "File \u001b[0;32m/opt/anaconda3/lib/python3.11/threading.py:629\u001b[0m, in \u001b[0;36mEvent.wait\u001b[0;34m(self, timeout)\u001b[0m\n\u001b[1;32m    627\u001b[0m signaled \u001b[38;5;241m=\u001b[39m \u001b[38;5;28mself\u001b[39m\u001b[38;5;241m.\u001b[39m_flag\n\u001b[1;32m    628\u001b[0m \u001b[38;5;28;01mif\u001b[39;00m \u001b[38;5;129;01mnot\u001b[39;00m signaled:\n\u001b[0;32m--> 629\u001b[0m     signaled \u001b[38;5;241m=\u001b[39m \u001b[38;5;28mself\u001b[39m\u001b[38;5;241m.\u001b[39m_cond\u001b[38;5;241m.\u001b[39mwait(timeout)\n\u001b[1;32m    630\u001b[0m \u001b[38;5;28;01mreturn\u001b[39;00m signaled\n",
      "File \u001b[0;32m/opt/anaconda3/lib/python3.11/threading.py:327\u001b[0m, in \u001b[0;36mCondition.wait\u001b[0;34m(self, timeout)\u001b[0m\n\u001b[1;32m    325\u001b[0m \u001b[38;5;28;01mtry\u001b[39;00m:    \u001b[38;5;66;03m# restore state no matter what (e.g., KeyboardInterrupt)\u001b[39;00m\n\u001b[1;32m    326\u001b[0m     \u001b[38;5;28;01mif\u001b[39;00m timeout \u001b[38;5;129;01mis\u001b[39;00m \u001b[38;5;28;01mNone\u001b[39;00m:\n\u001b[0;32m--> 327\u001b[0m         waiter\u001b[38;5;241m.\u001b[39macquire()\n\u001b[1;32m    328\u001b[0m         gotit \u001b[38;5;241m=\u001b[39m \u001b[38;5;28;01mTrue\u001b[39;00m\n\u001b[1;32m    329\u001b[0m     \u001b[38;5;28;01melse\u001b[39;00m:\n",
      "\u001b[0;31mKeyboardInterrupt\u001b[0m: "
     ]
    }
   ],
   "source": [
    "import boto3\n",
    "\n",
    "s3_client = boto3.client('s3')\n",
    "\n",
    "# Specify the S3 bucket name and file details\n",
    "bucket_name = 'savingbuckett5'\n",
    "s3_file_key = 'Video-Processing/sample.mp4'\n",
    "local_file_name = 'sample.mp4'\n",
    "\n",
    "try:\n",
    "    s3_client.download_file(bucket_name, s3_file_key, local_file_name)\n",
    "    print(f\"File '{s3_file_key}' downloaded successfully from '{bucket_name}' and saved as '{local_file_name}'.\")\n",
    "except Exception as e:\n",
    "    print(f\"Error downloading file from S3: {str(e)}\")\n"
   ]
  },
  {
   "cell_type": "markdown",
   "metadata": {},
   "source": [
    "## Uploading the File"
   ]
  },
  {
   "cell_type": "code",
   "execution_count": 4,
   "metadata": {},
   "outputs": [
    {
     "name": "stdout",
     "output_type": "stream",
     "text": [
      "The file 'sample.mp4' was not found.\n"
     ]
    }
   ],
   "source": [
    "import boto3\n",
    "from botocore.exceptions import NoCredentialsError, ClientError\n",
    "\n",
    "# Initialize the S3 client\n",
    "s3_client = boto3.client('s3')\n",
    "\n",
    "bucket_name = 'savingbuckett5'\n",
    "s3_file_key = 'Video-Processing/sample.mp4'\n",
    "local_file_name = 'sample.mp4'\n",
    "\n",
    "try:\n",
    "    # Upload the file\n",
    "    s3_client.upload_file(local_file_name, bucket_name, s3_file_key)\n",
    "    print(f\"File '{local_file_name}' uploaded successfully to '{bucket_name}' as '{s3_file_key}'.\")\n",
    "except FileNotFoundError:\n",
    "    print(f\"The file '{local_file_name}' was not found.\")\n",
    "except NoCredentialsError:\n",
    "    print(\"Credentials not available.\")\n",
    "except ClientError as e:\n",
    "    print(f\"Error uploading file: {str(e)}\")\n"
   ]
  },
  {
   "cell_type": "markdown",
   "metadata": {},
   "source": [
    "## Getting the information of the File"
   ]
  },
  {
   "cell_type": "code",
   "execution_count": 7,
   "metadata": {},
   "outputs": [
    {
     "name": "stdout",
     "output_type": "stream",
     "text": [
      "File 'Video-Processing/sample.mp4' downloaded successfully from 'savingbuckett5' and saved as '/var/folders/c1/9m9gfrj553l8956nyk7q8gw40000gn/T/tmpe1ylbaru.mp4'.\n"
     ]
    },
    {
     "ename": "KeyboardInterrupt",
     "evalue": "",
     "output_type": "error",
     "traceback": [
      "\u001b[0;31m---------------------------------------------------------------------------\u001b[0m",
      "\u001b[0;31mKeyboardInterrupt\u001b[0m                         Traceback (most recent call last)",
      "Cell \u001b[0;32mIn[7], line 38\u001b[0m\n\u001b[1;32m     35\u001b[0m     cv2\u001b[38;5;241m.\u001b[39mimshow(\u001b[38;5;124m'\u001b[39m\u001b[38;5;124mVideo\u001b[39m\u001b[38;5;124m'\u001b[39m, frame)\n\u001b[1;32m     37\u001b[0m     \u001b[38;5;66;03m# Press 'q' on the keyboard to exit\u001b[39;00m\n\u001b[0;32m---> 38\u001b[0m     \u001b[38;5;28;01mif\u001b[39;00m cv2\u001b[38;5;241m.\u001b[39mwaitKey(\u001b[38;5;241m25\u001b[39m) \u001b[38;5;241m&\u001b[39m \u001b[38;5;241m0xFF\u001b[39m \u001b[38;5;241m==\u001b[39m \u001b[38;5;28mord\u001b[39m(\u001b[38;5;124m'\u001b[39m\u001b[38;5;124mq\u001b[39m\u001b[38;5;124m'\u001b[39m):\n\u001b[1;32m     39\u001b[0m         \u001b[38;5;28;01mbreak\u001b[39;00m\n\u001b[1;32m     40\u001b[0m \u001b[38;5;28;01melse\u001b[39;00m:\n",
      "\u001b[0;31mKeyboardInterrupt\u001b[0m: "
     ]
    }
   ],
   "source": [
    "import boto3\n",
    "import cv2\n",
    "import os\n",
    "import tempfile\n",
    "\n",
    "# Initialize the S3 client\n",
    "s3_client = boto3.client('s3')\n",
    "\n",
    "# Specify the S3 bucket and video file key\n",
    "bucket_name = 'savingbuckett5'\n",
    "s3_file_key = 'Video-Processing/sample.mp4'\n",
    "\n",
    "try:\n",
    "    # Create a temporary file to save the video from S3\n",
    "    with tempfile.NamedTemporaryFile(suffix=\".mp4\", delete=False) as temp_video_file:\n",
    "        temp_video_path = temp_video_file.name\n",
    "        \n",
    "        # Download the video file from S3 and save to the temporary file\n",
    "        s3_client.download_file(bucket_name, s3_file_key, temp_video_path)\n",
    "        print(f\"File '{s3_file_key}' downloaded successfully from '{bucket_name}' and saved as '{temp_video_path}'.\")\n",
    "\n",
    "    # Read and display the video using OpenCV\n",
    "    video_capture = cv2.VideoCapture(temp_video_path)\n",
    "\n",
    "    if not video_capture.isOpened():\n",
    "        print(\"Error opening video stream or file\")\n",
    "        exit()\n",
    "\n",
    "    # Display video frame by frame\n",
    "    while video_capture.isOpened():\n",
    "        ret, frame = video_capture.read()\n",
    "        \n",
    "        if ret:\n",
    "            # Display the current frame\n",
    "            cv2.imshow('Video', frame)\n",
    "\n",
    "            # Press 'q' on the keyboard to exit\n",
    "            if cv2.waitKey(25) & 0xFF == ord('q'):\n",
    "                break\n",
    "        else:\n",
    "            break\n",
    "\n",
    "    # Release the video capture object\n",
    "    video_capture.release()\n",
    "    cv2.destroyAllWindows()\n",
    "\n",
    "    # Clean up: Remove the temporary file\n",
    "    os.remove(temp_video_path)\n",
    "    print(f\"Temporary file '{temp_video_path}' deleted.\")\n",
    "\n",
    "except Exception as e:\n",
    "    print(f\"Error reading video from S3: {str(e)}\")\n"
   ]
  },
  {
   "cell_type": "markdown",
   "metadata": {},
   "source": [
    "## Storing Text Information"
   ]
  },
  {
   "cell_type": "code",
   "execution_count": 5,
   "metadata": {},
   "outputs": [
    {
     "name": "stdout",
     "output_type": "stream",
     "text": [
      "Error: (2003, \"Can't connect to MySQL server on 'database-1.cnqamusmkwon.eu-north-1.rds.amazonaws.com' (timed out)\")\n"
     ]
    },
    {
     "ename": "NameError",
     "evalue": "name 'connection' is not defined",
     "output_type": "error",
     "traceback": [
      "\u001b[0;31m---------------------------------------------------------------------------\u001b[0m",
      "\u001b[0;31mNameError\u001b[0m                                 Traceback (most recent call last)",
      "Cell \u001b[0;32mIn[5], line 36\u001b[0m\n\u001b[1;32m     33\u001b[0m     \u001b[38;5;28mprint\u001b[39m(\u001b[38;5;124mf\u001b[39m\u001b[38;5;124m\"\u001b[39m\u001b[38;5;124mError: \u001b[39m\u001b[38;5;132;01m{\u001b[39;00me\u001b[38;5;132;01m}\u001b[39;00m\u001b[38;5;124m\"\u001b[39m)\n\u001b[1;32m     35\u001b[0m \u001b[38;5;28;01mfinally\u001b[39;00m:\n\u001b[0;32m---> 36\u001b[0m     \u001b[38;5;28;01mif\u001b[39;00m connection:\n\u001b[1;32m     37\u001b[0m         connection\u001b[38;5;241m.\u001b[39mclose()\n\u001b[1;32m     38\u001b[0m         \u001b[38;5;28mprint\u001b[39m(\u001b[38;5;124m\"\u001b[39m\u001b[38;5;124mConnection closed.\u001b[39m\u001b[38;5;124m\"\u001b[39m)\n",
      "\u001b[0;31mNameError\u001b[0m: name 'connection' is not defined"
     ]
    }
   ],
   "source": [
    "# import pymysql\n",
    "\n",
    "# # Database connection details\n",
    "# RDS_HOST = \"database-1.cnqamusmkwon.eu-north-1.rds.amazonaws.com\"\n",
    "# RDS_PORT = 3306  # MySQL default port\n",
    "# DB_USER = \"admin\"\n",
    "# DB_PASSWORD = \"mkmk162345\"\n",
    "# DB_NAME = \"database-1\"\n",
    "\n",
    "# # Connect to RDS MySQL instance\n",
    "# try:\n",
    "#     connection = pymysql.connect(\n",
    "#         host=RDS_HOST,\n",
    "#         port=RDS_PORT,\n",
    "#         user=DB_USER,\n",
    "#         password=DB_PASSWORD,\n",
    "#         database=DB_NAME,\n",
    "#         cursorclass=pymysql.cursors.DictCursor\n",
    "#     )\n",
    "#     print(\"Connected to the database!\")\n",
    "    \n",
    "#     # Example: Inserting data into a table\n",
    "#     with connection.cursor() as cursor:\n",
    "#         sql = \"INSERT INTO your_table_name (column1, column2) VALUES (%s, %s)\"\n",
    "#         data = ('value1', 'value2')\n",
    "#         cursor.execute(sql, data)\n",
    "    \n",
    "#     # Commit the transaction\n",
    "#     connection.commit()\n",
    "#     print(\"Data inserted successfully!\")\n",
    "    \n",
    "# except pymysql.MySQLError as e:\n",
    "#     print(f\"Error: {e}\")\n",
    "    \n",
    "# finally:\n",
    "#     if connection:\n",
    "#         connection.close()\n",
    "#         print(\"Connection closed.\")\n"
   ]
  },
  {
   "cell_type": "markdown",
   "metadata": {},
   "source": [
    "## Creating Database"
   ]
  },
  {
   "cell_type": "code",
   "execution_count": 13,
   "metadata": {},
   "outputs": [
    {
     "name": "stdout",
     "output_type": "stream",
     "text": [
      "Connected to the database!\n",
      "Table 'traffic_data' created successfully!\n",
      "Connection closed.\n"
     ]
    }
   ],
   "source": [
    "# import pymysql\n",
    "\n",
    "# RDS_HOST = \"database-2.cnqamusmkwon.eu-north-1.rds.amazonaws.com\"\n",
    "# RDS_PORT = 3306  # MySQL default port\n",
    "# DB_USER = \"root\"\n",
    "# DB_PASSWORD = \"mkmk162345\"\n",
    "# DB_NAME = \"traffic\"\n",
    "\n",
    "# # Connect to the RDS MySQL instance\n",
    "# try:\n",
    "#     connection = pymysql.connect(\n",
    "#         host=RDS_HOST,\n",
    "#         port=RDS_PORT,\n",
    "#         user=DB_USER,\n",
    "#         password=DB_PASSWORD,\n",
    "#         database=DB_NAME,\n",
    "#         cursorclass=pymysql.cursors.DictCursor\n",
    "#     )\n",
    "#     print(\"Connected to the database!\")\n",
    "\n",
    "#     # Create a table\n",
    "#     with connection.cursor() as cursor:\n",
    "#         create_table_query = \"\"\"\n",
    "#         CREATE TABLE traffic_data (\n",
    "#             road_name VARCHAR(512),\n",
    "#             distance_km DECIMAL(10, 3),\n",
    "#             duration_in_traffic_min DECIMAL(10, 3),\n",
    "#             speed_kmh DECIMAL(10, 6),\n",
    "#             delay_min DECIMAL(10, 6),\n",
    "#             traffic_condition VARCHAR(50),\n",
    "#             timestamp DATETIME,\n",
    "#             start_point POINT,\n",
    "#             end_point POINT\n",
    "#         );\n",
    "#         \"\"\"\n",
    "#         cursor.execute(create_table_query)\n",
    "#         print(\"Table 'traffic_data' created successfully!\")\n",
    "\n",
    "#     # Commit the changes\n",
    "#     connection.commit()\n",
    "\n",
    "# except pymysql.MySQLError as e:\n",
    "#     print(f\"Error: {e}\")\n",
    "\n",
    "# finally:\n",
    "#     if connection:\n",
    "#         connection.close()\n",
    "#         print(\"Connection closed.\")\n"
   ]
  },
  {
   "cell_type": "markdown",
   "metadata": {},
   "source": [
    "## Inserting to Database"
   ]
  },
  {
   "cell_type": "code",
   "execution_count": null,
   "metadata": {},
   "outputs": [],
   "source": [
    "import pymysql\n",
    "\n",
    "RDS_HOST = \"database-2.cnqamusmkwon.eu-north-1.rds.amazonaws.com\"\n",
    "RDS_PORT = 3306  # MySQL default port\n",
    "DB_USER = \"root\"\n",
    "DB_PASSWORD = \"mkmk162345\"\n",
    "DB_NAME = \"traffic\"\n",
    "\n",
    "# Connect to the RDS MySQL instance\n",
    "try:\n",
    "    connection = pymysql.connect(\n",
    "        host=RDS_HOST,\n",
    "        port=RDS_PORT,\n",
    "        user=DB_USER,\n",
    "        password=DB_PASSWORD,\n",
    "        database=DB_NAME,\n",
    "        cursorclass=pymysql.cursors.DictCursor\n",
    "    )\n",
    "    print(\"Connected to the database!\")\n",
    "\n",
    "    with connection.cursor() as cursor:\n",
    "        insert_query = \"\"\"\n",
    "        INSERT INTO traffic_data \n",
    "        (road_name, distance_km, duration_in_traffic_min, speed_kmh, delay_min, traffic_condition, timestamp, start_point, end_point) \n",
    "        VALUES (%s, %s, %s, %s, %s, %s, %s, POINT(%s, %s), POINT(%s, %s))\n",
    "        \"\"\"\n",
    "        \n",
    "        # Insert each row of data\n",
    "        for row in traffic_data:\n",
    "            cursor.execute(insert_query, (\n",
    "                row[0],  # road_name\n",
    "                row[1],  # distance_km\n",
    "                row[2],  # duration_in_traffic_min\n",
    "                row[3],  # speed_kmh\n",
    "                row[4],  # delay_min\n",
    "                row[5],  # traffic_condition\n",
    "                row[6],  # timestamp\n",
    "                row[7][0], row[7][1],  # start_point (latitude, longitude)\n",
    "                row[8][0], row[8][1]   # end_point (latitude, longitude)\n",
    "            ))\n",
    "\n",
    "    # Commit the transaction\n",
    "    connection.commit()\n",
    "    print(\"Data inserted successfully!\")\n",
    "\n",
    "except pymysql.MySQLError as e:\n",
    "    print(f\"Error: {e}\")\n",
    "\n",
    "finally:\n",
    "    if connection:\n",
    "        connection.close()\n",
    "        print(\"Connection closed.\")\n"
   ]
  },
  {
   "cell_type": "code",
   "execution_count": null,
   "metadata": {},
   "outputs": [],
   "source": []
  },
  {
   "cell_type": "markdown",
   "metadata": {},
   "source": [
    "## Retrieve the whole data from s3 bucket"
   ]
  },
  {
   "cell_type": "code",
   "execution_count": 14,
   "metadata": {},
   "outputs": [],
   "source": [
    "# import boto3\n",
    "# import pandas as pd\n",
    "# from io import StringIO\n",
    "\n",
    "# # Initialize the S3 client\n",
    "# s3_client = boto3.client('s3')\n",
    "\n",
    "# # Your S3 bucket name\n",
    "# bucket_name = 'savingbuckett5'\n",
    "\n",
    "# # Prefix to filter the files (traffic_data_*)\n",
    "# prefix = 'traffic_data_'\n",
    "\n",
    "# # Get a list of files with the specified prefix from the S3 bucket\n",
    "# response = s3_client.list_objects_v2(Bucket=bucket_name, Prefix=prefix)\n",
    "\n",
    "# # List to hold dataframes from all files\n",
    "# dfs = []\n",
    "\n",
    "# # Loop through each file in the S3 bucket that matches the prefix\n",
    "# for obj in response.get('Contents', []):\n",
    "#     file_key = obj['Key']  # The key is the file name in S3\n",
    "    \n",
    "#     # Only process files that start with 'traffic_data_'\n",
    "#     if file_key.startswith(prefix):\n",
    "#         # Read the file from S3\n",
    "#         csv_obj = s3_client.get_object(Bucket=bucket_name, Key=file_key)\n",
    "        \n",
    "#         # Read the content of the file\n",
    "#         csv_string = csv_obj['Body'].read().decode('utf-8')\n",
    "        \n",
    "#         # Convert the CSV string to a pandas DataFrame\n",
    "#         df = pd.read_csv(StringIO(csv_string))\n",
    "        \n",
    "#         # Append the DataFrame to the list\n",
    "#         dfs.append(df)\n",
    "\n",
    "# # Concatenate all dataframes into one\n",
    "# final_df = pd.concat(dfs, ignore_index=True)"
   ]
  },
  {
   "cell_type": "markdown",
   "metadata": {},
   "source": [
    "## Retrieving Dataset from MySQL"
   ]
  },
  {
   "cell_type": "code",
   "execution_count": null,
   "metadata": {},
   "outputs": [],
   "source": [
    "# import pymysql\n",
    "# import pandas as pd\n",
    "\n",
    "# RDS_HOST = \"database-2.cnqamusmkwon.eu-north-1.rds.amazonaws.com\"\n",
    "# RDS_PORT = 3306  # MySQL default port\n",
    "# DB_USER = \"root\"\n",
    "# DB_PASSWORD = \"mkmk162345\"\n",
    "# DB_NAME = \"traffic\"\n",
    "\n",
    "# # SQL Query to retrieve data\n",
    "# query = \"SELECT * FROM traffic_data\"  # Replace with your table name\n",
    "\n",
    "# # Connect to the RDS MySQL instance\n",
    "# try:\n",
    "#     connection = pymysql.connect(\n",
    "#         host=RDS_HOST,\n",
    "#         port=RDS_PORT,\n",
    "#         user=DB_USER,\n",
    "#         password=DB_PASSWORD,\n",
    "#         database=DB_NAME,\n",
    "#         cursorclass=pymysql.cursors.DictCursor  # Fetches the result as a dictionary\n",
    "#     )\n",
    "#     print(\"Connected to the database!\")\n",
    "\n",
    "#     # Execute the query and fetch the data\n",
    "#     with connection.cursor() as cursor:\n",
    "#         cursor.execute(query)\n",
    "#         results = cursor.fetchall()  # Fetch all rows from the table\n",
    "        \n",
    "#         # Convert the query results into a Pandas DataFrame\n",
    "#         df = pd.DataFrame(results)\n",
    "#         print(\"Data retrieved and loaded into a DataFrame!\")\n",
    "\n",
    "#     # Show the first 5 rows of the DataFrame\n",
    "#     print(df.head())\n",
    "\n",
    "# except pymysql.MySQLError as e:\n",
    "#     print(f\"Error: {e}\")\n",
    "\n",
    "# finally:\n",
    "#     if connection:\n",
    "#         connection.close()\n",
    "#         print(\"Connection closed.\")\n"
   ]
  }
 ],
 "metadata": {
  "kernelspec": {
   "display_name": "base",
   "language": "python",
   "name": "python3"
  },
  "language_info": {
   "codemirror_mode": {
    "name": "ipython",
    "version": 3
   },
   "file_extension": ".py",
   "mimetype": "text/x-python",
   "name": "python",
   "nbconvert_exporter": "python",
   "pygments_lexer": "ipython3",
   "version": "3.11.7"
  }
 },
 "nbformat": 4,
 "nbformat_minor": 2
}
