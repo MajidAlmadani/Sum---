{
 "cells": [
  {
   "cell_type": "markdown",
   "metadata": {},
   "source": [
    "# Setup Environment"
   ]
  },
  {
   "cell_type": "code",
   "execution_count": null,
   "metadata": {},
   "outputs": [],
   "source": [
    "!pip install ultralytics"
   ]
  },
  {
   "cell_type": "code",
   "execution_count": null,
   "metadata": {},
   "outputs": [],
   "source": [
    "from ultralytics import YOLO\n",
    "import yaml\n"
   ]
  },
  {
   "cell_type": "markdown",
   "metadata": {},
   "source": [
    "# Data Preparing"
   ]
  },
  {
   "cell_type": "code",
   "execution_count": null,
   "metadata": {},
   "outputs": [],
   "source": [
    "# Function to create data.yaml file\n",
    "def create_data_yaml(train_path, val_path, num_classes, class_names, output_path='data.yaml'):\n",
    "    with open(output_path, 'w') as f:\n",
    "        f.write(f\"train: {train_path}\\n\")\n",
    "        f.write(f\"val: {val_path}\\n\")\n",
    "        f.write(f\"nc: {num_classes}\\n\")\n",
    "        f.write(f\"names: {class_names}\\n\")\n",
    "    print(f\"data.yaml created at {output_path}\")\n",
    "\n",
    "# User input for dataset paths and class names\n",
    "train_path = \"License-Plates.v1i.yolov8/train/images\"\n",
    "val_path = \"License-Plates.v1i.yolov8/valid/images\"\n",
    "num_classes = int(\"1\")\n",
    "class_names = \"license_plate\".split(',')\n",
    "\n",
    "# Clean up class names (strip whitespace)\n",
    "class_names = [name.strip() for name in class_names]\n",
    "\n",
    "# Create data.yaml in the current directory\n",
    "create_data_yaml(train_path, val_path, num_classes, class_names, output_path='data.yaml')\n",
    "\n",
    "# Path to your data.yaml file\n",
    "yaml_path = 'data.yaml'\n",
    "\n",
    "# Read the existing file\n",
    "with open(yaml_path, 'r') as f:\n",
    "    data = f.read()\n",
    "    print(data)  # Display the current content\n"
   ]
  },
  {
   "cell_type": "markdown",
   "metadata": {},
   "source": [
    "# Model Fine-Tuning"
   ]
  },
  {
   "cell_type": "code",
   "execution_count": null,
   "metadata": {},
   "outputs": [],
   "source": [
    "# Import the necessary libraries\n",
    "\n",
    "# Load the pre-trained YOLOv8 model for license plate detection\n",
    "model = YOLO('/content/license_plate_detector.pt')\n",
    "\n",
    "# Load your custom dataset\n",
    "# Make sure your dataset is in YOLO format and located in 'path/to/your/dataset'\n",
    "data = '/content/data.yaml'  # Adjust the path to your dataset configuration file\n",
    "\n",
    "# Fine-tune the model\n",
    "model.train(data=data, epochs=5, imgsz=100, batch=32)\n",
    "\n",
    "# Save the fine-tuned model\n",
    "model.save('fine_tuned_linecne_plate.pt')\n"
   ]
  },
  {
   "cell_type": "markdown",
   "metadata": {},
   "source": [
    "# Model Evaluate"
   ]
  },
  {
   "cell_type": "code",
   "execution_count": null,
   "metadata": {},
   "outputs": [],
   "source": [
    "results = model.val(data='/content/vehicle-and-license-plate-3/data.yaml', imgsz=640)\n",
    "\n",
    "# Access and print the results using the results_dict attribute\n",
    "results_dict = results.results_dict\n",
    "print(f\"Precision: {results_dict['metrics/precision(B)']:.4f}\")\n",
    "print(f\"Recall: {results_dict['metrics/recall(B)']:.4f}\")\n",
    "print(f\"mAP@0.5: {results_dict['metrics/mAP50(B)']:.4f}\")\n",
    "print(f\"mAP@0.5:0.95: {results_dict['metrics/mAP50-95(B)']:.4f}\")\n",
    "print(f\"F1 Score: {2 * (results_dict['metrics/precision(B)'] * results_dict['metrics/recall(B)']) / (results_dict['metrics/precision(B)'] + results_dict['metrics/recall(B)']):.4f}\")"
   ]
  }
 ],
 "metadata": {
  "kernelspec": {
   "display_name": "base",
   "language": "python",
   "name": "python3"
  },
  "language_info": {
   "name": "python",
   "version": "3.11.7"
  }
 },
 "nbformat": 4,
 "nbformat_minor": 2
}
