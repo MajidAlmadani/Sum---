{
 "cells": [
  {
   "cell_type": "markdown",
   "metadata": {},
   "source": [
    "# Import & Initialization"
   ]
  },
  {
   "cell_type": "code",
   "execution_count": null,
   "metadata": {},
   "outputs": [],
   "source": [
    "import os\n",
    "import time\n",
    "from datetime import datetime\n",
    "from dotenv import load_dotenv\n",
    "\n",
    "import googlemaps\n",
    "import gmplot\n",
    "\n",
    "import pandas as pd\n",
    "\n",
    "import osmnx as ox\n",
    "import random\n",
    "\n",
    "import numpy as np\n",
    "\n",
    "import re\n",
    "from difflib import SequenceMatcher\n",
    "from fuzzywuzzy import fuzz\n",
    "\n",
    "from heapq import heappush, heappop\n",
    "\n",
    "\n",
    "import pandas as pd\n",
    "from sklearn.preprocessing import StandardScaler, OneHotEncoder,MinMaxScaler\n",
    "from sklearn.cluster import DBSCAN\n",
    "import numpy as np\n",
    "from datetime import datetime, timedelta\n",
    "import pytz\n",
    "from sklearn.cluster import KMeans\n",
    "import matplotlib.pyplot as plt\n",
    "\n",
    "from io import StringIO\n",
    "import uuid\n",
    "import ast"
   ]
  },
  {
   "cell_type": "code",
   "execution_count": null,
   "metadata": {},
   "outputs": [],
   "source": [
    "load_dotenv()\n",
    "API_KEY = os.getenv('GOOGLE_MAPS_API_KEY')\n",
    "gmaps = googlemaps.Client(key=API_KEY)"
   ]
  },
  {
   "cell_type": "markdown",
   "metadata": {},
   "source": [
    "# Generate Road Names (Riyadh)"
   ]
  },
  {
   "cell_type": "markdown",
   "metadata": {},
   "source": [
    "## Create Road Names"
   ]
  },
  {
   "cell_type": "code",
   "execution_count": null,
   "metadata": {},
   "outputs": [],
   "source": [
    "city_name = 'Riyadh, Saudi Arabia'\n",
    "G = ox.graph_from_place(city_name, network_type='drive')\n",
    "\n",
    "edges = ox.graph_to_gdfs(G, nodes=False, edges=True)\n",
    "\n",
    "roads_with_coords = []\n",
    "\n",
    "for _, row in edges.iterrows():\n",
    "    origin = f\"{row['geometry'].coords[0][1]},{row['geometry'].coords[0][0]}\" \n",
    "    destination = f\"{row['geometry'].coords[-1][1]},{row['geometry'].coords[-1][0]}\" \n",
    "    \n",
    "    road_name = row['name'] if 'name' in row and row['name'] is not None else \"Unnamed road\"\n",
    "    \n",
    "    roads_with_coords.append((road_name, origin, destination))\n",
    "\n",
    "for road_info in roads_with_coords[:10]: \n",
    "    road_name, origin, destination = road_info\n",
    "    print(f\"Road: {road_name}, Origin: {origin}, Destination: {destination}\")"
   ]
  },
  {
   "cell_type": "code",
   "execution_count": null,
   "metadata": {},
   "outputs": [],
   "source": [
    "list_graph_roads = []\n",
    "\n",
    "for i in roads_with_coords:\n",
    "    if isinstance(i[0], (list, np.ndarray)): \n",
    "        if not pd.isnull(i[0]).any(): \n",
    "            list_graph_roads.append(i[0])\n",
    "    else:  \n",
    "        if not pd.isnull(i[0]):\n",
    "            list_graph_roads.append(i[0])\n"
   ]
  },
  {
   "cell_type": "code",
   "execution_count": null,
   "metadata": {},
   "outputs": [],
   "source": [
    "road_names = [road_info[0] for road_info in roads_with_coords if isinstance(road_info[0], str)]\n",
    "\n",
    "unique_road_names = set(road_names)"
   ]
  },
  {
   "cell_type": "markdown",
   "metadata": {},
   "source": [
    "## Filter Road Names"
   ]
  },
  {
   "cell_type": "code",
   "execution_count": null,
   "metadata": {},
   "outputs": [],
   "source": [
    "def remove_duplicate_roads(road_names):\n",
    "    unique_roads = []\n",
    "    threshold = 80 \n",
    "    for road in road_names:\n",
    "        if not any(fuzz.ratio(road, unique) > threshold for unique in unique_roads):\n",
    "            print(f\"Original road count: {road}\")\n",
    "            unique_roads.append(road)\n",
    "    \n",
    "    return unique_roads\n",
    "\n",
    "cleaned_roads = remove_duplicate_roads(unique_road_names)"
   ]
  },
  {
   "cell_type": "code",
   "execution_count": null,
   "metadata": {},
   "outputs": [],
   "source": [
    "def get_road_start_end(gmaps_client, road_name, city='Riyadh'):\n",
    "    try:\n",
    "        geocode_result = gmaps_client.geocode(f\"{road_name}, {city}\")\n",
    "        if geocode_result and 'bounds' in geocode_result[0]['geometry']:\n",
    "            start_point = geocode_result[0]['geometry']['bounds']['northeast']\n",
    "            end_point = geocode_result[0]['geometry']['bounds']['southwest']\n",
    "            return (start_point['lat'], start_point['lng']), (end_point['lat'], end_point['lng'])\n",
    "        else:\n",
    "            return None, None\n",
    "    except Exception as e:\n",
    "        print(f\"Error getting start/end points for {road_name}: {e}\")\n",
    "        return None, None"
   ]
  },
  {
   "cell_type": "code",
   "execution_count": null,
   "metadata": {},
   "outputs": [],
   "source": [
    "def get_traffic_data(gmaps_client, road_name, city='Riyadh'):\n",
    "    start_coords, end_coords = get_road_start_end(gmaps_client, road_name, city)\n",
    "    \n",
    "    if start_coords is None or end_coords is None:\n",
    "        print(f\"Could not retrieve start/end points for {road_name}.\")\n",
    "        return None, None\n",
    "\n",
    "    origin = f\"{start_coords[0]},{start_coords[1]}\"\n",
    "    destination = f\"{end_coords[0]},{end_coords[1]}\"\n",
    "    \n",
    "    try:\n",
    "        directions_result = gmaps_client.directions(\n",
    "            origin,\n",
    "            destination,\n",
    "            mode=\"driving\",\n",
    "            departure_time=\"now\",  # Real-time traffic data\n",
    "            traffic_model=\"best_guess\"\n",
    "        )\n",
    "\n",
    "        if directions_result:\n",
    "            duration_in_traffic = directions_result[0]['legs'][0]['duration_in_traffic']['value'] / 60  # In minutes\n",
    "            distance = directions_result[0]['legs'][0]['distance']['value'] / 1000  # In kilometers\n",
    "            return duration_in_traffic, distance\n",
    "        else:\n",
    "            return None, None\n",
    "    except Exception as e:\n",
    "        print(f\"Error fetching traffic data for {road_name}: {e}\")\n",
    "        return None, None\n",
    "\n",
    "# Priority queue to store the top 200 roads with the lowest ratio\n",
    "top_200_heap = []\n",
    "\n",
    "# Iterate over all roads in the cleaned set and get traffic data\n",
    "for road in cleaned_roads:\n",
    "    # Get traffic data (time and distance)\n",
    "    traffic_time, road_distance = get_traffic_data(gmaps, road)\n",
    "\n",
    "    # Apply the condition (only process roads longer than 5 km)\n",
    "    if traffic_time and road_distance and road_distance > 5:  # Only consider roads longer than 5 km\n",
    "        ratio = road_distance / traffic_time  # Calculate the distance-to-time ratio\n",
    "\n",
    "        # Tracker: Print the distance, time, and ratio before adding it to the heap\n",
    "        print(f\"Eligible Road: {road}, Distance: {road_distance} km, Time: {traffic_time} mins, Ratio: {ratio}\")\n",
    "\n",
    "        # If we have fewer than 200 items in the heap, just add the new road\n",
    "        if len(top_200_heap) < 200:\n",
    "            heappush(top_200_heap, (-ratio, road, road_distance, traffic_time))  # Store negative ratio to simulate max-heap\n",
    "            print(f\"Included Road: {road}, Distance: {road_distance} km, Time: {traffic_time} mins, Ratio: {ratio}\")\n",
    "        else:\n",
    "            # If the heap is full and the new ratio is lower than the highest ratio in the heap, replace it\n",
    "            if -ratio > top_200_heap[0][0]:  # Compare with the maximum (inverted) ratio\n",
    "                heappop(top_200_heap)  # Remove the highest ratio\n",
    "                heappush(top_200_heap, (-ratio, road, road_distance, traffic_time))  # Add the new road with negative ratio\n",
    "                print(f\"Replaced Road: {road}, Distance: {road_distance} km, Time: {traffic_time} mins, Ratio: {ratio}\")\n",
    "    else:\n",
    "        print(f\"Skipped Road: {road} (Distance < 5 km or invalid data)\")"
   ]
  },
  {
   "cell_type": "code",
   "execution_count": null,
   "metadata": {},
   "outputs": [],
   "source": [
    "df = pd.DataFrame(top_200_heap, columns=['Negative Ratio', 'Road Name', 'Distance (km)', 'Time (mins)'])\n",
    "\n",
    "df['Ratio (km/min)'] = -df['Negative Ratio']\n",
    "\n",
    "df = df.drop(columns=['Negative Ratio'])\n",
    "\n",
    "df.to_csv('filtered_road_names.csv', index=False)\n",
    "\n",
    "print(f\"Data saved to filtered_road_names.csv\")"
   ]
  },
  {
   "cell_type": "markdown",
   "metadata": {},
   "source": [
    "## Add Start & End Points to road names"
   ]
  },
  {
   "cell_type": "code",
   "execution_count": null,
   "metadata": {},
   "outputs": [],
   "source": [
    "df = pd.read_csv('filtered_road_names.csv')\n",
    "df[['Start_point','End_point']] = df['Road Name'].apply(lambda x: pd.Series(get_road_start_end(gmaps, x, city='Riyadh')))\n",
    "df.to_csv('filtered_road_names.csv', index=False)"
   ]
  },
  {
   "cell_type": "markdown",
   "metadata": {},
   "source": [
    "# Generate Data"
   ]
  },
  {
   "cell_type": "code",
   "execution_count": null,
   "metadata": {},
   "outputs": [],
   "source": [
    "df = pd.read_csv('filtered_road_names.csv')"
   ]
  },
  {
   "cell_type": "code",
   "execution_count": null,
   "metadata": {},
   "outputs": [],
   "source": [
    "gmaps = googlemaps.Client(key=API_KEY)\n",
    "df = pd.read_csv('filtered_road_names.csv')\n",
    "\n",
    "\n",
    "def determine_traffic_color(delay, duration):\n",
    "    if delay < 0.05 * duration:\n",
    "        return 'Blue'\n",
    "    elif delay < 0.20 * duration:\n",
    "        return 'Yellow'\n",
    "    elif delay < 0.50 * duration:\n",
    "        return 'Orange'\n",
    "    elif delay < 1.00 * duration:\n",
    "        return 'Red'\n",
    "    else:\n",
    "        return 'Dark Red'\n",
    "\n",
    "def get_traffic_data_from_dataframe(gmaps_client, start_lat, start_lng, end_lat, end_lng, road_name, city='Riyadh'):\n",
    "    origin = f\"{start_lat},{start_lng}\"\n",
    "    destination = f\"{end_lat},{end_lng}\"\n",
    "    \n",
    "    try:\n",
    "        directions_result = gmaps_client.directions(\n",
    "            origin, destination, mode=\"driving\", departure_time=\"now\", traffic_model=\"best_guess\"\n",
    "        )\n",
    "\n",
    "        if not directions_result:\n",
    "            return None\n",
    "\n",
    "        route = directions_result[0]['legs'][0]\n",
    "        duration_in_traffic_min = route['duration_in_traffic']['value'] / 60\n",
    "        distance_km = route['distance']['value'] / 1000\n",
    "        speed_kmh = distance_km / (duration_in_traffic_min / 60)\n",
    "        delay_min = (route['duration_in_traffic']['value'] - route['duration']['value']) / 60\n",
    "        traffic_condition = determine_traffic_color(delay_min, route['duration']['value'] / 60)\n",
    "        timestamp = datetime.now().isoformat()\n",
    "        \n",
    "        return {\n",
    "            'road_name': road_name,\n",
    "            'distance_km': distance_km,\n",
    "            'duration_in_traffic_min': duration_in_traffic_min,\n",
    "            'speed_kmh': speed_kmh,\n",
    "            'delay_min': delay_min,\n",
    "            'traffic_condition': traffic_condition,\n",
    "            'timestamp': timestamp,\n",
    "            'Start_point': (start_lat, start_lng),\n",
    "            'End_point': (end_lat, end_lng),\n",
    "        }\n",
    "    except Exception as e:\n",
    "        print(f\"Error fetching traffic data for {road_name}: {e}\")\n",
    "        return None\n",
    "\n",
    "def generate_data_from_dataframe(csv_file, gmaps_client):\n",
    "    df = pd.read_csv(csv_file)\n",
    "    \n",
    "    traffic_data_list = []\n",
    "    df['Start_point'] = df['Start_point'].apply(ast.literal_eval)\n",
    "    df['End_point'] = df['End_point'].apply(ast.literal_eval)\n",
    "    \n",
    "    for _, row in df.iterrows():\n",
    "        road_name = row['Road Name']\n",
    "        start_lat,start_lng = row['Start_point']\n",
    "        end_lat,end_lng = row['End_point']\n",
    "        \n",
    "        traffic_data = get_traffic_data_from_dataframe(gmaps_client, start_lat, start_lng, end_lat, end_lng, road_name)\n",
    "        \n",
    "        if traffic_data:\n",
    "            traffic_data_list.append(traffic_data)\n",
    "\n",
    "    if traffic_data_list:\n",
    "        traffic_df = pd.DataFrame(traffic_data_list)\n",
    "        \n",
    "        timestamp = datetime.now().strftime(\"%Y%m%d_%H%M%S\")\n",
    "        unique_filename = f\"traffic_data_{timestamp}_{uuid.uuid4()}.csv\"\n",
    "        \n",
    "        traffic_df.to_csv(unique_filename, index=False)\n",
    "        \n",
    "        print(f\"Traffic data saved as '{unique_filename}'.\")\n",
    "\n",
    "generate_data_from_dataframe('filtered_road_names.csv', gmaps)"
   ]
  },
  {
   "cell_type": "markdown",
   "metadata": {},
   "source": [
    "# Select Important Roads"
   ]
  },
  {
   "cell_type": "code",
   "execution_count": null,
   "metadata": {},
   "outputs": [],
   "source": [
    "directory = '/content/DS'\n",
    "\n",
    "files = os.listdir(directory)\n",
    "\n",
    "csv_files = [f for f in files if f.endswith('.csv')]\n",
    "\n",
    "dfs = []\n",
    "for csv_file in csv_files:\n",
    "    file_path = os.path.join(directory, csv_file)\n",
    "    df = pd.read_csv(file_path)\n",
    "    dfs.append(df)\n",
    "\n",
    "df = pd.concat(dfs, ignore_index=True)"
   ]
  },
  {
   "cell_type": "code",
   "execution_count": null,
   "metadata": {},
   "outputs": [],
   "source": [
    "# Convert the 'timestamp' column to datetime objects first\n",
    "df['timestamp'] = pd.to_datetime(df['timestamp'])\n",
    "# Now you can add the timedelta\n",
    "\n",
    "df['timestamp'] = pd.to_datetime(df['timestamp'] + timedelta(hours=3))\n",
    "\n",
    "df = df[df['distance_km'] >= 10]\n",
    "df = df[df['distance_km'] <=  40]\n",
    "\n",
    "#  Convert the 'timestamp' column to datetime\n",
    "df['timestamp'] = pd.to_datetime(df['timestamp'])\n",
    "\n",
    "#  Extract the hour from the 'timestamp' column to identify the hour of congestion\n",
    "df['hour'] = df['timestamp'].dt.hour\n",
    "df['day'] = df['timestamp'].dt.day\n",
    "df['month'] = df['timestamp'].dt.month\n",
    "\n",
    "# # Feature engineering: create a new column for congestion ratio\n",
    "# # Calculate the congestion ratio as (delay_min / distance_km)\n",
    "df['congestion_ratio'] = df['delay_min'] / df['distance_km']\n",
    "df['distance_ratio'] = df['duration_in_traffic_min'] / df['distance_km']\n",
    "\n",
    "df = df[df['day'] != 22]\n",
    "\n",
    "# # Select relevant columns: road_name, distance_km, delay_min, congestion_ratio, hour, and other details\n",
    "congestion_info = df[['road_name', 'distance_km', 'delay_min', 'congestion_ratio','distance_ratio', 'hour','day','month', 'traffic_condition', 'timestamp', 'start_point', 'end_point']]\n",
    "\n"
   ]
  },
  {
   "cell_type": "code",
   "execution_count": null,
   "metadata": {},
   "outputs": [],
   "source": [
    "import pandas as pd\n",
    "\n",
    "# Perform groupby with two columns ('start_point', 'end_point') and aggregate the mean of the specified columns\n",
    "aggregation_result_3 = df.groupby(['road_name', 'start_point', 'end_point']).agg({\n",
    "    'congestion_ratio': 'mean',\n",
    "    'distance_ratio': 'mean'\n",
    "}).reset_index()\n",
    "\n",
    "# For 'traffic_condition', apply mode (most frequent value)\n",
    "traffic_condition_mode = df.groupby(['start_point', 'end_point'])['traffic_condition'].agg(lambda x: x.mode()[0]).reset_index()\n",
    "\n",
    "# Merge the mode of 'traffic_condition' back into the aggregation result\n",
    "aggregation_result_3 = pd.merge(aggregation_result_3, traffic_condition_mode, on=['start_point', 'end_point'])\n",
    "\n",
    "ag_df_3 = aggregation_result_3\n"
   ]
  },
  {
   "cell_type": "code",
   "execution_count": null,
   "metadata": {},
   "outputs": [],
   "source": [
    "import matplotlib.pyplot as plt\n",
    "from sklearn.cluster import KMeans\n",
    "from sklearn.metrics import silhouette_score\n",
    "\n",
    "# Prepare the features for clustering from the aggregation_result (using congestion_ratio and distance_ratio)\n",
    "features = aggregation_result_3[['congestion_ratio', 'distance_ratio']]\n",
    "\n",
    "# Use the Silhouette Method to find the optimal number of clusters\n",
    "silhouette_scores = []\n",
    "K = range(2, 11)  # Test between 2 and 10 clusters (Silhouette score is not defined for k=1)\n",
    "\n",
    "for k in K:\n",
    "    kmeans = KMeans(n_clusters=k, random_state=42)\n",
    "    kmeans.fit(features)\n",
    "    labels = kmeans.labels_\n",
    "    score = silhouette_score(features, labels)\n",
    "    silhouette_scores.append(score)\n",
    "\n",
    "# Plot the Silhouette Method results\n",
    "plt.figure(figsize=(8, 5))\n",
    "plt.plot(K, silhouette_scores, 'bx-')\n",
    "plt.xlabel('Number of Clusters (k)')\n",
    "plt.ylabel('Silhouette Score')\n",
    "plt.title('Silhouette Method for Optimal k')\n",
    "plt.show()\n"
   ]
  },
  {
   "cell_type": "code",
   "execution_count": null,
   "metadata": {},
   "outputs": [],
   "source": [
    "# Prepare the features for clustering (select the specified numeric columns)\n",
    "features = ag_df_3[['congestion_ratio', 'distance_ratio']]\n",
    "\n",
    "# Use MinMaxScaler to scale the features for fair clustering\n",
    "scaler = MinMaxScaler()\n",
    "features_scaled = scaler.fit_transform(features)\n",
    "\n",
    "# Apply K-Means clustering with 4 clusters\n",
    "kmeans = KMeans(n_clusters=2, random_state=42)\n",
    "ag_df_3['cluster'] = kmeans.fit_predict(features_scaled)\n",
    "\n",
    "# Display the first few rows with cluster labels\n",
    "ag_df_3[['road_name', 'start_point', 'end_point', 'cluster']]"
   ]
  },
  {
   "cell_type": "code",
   "execution_count": null,
   "metadata": {},
   "outputs": [],
   "source": [
    "import plotly.express as px\n",
    "\n",
    "# Create a scatter plot with Plotly\n",
    "fig = px.scatter(\n",
    "    ag_df_3,\n",
    "    x='distance_ratio',\n",
    "    y='congestion_ratio',\n",
    "    color='cluster',\n",
    "    hover_data=['road_name', 'start_point', 'end_point'],\n",
    "    title='Clusters Based on Congestion Ratio and Distance Ratio',\n",
    "    color_discrete_sequence=['blue', 'Red']  # Specify two colors for the clusters\n",
    ")\n",
    "\n",
    "# Update labels for the axes, reduce figure size, and remove the color legend (bar)\n",
    "fig.update_layout(\n",
    "    xaxis_title='Distance Ratio',\n",
    "    yaxis_title='Congestion Ratio',\n",
    "    width=600,  # Set figure width\n",
    "    height=400,  # Set figure height\n",
    "    coloraxis_showscale=False  # Remove the color bar next to the plot\n",
    ")\n",
    "\n",
    "# Show the interactive plot\n",
    "fig.show()"
   ]
  },
  {
   "cell_type": "code",
   "execution_count": null,
   "metadata": {},
   "outputs": [],
   "source": [
    "cluster_data_3_0 = ag_df_3[ag_df_3['cluster'] == 0]\n",
    "pd.set_option('display.max_rows', None)\n",
    "display(cluster_data_3_0)"
   ]
  },
  {
   "cell_type": "code",
   "execution_count": null,
   "metadata": {},
   "outputs": [],
   "source": [
    "cluster_data_3_1 = ag_df_3[ag_df_3['cluster'] == 1]\n",
    "pd.set_option('display.max_rows', None)\n",
    "display(cluster_data_3_1)"
   ]
  }
 ],
 "metadata": {
  "language_info": {
   "name": "python"
  }
 },
 "nbformat": 4,
 "nbformat_minor": 2
}
