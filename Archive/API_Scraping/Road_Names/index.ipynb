{
 "cells": [
  {
   "cell_type": "markdown",
   "metadata": {},
   "source": [
    "## Import & Initialize"
   ]
  },
  {
   "cell_type": "code",
   "execution_count": 3,
   "metadata": {},
   "outputs": [],
   "source": [
    "import os\n",
    "import time\n",
    "\n",
    "from datetime import datetime\n",
    "from dotenv import load_dotenv\n",
    "\n",
    "import pandas as pd\n",
    "import numpy as np\n",
    "\n",
    "\n",
    "\n",
    "import googlemaps\n",
    "import gmplot"
   ]
  },
  {
   "cell_type": "code",
   "execution_count": 4,
   "metadata": {},
   "outputs": [],
   "source": [
    "load_dotenv()\n",
    "API_KEY = os.getenv('GOOGLE_MAPS_API_KEY_3')"
   ]
  },
  {
   "cell_type": "code",
   "execution_count": 5,
   "metadata": {},
   "outputs": [],
   "source": [
    "gmaps = googlemaps.Client(key=API_KEY)"
   ]
  },
  {
   "cell_type": "markdown",
   "metadata": {},
   "source": [
    "## Roads Names"
   ]
  },
  {
   "cell_type": "markdown",
   "metadata": {},
   "source": [
    "#### First Try:"
   ]
  },
  {
   "cell_type": "code",
   "execution_count": 4,
   "metadata": {},
   "outputs": [],
   "source": [
    "def get_roads_in_location(gmaps_client, query, location, radius=50000):\n",
    "    roads_data = []\n",
    "    \n",
    "    # Perform the text search for roads\n",
    "    try:\n",
    "        places_result = gmaps_client.places(query=query, location=location, radius=radius)\n",
    "        \n",
    "        # Print the response status to debug\n",
    "        print(f\"API Response Status: {places_result.get('status')}\")\n",
    "        \n",
    "        # Print the raw results to see what is coming from the API\n",
    "        # print(\"Places Results (raw data):\", places_result['results'])\n",
    "\n",
    "        # Check if there are results\n",
    "        if places_result['status'] == 'ZERO_RESULTS':\n",
    "            print(\"No results found for the query.\")\n",
    "            return roads_data\n",
    "        elif places_result['status'] != 'OK':\n",
    "            print(f\"Error in API response: {places_result['status']}\")\n",
    "            return roads_data\n",
    "        \n",
    "        # Extract road-related names and their locations from initial results\n",
    "        for place in places_result['results']:\n",
    "            place_name = place.get('name', '')\n",
    "            # Check if the place name contains common road keywords\n",
    "            if any(keyword in place_name.lower() for keyword in ['road', 'street', 'highway', 'route']):\n",
    "                road_info = {\n",
    "                    'name': place['name'],\n",
    "                    'latitude': place['geometry']['location']['lat'],\n",
    "                    'longitude': place['geometry']['location']['lng']\n",
    "                }\n",
    "                roads_data.append(road_info)\n",
    "        \n",
    "        # Check if more results are available via pagination (next_page_token)\n",
    "        while 'next_page_token' in places_result:\n",
    "            time.sleep(2)  # Add delay to allow token activation\n",
    "            places_result = gmaps_client.places(query=query, page_token=places_result['next_page_token'])\n",
    "            # print(f\"Next Page API Response Status: {places_result.get('status')}\")\n",
    "            \n",
    "            if places_result['status'] == 'ZERO_RESULTS':\n",
    "                print(\"No more results found on next page.\")\n",
    "                break\n",
    "            elif places_result['status'] != 'OK':\n",
    "                print(f\"Error in API response on next page: {places_result['status']}\")\n",
    "                break\n",
    "            \n",
    "            # Extract road names and their locations from paginated results\n",
    "            for place in places_result['results']:\n",
    "                place_name = place.get('name', '')\n",
    "                # Check if the place name contains common road keywords\n",
    "                if any(keyword in place_name.lower() for keyword in ['road', 'street', 'highway', 'route']):\n",
    "                    road_info = {\n",
    "                        'name': place['name'],\n",
    "                        'latitude': place['geometry']['location']['lat'],\n",
    "                        'longitude': place['geometry']['location']['lng']\n",
    "                    }\n",
    "                    roads_data.append(road_info)\n",
    "    \n",
    "    except Exception as e:\n",
    "        print(f\"An error occurred: {str(e)}\")\n",
    "    \n",
    "    return roads_data\n"
   ]
  },
  {
   "cell_type": "code",
   "execution_count": 5,
   "metadata": {},
   "outputs": [],
   "source": [
    "riyadh_location = (24.7136, 46.6753)\n",
    "\n",
    "# Update query to search for roads instead of main roads\n",
    "query = \"شارع\"\n",
    "\n",
    "# Get the roads in Riyadh\n",
    "roads_data = get_roads_in_location(gmaps, query, riyadh_location)\n",
    "\n",
    "# Print road names and details\n",
    "print(\"Roads in Riyadh:\")\n",
    "for road in roads_data:\n",
    "    print(f\"Name: {road['name']}, Latitude: {road['latitude']}, Longitude: {road['longitude']}\")"
   ]
  },
  {
   "cell_type": "code",
   "execution_count": 6,
   "metadata": {},
   "outputs": [],
   "source": [
    "# road_first = ['11565 Olaya Street, Riyadh','1564 Makkah Al Mukarramah Branch Road, Riyadh','1st Floor, Dove Plaza, (Hyper Panda 4406, 6554 تقاطع شارع أم الحمام مع شارع رضوان، حي أم الحمام الغربي،, Riyadh','2459 Makkah Al Mukarramah Branch Road, Riyadh','3004 No. 58, 12213 8285 Khurais Intersection with Olaya General Street, Riyadh','3019 Abu Bakr Alrazi Street, Riyadh','7520 Ibrahim Ala Nafisi Street Al Madhar, الرياض','8096 King Abdulaziz Road, Riyadh','9033 King Fahd Road, Tower 1, Riyadh','Abi Bakr As Siddiq Road, Riyadh','Al Awsat Valley Street, Riyadh','Al Muhandis Masaid Al Anqari, PM9J+G55, Riyadh','Al Takhassousi, Norah Square, Riyadh','Al Takhassousi, PMG3+72H, Riyadh','Al Takhassousi, Riyadh','Almughirah Ibn Shubah, Riyadh','Andalusia Hotel, Building No-10, Street No-6, Capital O 237, Riyadh','Ash Shaikh Abdullah Al Anqari, Riyadh','Building No.7358 Al Hanka, Riyadh','Center Point, King Abdullah Road, king abdullah road beside home centre, Riyadh','Dababt street, PP34+WFC, Al Hayat Newspaper Building, Riyadh','Imam Saud Bin Abdulaziz Bin Mohammed Road, Riyadh','Khalid Ibn Yazid Ibn Muawiyah, Riyadh','King Abdulaziz Road, PMWJ+CPV, Riyadh','King Abdullah Branch Road, Riyadh','King Fahd Branch Road, Riyadh','King Fahd Road, Riyadh','King Faisal Foundation, King Fahd Branch Road, مبنى, Riyadh','King Salman Neighborhood','Kingdom Centre, Olaya Street, Riyadh','Makkah Al Mukarramah Road, Riyadh','Merfal Apartment, Urwa Bin Ward Street, طريق الأمام سعود بن عبدالعزيز - شارع عروة بن الورد - حي المروج','Office No. 203, Block C, Al Akaria Plaza, Olaya Road, الرياض','Olaya Street, Riyadh','Opposite To The Kingdom Tower, Olaya Street, Riyadh','Prince Muhammad Ibn Abd Al Aziz, Riyadh','Prince Sultan Bin Abdulaziz Rd, Al Olaya, Riyadh','Rafha Street, PPM2+557, Riyadh','Rafha Street, Salah Ad Din, Riyadh','Riyadh','Thalateen Street, Riyadh','prince faisal, Riyadh','tahlia street Riyadh 11322 Saudi Arabia, Riyadh','حي الملك فهد،, طريق الملك فهد, Riyadh','سنتر بوينت, شارع العليــــــا العام , قرب, Riyadh','شارع التخصصي،, Riyadh','شارع, PM2J+FQ2, Riyadh','طريق الملك فهد, Olaya, الرياض','طريق مكة المكرمة، طريق خريص، مقابل مدينة الملك فهد الطبية, Riyadh']"
   ]
  },
  {
   "cell_type": "markdown",
   "metadata": {},
   "source": [
    "#### Second Try:"
   ]
  },
  {
   "cell_type": "code",
   "execution_count": 7,
   "metadata": {},
   "outputs": [],
   "source": [
    "def get_road_names(gmaps, location):\n",
    "    road_names = []\n",
    "    places_result = gmaps.places_nearby(location=location, radius=50000, type='establishment')\n",
    "    \n",
    "    road_names.extend([place.get('vicinity', '') for place in places_result['results']])\n",
    "    \n",
    "    while 'next_page_token' in places_result:\n",
    "        time.sleep(2)\n",
    "        places_result = gmaps.places_nearby(location=location, radius=50000, type='establishment', page_token=places_result['next_page_token'])\n",
    "        road_names.extend([place.get('vicinity', '') for place in places_result['results']])\n",
    "    \n",
    "    return road_names\n",
    "\n",
    "location = {'lat': 24.7136, 'lng': 46.6753}  # Coordinates for Riyadh center\n",
    "roads = get_road_names(gmaps, location)\n",
    "\n",
    "for road in roads:\n",
    "    print(road)\n"
   ]
  },
  {
   "cell_type": "code",
   "execution_count": 8,
   "metadata": {},
   "outputs": [],
   "source": [
    "# road_second = ['Al Urubah Road','Unnamed Road','Olaya Street','Al Ulaya','Khalid Ibn Yazid Ibn Muawiyah','شارع العليا','Abdullah Ibn Zamah','Sayyidah Ar Ruasa','طريق العروبة','Al Khourmah','العروبه','حراج بن قاسم']"
   ]
  },
  {
   "cell_type": "code",
   "execution_count": 9,
   "metadata": {},
   "outputs": [],
   "source": [
    "# road_third = ['Yaqub Ibn Ghanaim','البديعات','أبي صادق المخزومي','Ibn Al Qutub','Al Dahiah','Unnamed Road','Abi Al Faraj Ibn Al Jawzi','Wadi Awal','ابن الأثير','Almalga','أبي البقاء التيمي','ابن هبة الله','Adhbah','سلطان بن بجاد','أبي البركات النسفي','Prince Sultan Bin Salman Bin Abdulaziz Street','Saad Al Kindi','Jawdah','Muhammad As Sabati','مؤتة','Ibn Hamid','92','Abdul Rahman Ibn Hassan Al Umran','Al Hafez Abi Al Mouammar','Al Suhail','Buraidah Ibn Al Husaib','Street Number 84','Ibn Abdulwarith','شارع التخصصي','Abd Al Mouhsen Al Shami','Al Foudoul','Abdulwahab Ibn Abdulqadir','Ash Shulah','Mouta Street','أبي النجح إسماعيل','Al Amir Muhammad Ibn Abdul Aziz Branch Road','شارع الوحدة','Ashiqar','ابن إياس الكناني','Yousef Al Ayoubi','Street Number 94','Abdulhaq Ibn Ali Al Malki','أبي المفاخر الحموي','الأمير محمد بن عبدالعزيز','Abi Ibrahim Al Bardani','Al Maidhar','Wadi Ghulail','Al Mundhir Ibn Abdullah','عتاب الأموي','Al Tounisi','التلمساني','أبي غالب الكاتب','أبي الحسن العطار','Abi Sadik Al Mokhsumi Street','Ibn Al Attar','أبي الفتح القارئ','Muqdam','Algla','قتيبة بن شريح','Al Jazan','عبدالواحد بن جديد','Al Harbi','Uzaihir','Mubarak Al Douaik','Hussain Rushdi','Ibn Ammar Al Asadi','ممر3','Al lethamah','Ahmad Al Itab','Ad Dawid','Ibn Ad Dujaji','Ibn Al Shater','Khousaibah','As Sinani','Abi Backer Bin Niama Path','نعمة','ابن الآبار','Al Badiyah','Abdallah Bin Mohammad Al Talmisani','التاجر','أم البهاء البغدادية','Rumah','Al Jamuh Al Ansari','أبي حامد الغزالي','Abdulrahman Ibn Hibatullah','Al Anadol','Al Hawamidiyah','شارع','عبدالواحد بن عبدالله النصري','Ibn Al Kharasani','Jablah Ibn Malek','Umm Al Karam Az Zahawiyah','Abduljalil Alqurtubi','King Abdallah Ibn Abd Al Aziz','صعائد','Abdulqader Al Jazairi','Jabal Thahlan Path','أبي بكر الصفي','Al Baz','Jabal Nuam','السلطان أبي المغازي','Malik Ibn Khalaf','الثاملة','Abd Al Hakim Al Jamhi','Naim Ibn Masud','أبي الحسن الهاشمي','Abd Al Khalek Ibn Ahmad','Abdullah Ibn Al Arqam','Abi Jafar Ibn Zuraiq','Bashir Ibn Mahfouz','Mura Bin Ghaith Path','As Sanad','موسى بن عقبة، العليا،','Juneah Path','الأفراح','محمود الساوى','وادي خيبر','No. 68','Ibn Al Atar Path','Abdullah Ibn Yasir','Abi Al Qasim Al Balawi','أبي المظفر بن باكير','شارع الأمير سلطان بن سلمان بن عبدالعزيز','Uthman Al Harqumi','Huda Ash Sham','Om Alsaud','الديوان','Abi Abdullah Ibn Dawud','Al Ghuraira','Abi Salih Al Jaili','Yahia Al Bakri','Al Amli','Salih Al Krafi','Ibn Hibatullah','Abi Al Qasim Idris','Al Mansur As Saadi','عمر بن سعيد بن مالك','العماد بن محمد الأصبهاني','Daou Al Sabah','At Takhassusi Branch Street','Abdulrahman Al Azdi','Al Mounzir Ibn Abdullah','الكاتب','وادي العمارية','Malilah','Al Mouwaffaq Al Sabouni','Yosef Al Bazaz Street','الغزولي','Abd Al Wahed Ibn Jarir','Ibn Amamah','Al Jarrah Al Hakami','Zat Al Sawari','Street Number 90','Al Safwi','Safiy Ad Din Al Hali','65','Ibn Al Mamun','Ath Thamad','Abi Al Hussain Al Habri','جبل فحيط','وادي صفير','الغنائم','Umm Hakim','Jabal Qamir','Abi Amr Al Yaseri','ابن أبي ليلي','Sajir','ابن ابي ليلي','Al Shatinah','Abdulrahim Al Maghribi','Al Ajri','Ibn Matir Al Hakami','Az Zurayqat','Al Athal','Abi Al Thoraya Path','أيوب الثعلبى','No. 48','AI- waround neighborhood','يعقوب بن داود','At Takhassusi Branch','Musa Bin Oakba Path','Isa Bin Fairuz','Rafiq Al Hariri','Wadi Mara','Ibn Ad Daminah','شارع الأمير ممدوح بن عبدالعزيز','Ibn Abi Al Hadeed Lane','أبي محمد النساج','Hafr Al Bab','Ibn Al Wathiq','Dumah Al Jandal','ابن المنتخب','Ibn Hydarah','الراشدية','509','الأنجب','Ibrahim Ash Shami','Ash Shuaybah','الخميس','Mansur Al Bahwati','شارع بدر التمام','احمد بن حمبل','Abbas Al Jawhari','شهاب بن أبى بكر','Omar Al Shehab','Al Buraq','عبدالله بن سليمان الحمدان','الأخوة','Ibn Futuh','احمد عبدالغفور عطار','Abi Nuzar Al Jamal','Ibn Zawtan','Abi Al Fadl','Fadl Ibn Salmah','عبدالرحمن بن علي آل الشيخ','أبي العلاء البصري','شارع عبدالله بن سليمان الحمدان','Ibn Al Shaikh','بخاري','Fatimah Umm Al Baha','RQJA3630 Ibn Al Amid','Sabtah','Qasim Al Jabiri','أبي أرطى','ابن الصباغ','No. 66','Qoudamah Ibn Madoun','شارع وادي الكردي','King Abdulaziz Road','Al Qalanasi','محمود بن الربيع','المزرع','Abi Bakr Ibn Al Faqih','الاميراحمد بن عبدالعزيز','وادي الثمامة','طريق الامير محمد بن عبدالعزيز','الأغلب بن عمرو','Thabet Al Loughaoui','أمين واصف','Abi Al Fath Ath Thaqafi','Ibn Atiyah','Abi Tamim Al Musawi','ابن الساعي','أبي مصعب المدني','أبي الحسين الحبري','Ibrahim Ar Rasafi','Duhyah','Khalf Ibn Mudan','رشيد الدين الصوري','Ibn Shakir','Al Masoudi','Prince Abdullah Ibn Faisal Ibn Abdulaziz','الملك فهد الفرعي','شارع جبل المضابيع','Al Raht','Abi Al Mouhasin Al Tousi','Al Katip Street','Aiun Al Jawa Street','شارع 98','Tamam Al Habshi','Al Jamouh Al Ansari','أحمد بن فضلان','Ain Al Thaghrah','Al Wousaiti','ابن الناظر','المواقيتي','ابن أبي الحديد','Abi Hayyan At Tawhidi','Ibn Abanah Al Ashbili','Ibn Naim','Alimam Altartushi Almaliki Path','Al Mughirah Ibn Iyash','الاثير','Salih Ibn Salim','البرقان','Muhammad Ibn Al Zahabi','Mahmud as Sawi','Ar Rabi Al Ahmar','Hatim Ibn Dhafir','Sayyidah Ar Ruasa','ابن عقيل','ابن بركة','إسماعيل السمذي','Al Hazimi','Abi Ath Thana Al Maghribi','Al Mizri','طريق الملك عبدالله الفرعي','Jabalah Ibn Harithah','Hilal Ibn Badr','الدرعي','Az Zanbaq','Mazin Ibn Shaiban','Ibn Al Qazzaz','ثابت بن معاذ الأنصاري','Al Badir','وادي الابطح','علي العريف','Fathuallah Ash Shafi','ابن ابي حليم','ممر7','Ahmad Alghafi Street','خالد بن يزيد','Abi Hadid','الشلال','إبراهيم بن نشا القيسي','Daoud Al Asbahani','Ibn Ibad Al Katib','Al Walid At Tamimi','الرحالة','Al Zouhour','Umm Sadirah','Jafar Alskmi','Rizgallah Altamimi','شارع العليا، حي الملك فهد','Thavit Al Lghawt','أبي جعفر بن زريق','Al Alaya','Ras Al Ain','رقم 62','Ath Thamilah','Mohammad Al Koufi','Mahmoud Ibn Al Rabih','الداخلة','Wadi Hanifah Street','Ar Rabi Ibn Anas','Orjowan','الأمان','الشعلة','Sulaiman Al Murtada','شارع أم الحمام','ابن أمامة','شهاب بن أبي بكر','King Abdullah Branch Road','Al Kutbi','Al Dalimi','Abi Jafar Al Gharnati','Al Mahjar','Oumro Al Qais','As Suraya','Ibn Uqail','أحمد الواعظ','خير الدين الرملي','Tahliah Street','الاملي','Abdullah Ibn Yarbu','Yahia Al Rahwani','الناصرة','إبراهيم بن الحمصي','الغريراء','حارثة بن سهل','أبي محمد الجوهري','Abi Al Ala Ibn Zahr','Al Awwam Ibn Kaab','حسين رشدي','Hasan Shakir Aflatun','Al Awsat Valley Street','خبيرا','مثيبة','Abdulqadir As Saadi','Qutn Ibn Harithah','عيسي الثعالبي','Abi Al Fath Al Qari','مرخ','Al Muthwah','ابن أبي المفاخر','Al Hulyah','أبي عمران الرشيد','الأملي','خالد بن عمير العدوي البصري','حراء','التخصصي','رقم 78','Hatib Ibn Amr','البلاغة','Jafar Ibn Abi Talib','Umar Al Qazzaz','Abi Bakr Al Wasiti','Al Bekaa','سعيد الأسدي','Mouzaffar Al Sawadi','Katib Al Dine','Jabal Amayah','Al Shaikh Hamad Al Jasir','Prince Nayef Ibn Abd Al Aziz','أبي العباس الوكيل','Al Shaqiq','Al Qamra','الربيع الأحمر','Al Sultan Abi Al Maghazi','ابن آجروم','Abi Al Khair Al Sakhaoui','Al Kamli','ابن الأزرق','Al Batinah','Al Bahriah','Al Burj','أبي الفرج بن الجوزي','أبي حديد','Abi Mansur Al Nousouli','ابي المفاخر الحموي','Jaw','Al Shaikh Abdallah','Wadi Al Thoumamah','جبل كويكب','شارع وادي الثمامة','يحيي بن علي','Mujashi Ibn Masud','الزاهد أويس','Ali Ibn Salih','Ahmad Ibrahim Al Ghazzawi','Shuraih Ibn Al Arith','Abdulrazaq an Najari','أبي موسى الجمال','أبي سليك',\"Obaidah Ibn Rabi'ah\",'Nisah','Khair Al Dine Al Ramli','دسمان','البرج','Abi Salik','Panda Parking','Tatouan','محمد ابن ابراهيم ابن جبير','Al Basala','Muhammad Ibn Wahaib','Al Burqat','khalid ibn sinan al absi','Abi As Sadat Al Mubarak','Abdulaziz Al Qabiti','التخصصي الفرعي','Mazra','إبراهيم الرصافي','Ubaidah Ibn Rabia','العليا، 2721','وادي الريحان','Wadi Al Tesrear Street','Ibn An Namis','الأمير خالد بن محمد بن عبدالرحمن','Prince Turki Bin Abdulaziz Al Awal Road','Ibn Abd Al Wahid','Mouheiddine Al Naisaburi','لطف بن محمد الزبيري','Saad Ibn Soubaih','Al Dari','Muhammad As Suwaihali','Youssef Al Kadi','Ibn Abd Al Warith','أبي الفرج الحربي','شارع علي العريف','سعد بن بخيت','Al Barud','داود الأصبهاني','Abi Al Moujahid Al Marouzi','Barquq Al Ashraf','Hussein Roushdi','Hussein Ibn Hasan','Shamail','شارع رقم 54','أبي الفرج العدل','Ibn Al Damina Path','Hasan Al Badr','المعارف','القمراء','Al Badeh','Harithah Ibn Sahl','شارع موسى بن نصير','AR Ramayid','Al Urubah Road','Awis Az Zahid','Al Mufaddhal Ibn Fadhalah','Abi Mansur Al Kilabi','Moosab Al Zubari Street','Al Ghazi Ibn Qays','المراتبي','ذات السواري','أبي الحسن المأموني','ممر13','Ash Shaikh Uthman Ibn Al Barahim','537','Ibn Abi Al Fakhr Path','Fakhr Ad Din Ibn Salamah','Al Nakhai Path','Ibn Umayrah Al Makhzumi','Ahmad At Tai','ابي الفضل','الامير خالد بن محمد بن عبدالرحمن','Ibn Al Mountakhib','Ibrahim Ibn Al Hamasi','Ad Dakhilah','Al Naserah','أبي بكر الواسطي','Al Adl','Al Khoulaif','Abi Al Mufakhir Al Hamawi','Al Takhassousi','Al Seham','وادي القري','أبي علي الزماني','ابن أجروم','الشيحية','Samha','Al Bustan Path',\"Atika'a Bint Zid Street\",'Al Adab Street','Bir Al Kaiam Street','عبدالرحمن بن علي ال الشيخ','Abduljabbar Ibn Abi Dhar','Prince Abdallah Ibn Saoud Ibn Faisal','النور','Abi Hashim Ibn Ammar','Abdullah Ibn Khamis','Taher Al Maqdisi','Abi Al Hasan Al Mamuni','Ibrahim Ibn Al Aghlib','عبدالله بن الارقم','Al Sarh Road','الشيخ مبارك الصباح','وادي عليب','Dhifar','Al-Thumamah Valley Street','Al Bishari','Al Doma Street','Umm Al Fakhr','حصن بن وبرة الطائي','هلال بن امية','شارع العليا','أبي الحسن النحوي','أبي منصور النعماني','Abdulkhaliq Ibn Ahmad','ممر يونس المليجي','Jameh Al Tamimi','Al Bathnah','العصفر','أبي دجانة','Asyad Ibn Abi Iyas','أبي المكارم بن المسلم','طريف','Ash Shallal','Al Mahazim','يحيى بن النجار','Ash Shihab at Taifi','Ibn Al Karif Path','الاناضول','أبي الثناء المغربي','أبي هاشم بن عمار','No. 54','طريق الأمير تركي بن عبدالعزيز الأول','جعفر بن أبي طالب','Muhammad Al Hakim','Albkhit','العليا','Ayyad Ibn Khouwailid','Shourai Ibn Amer','Musa Ibn Nussair Street','التجارة','King Abdullah Road','ممر27','Isa Ath Thaalabi','Al Tourfiah','أبي بكر أحمد بن نعمة','Al Farouthi','Albdiat','ثابت ابن معاذ الانصاري','Street Number 82','Adamnahuri','أبي ثلوم','Hanifa Valley Street','إبراهيم الباهلي','Zain Al Dar','أبي منصور الكلابي','الخليفة الأمين','Wadi Albatah Street','Al Attaf Al Kalbi','التجاره','ورد بن خالد','وادي الكردي','Abi Taib Al Akabi Path','الشيماء','Al Zourwah','Rabiah Bint Abi Al Abbas','Uthman An Nahwi','Wadi Jaleel','Zaid Bin Oasama Street','شعبة بن الحجاج','الزنبق','المرقش الأكبر','Hamzah As Saydalani','Muawiyah Al Aqili','Thabit Al Loghawi Street','Akmal Al Qurashi','AZ Zuhur','Roumah','Hamid at Tawil','Ahbab','Abdullah Ibn Zamah','PM8G+5HX،','ابي المحاسن الطوسي','Muhammad Al Aqbani','Abi Al Barkat An Nisfi','عنبسة الغافقي','الأعوام','Al Khalifah Al Amin','الأغصان','Shaiban At Tamimi','No. 64','Ibn Al Khurayf','Abi Ahmad Al Hamathany Path','أبي سلمة','محمد بن واسع الأزدي','عبدالحميد أبي هيف','Al Harith Ibn Zouhair','Al Shaikh Hamad Al Thani','Suliman Bin Rahma Path','ابن الخصيب الدمشقي','Abi Al Hasan Al Jalajali','Ibrahim Ibn Nasha Al Qaysi','Asfal Al Batin','Al Ghazzal Al Baghdadi','Said Al Asadi','Wadi Jessah','Ismail Al Waidh','الأمير عبدالله بن محمد بن عبدالرحمن','الشهاب الطائفي','Yusuf Al Hanbali','وادي ملحة','أبي منصور النصولي','Al Shalal','يعقوب بن غنائم','إبراهيم الزيادي','Abi An Najah Ismail','أبي عبدالله الحربي','علي إبراهيم','Abi Jafar Al Adeeb Path','وادي سمائل','Said ibn harith','عاتكة بنت زيد','أبي ذر الحنفي','رقم 104','شارع صفوان بن مالك','Abhor','البريمي','المختص البدري','الاغصان','Ibn Al Jamal','أحمد بن داود الجذامي','Ibn Al Faqih','الأمير عبدالله بن فيصل بن عبدالعزيز','Al Bardiyah','Abdulmutalib Al Hanafi','Abi Al Fath Ibn Abi Qasim','جبل اسود العين','Al Fadl Ibn Ismail','الباز','Wadi Al Batin','Ibn Abi Sudika Path','Hafr Albab','جناح','Al Shamardal Al Bajali Path','الشيخ عبدالله العنقري','الخرمه','Al Nabaqiah','Ali Ibn Abdulghaffar','Khalid Ibn Bakir','Rmah','Masyaf','الأمير تركي بن عبدالعزيز الأول الفرعي','القلانسي','Matuq Al Baghdadi','البير','محمد صالح قزاز','ابن الشاطر الأنباري','Sabat Al Ala','Ibn Al Abbar','أحجار الثمام','Abdulrahman Bin Saad Bin Saeed','ابن إدريس','Sulaiman Ibn Al Lubad','محمد بن أبي صفرة','Al Moughirah Ibn Ayash','Ibn Al Mawardi','المليجي','Ibn Arafah','شارع الأمير أحمد بن عبدالعزيز','Wadi Al Raihan','Al Asli','Ali Ibn Wahb','Al Ramayid','أبي الحارث الشافعي','Abdallah Al Nadim','ابي عمارة البغدادي','أبي الحسن الجلاجلي','Abi Al Muhasin Al Khayyat','Al Sinidi Path','Al Ashraf Al Ayyubi','الكرامة','Abdulmalik Ibn Razin','Abdulhamid Abu Haif','Jabal Amaiah','No. 60','حسن شاكر أفلاطون','شارع وادي حنيفة','أحمد المكناسي','ابن حميد','Al Khayzaran','عقدة','وادي مطعم','Al Bouraikah','Ibn Hawqal','Al ghanayim','Abi Muhammad Ibn Hydarah','Umm Abdullah At Tanukhiyah','إبراهيم بن السيد البصري','Muraifiq','Ibn as Sai','Prince Abdullah Ibn Muhammad Ibn Abdulrahman','Al Diwan','Ahmed Al Itab','الافراح','الشيخ محمد بن إبراهيم بن جبير','المقدام','حوطة بني تميم','Kinda Bin Huthain Street','As Sain','Ain Al Shams Al Thaqafiyah','رقم 84','Al Ulaya','صلالة','Al Jalal Al Mahali','نصر بن منصور الضرير','Dabil','Al Cheikh Muhammad Ibn Ibrahim Ibn Joubeir','Al Naqrah','Abi Al Hajjaj Al Maqdisi','أبي الفتح بن أبي القاسم','عبدالله بن سند','Ibrahim Al Muhaddith','رأس العين','Abi Al Abbas Al Farghani','الأمير أحمد بن عبدالرحمن بن فيصل','دقلة','Ibn Ammar',\"Al Howra'a Street\",'عبدالله بن ثعلبة','سطام أبا الخيل','عبدالله بن خميس','Ziad Al Fazari','عامر بن امية','سفيان بن عيينة','Abdullah Ar Ramisi','Al Shouwaier Al Jaafi','Yahya Ar Rahwani','Al Hulwah','الأمن','Al Bark','علي بن الحسن الخزرجي','Wathab Ibn Sabiq','Ibn Fadlan','Ibn Awanah','Al Aliyah','Ali as Saigh','شارع رقم 108','Pedestrians Overpass','أبي العلاء بن زهر','Asinani Path','Hamran','Abi Hanifah Ad Dainuri','جعفر بن عباس بن صديق','Street Number 72','المسدي','Abdulrahman Ibn Ali Al Ash Shaikh','عبدالرحمن بن حسن آل عمران','حراج بن قاسم','Muhammad Ibn Talab','طريق الملك فهد','Al Buraimi','Jabal Baysan','البدر','Abdullah Al Miselli Street','Al Maliji','Ahjar Al Thamam','Abi Al Faraj Aladl','King Fahd Branch Road','Shouja Ibn Wahb','Muthibah','Abi Talh','Ibn Ammarah Al Baghdadi','No. 62','شارع حوطة بني تميم','Abi Masab Al Madani','Al Shoulah','Abdulrahim As Samani','Anbasah Al Ghafaqi','Al Wadiah','Ibn Shuraih','Dasman','Mahmoud Ibn Omair Al Aousi','Masud Al Badri','الأشرف الأيوبي','عبدالله بن سلمه','Ibn Shahman','Ibn Al Hafidh','Ibraheem Alshami','أم سديرة','Dawud Ibn Urwah','King Fahd Road','Aldakhlah','أبي الحسن القلصادي','أبي حيان التوحيدي','Hamid Al Tawil','Al Jumaiha','ابن فتوح','Abi Hafs Ibn Hilal','Albradi','Al Faraj Ibn Kinanah','إبراهيم النفيسي','قريش المدني','Muhammad Ibn Suwaid','Abi Abdallah Al Husseini','Tamam Ibn Umar','Ibn Abi An Najm','Ibn Al Muhalhil','Saad Ibn Bakhit','Al Ataa','شارع سليمان المرتضي','Ubaidullah Allithi','محمد بن أسباط','رقم 52','وادي مية','Jafar Al Andalusi','يحيى بن عدي','الأمير فيصل بن سعد بن عبدالرحمن','Al Roumahi','Abdulkarim Nadir','Heraa','Prince Khalid Ibn Muhammad Ibn Abd Al Rahman','Safaqis','Abi Zakaria Ibn Mansour','أحمد بن المقتدر بالله','شارع رقم 74','Abdulrahman Ibn Mahdi','البساتين','حلوة','Ash Shihah','Al Barqa','Abdulwahid Ibn Jarir','Sad Ibn Bakhit At Turki','Al Muraqish Al Akbar','الازدهار','Ibrahim Ibn Nasha Al Qaisi','Abi Al Mansur Ad Daqiqi','عمر القزاز','Abi Ali Al Qali','ضهية','Ali Ibrahim','أبي نزار الجمال','Abdulrahman bin Saleh Al Shubaili','Al Burqan','Salim Al Hatub Path','يحيى بن معين','Ahmad Abdulghafur Attar','Abi Al Hasan Al Attar','Oqda','Abi Huffs Bin Hilal Path','أحمد بن دراج','Sufyan Ibn Qays','عبدالرحمن أبي شامة','Prince Ahmad Ibn Abdulrahman','المهندس مساعد العنقري','Al Tawim','Al Banan','رقم 74','Al Jabiri','Alamar','Al Sidrah','Abdullah Ibn Abi at Taqi','Al Makhayniq','ابن العطار','Ajdad Street','Abi Umran Ar Rashid','Raoudat Mehanna','Al Huliah','عبدالقادر الجزائري','Abi Muhammad Al Jawhari','Al Hudaifiyah','Ibn Barakah','Asyad Ibn Abdullah','صلاح الدين الصفدي','Jamal Aldin Algezairi','Al Husami','أبي المحاسن','Yehia Bin Yaqut Path','Ar Rahif','Ibn Al Asad','Street Number 74','أبي منصور الكوفي','Abi Ghalib Ibn Saadullah','حجر','Abi Al Mudhaffar Ibn Bakir','Ar Rabiyah','Street Number 92','الراعي الكلبي','Abi Ishaq Al Harbi','Al Aqiliyah','أحمد العشاب','Abdallah Ibn Abi Al Taqi','Al Rashidiah','Safwan Ibn Malik','Yaqub Ibn Dawud','Amr Ibn Marzuq','Souhaj','Ahmad Al Baihaqi','Ibn Sabbagh','أحمد الزاهد','شارع ابن امامه','Muhammad Al Kufi','ابراهيم الزيادي','أبي الحسن بن البناء','أبي الفداء إسماعيل','Arwa Ibn Ouzaina','ام الحمام','الكوكب','Albuhturiah','يوسف القاضي','Abi Haishah','Muhammad Al Muqaddisi','زين الدار المصري','Kareem Alley','جعفر الأندلسي','Abou Al Selm','ممر9','الإقدام','Ibn Al Farad','Thabit Ibn Hazm','المسعودي','Wadi Batan Path','عبدالرحيم الأزدي','أمرؤ القيس','عبدالرحمن بن هبة الله','النقرة','Nasr Ibn Mansur','الجزعان','شارع نساح','Al Farrat Ibn Abi Al Khansa','Al Azuli','Al Abbas Ar Rashidi','المغيرة بن عياش','Sahl Ibn Atik','Al Khamis','Al Qasim Ibn Isa','أبي الحجاج المقدسي','الكثيب','الذبياني','Hanzalah Ibn Malek','عبدالله بن زمعة','Al Fadl Ibn Habbab','Abi Al Qasem Idris','الفضل بن إسماعيل','Abi Thalum','Ibn Hamdun','فضل بن سلمة','Shafi Ibn Al Saeb','Ibn Abi Al Fath Al Kharfi','أبي القاسم البلوي','Al Shehab Al Taifi','صالح الكراني','Safi Al Deen Al Hilli','إبراهيم المحدث','Mousa Ibn Uqbah','الملك عبدالعزيز ابن عبدالرحمن سعود','Muhammad Al Koufi','Ibn Jaljal','Mahmud Ibn AR Rabi','Abi Al Hasan Al Qalsadi','Ahmad ibn Al Muqtadar Billah','Abdulhamid Al Katib','Prince Faisal Ibn Saad Ibn Abd Al Rahman','داود بن عروة','Ibn Sanin','أبي محمد بن حيدرة','أبي أحمد الهمذاني','احمد الواعظ','Al Cheikh Mubarak Al Soubah','Al Henkah','محمد المغربي','سعد بن خيثمة الأوسي','وادي ريمار','مصدق الصلحي','أبي سليمان الأندي','وادي أم أثله','Al Aghlab Ibn Amr','Abi Mohammad Al Jawhari','Omar Al Gazaz Path','Sufyan Ibn Ayinah','Abdullah Ibn Salamah','طريق الملك عبدالله','حنظلة بن مالك','Mahmud Ibn Al Mubarak','Harithah An Najari','Abi Al Faraj Al Adl','المنيني']"
   ]
  },
  {
   "cell_type": "code",
   "execution_count": 10,
   "metadata": {},
   "outputs": [],
   "source": [
    "# road_forth = ['عاقل الليثي','شارع الخرج القديم','المزاحميه 2673','طريق الحاير حوطة بني تميم','Qurtajina','Ibn Zaidoun Street','Al Kharj Road','ابي الحسن الفصيحي','511','Abdallah Ibn Houzafah Al Sahmi','اللغفيه 1766','عبدالله ابن حذافة السهمي','البدائع 194','Al Hameid','5399','Abi Al Abbas Al Asqalani','Al Imam Muslim','Abdul Rahman Ad Dakhil','ممر3','Al Johari','المجزر بن زياد البلوي','طريق الحائر','Unnamed Road','المزاحميه 1284','علي البغدادي','65','Samahat Ash Shaikh Abdulaziz Ibn Baz Street','ابراهيم القيسي','المزاحميه 1264','قرين','أبي الحسن الفصيحي','Jabal Ajyad Road','Gharsa','Fatimah Valley Street','Muslimah Al Fahri','قصور ال مقبل 54','ابن لهيعة','ال حفيان 1193','قصور ال مقبل 52','المزاحميه 1584','وادي فاطمه','جبل الضبيان','طريق رياض الخرج','Aliuddin Al Hanafi','Ahmad Ibn Alkhattab','جبل مركوز','Alsail Alkabeer Road','Ibn Mani','هجرة الاوسط 1032','أبي العباس البغدادي','Weastern Ring Branch Road','وادي لبن','ضرما 206','اللؤلؤة 25','الرفايع 2074','Abdullah Alsahmi Street','5395','ضرما 1189','Mujahid Street','ال حفيان 1256','يوسف نعمة الله','الحائر','النابغه','Al Hadaar Street','أبي بكر بن علي الحدادي العبادي','إسماعيل الصقلي','Al Madina Al Munawwarah Road','وادي السادة','Asir Street','حراء','العزيزية','ابن زيدون','شارع صحار بن عياش','هجرة المناخ 1579','Mohammad Rashid Rida','Shebh Al Jazirah','ابو عماد','Salih Al Hariri Al Afandi Street','حداب القرى','Aljawhri Street','Omar Ibn Al Khattab Branch Road','القاسم ابن امية','الدائري الثالث','وادي الرمه','Al Farazdaq Street','عسير','المجد','505','أم ظهران','Wadi Rikham','جبل حضن','شارع وادي الهدار','Al Haeer Road','المعتصم','قريه ديراب 2289','Wadi Laban','هجرة الاوسط 2515','المزاحميه 2569','المروه','يثرب','عبدالرحمن العنبري','ضرما 1225']"
   ]
  },
  {
   "cell_type": "markdown",
   "metadata": {},
   "source": [
    "#### Last Try:"
   ]
  },
  {
   "cell_type": "code",
   "execution_count": 11,
   "metadata": {},
   "outputs": [],
   "source": [
    "import osmnx as ox\n",
    "import random\n",
    "\n",
    "# Get the street network for Riyadh from OSMnx\n",
    "city_name = 'Riyadh, Saudi Arabia'\n",
    "G = ox.graph_from_place(city_name, network_type='drive')\n",
    "\n",
    "# Convert graph to GeoDataFrame to get road data\n",
    "edges = ox.graph_to_gdfs(G, nodes=False, edges=True)\n",
    "\n",
    "# List to store road names with their corresponding origin-destination pairs\n",
    "roads_with_coords = []\n",
    "\n",
    "# Iterate over edges (road segments) to extract road names, origin, and destination\n",
    "for _, row in edges.iterrows():\n",
    "    # Get the origin and destination coordinates from the edge\n",
    "    origin = f\"{row['geometry'].coords[0][1]},{row['geometry'].coords[0][0]}\"  # lat, lon of start point\n",
    "    destination = f\"{row['geometry'].coords[-1][1]},{row['geometry'].coords[-1][0]}\"  # lat, lon of end point\n",
    "    \n",
    "    # Get the road name (if available)\n",
    "    road_name = row['name'] if 'name' in row and row['name'] is not None else \"Unnamed road\"\n",
    "    \n",
    "    # Append road name and its origin-destination pair to the list\n",
    "    roads_with_coords.append((road_name, origin, destination))\n",
    "\n",
    "for road_info in roads_with_coords[:10]: \n",
    "    road_name, origin, destination = road_info\n",
    "    print(f\"Road: {road_name}, Origin: {origin}, Destination: {destination}\")\n"
   ]
  },
  {
   "cell_type": "code",
   "execution_count": 12,
   "metadata": {},
   "outputs": [],
   "source": [
    "list_graph_roads = []\n",
    "\n",
    "for i in roads_with_coords:\n",
    "    if isinstance(i[0], (list, np.ndarray)):  # Check if i[0] is a list or array\n",
    "        if not pd.isnull(i[0]).any():  # Check if any element in i[0] is NaN\n",
    "            list_graph_roads.append(i[0])\n",
    "    else:  # For scalar values\n",
    "        if not pd.isnull(i[0]):  # Check if i[0] is NaN for scalar\n",
    "            list_graph_roads.append(i[0])\n"
   ]
  },
  {
   "cell_type": "code",
   "execution_count": 13,
   "metadata": {},
   "outputs": [],
   "source": [
    "# list_from_before_graph = ['Al Braida','ضرما','طريق الملك سلمان','عبدالله بن دهيش','شارع الربيع','محمد بن نصر الدمشقي','قرطاجة','أبي العباس الخطيب','شارع الوقار','BRT11','البيطار','علي بن أبي الخير','حامد القاري','طريق الإمام سعود بن فيصل','الخيران','النورة','الطريق الدائري الشمالي','Al Saud','عبدالله الخليفي','وادي حلب','الغنامية','الأحيدب','عبدالله بن حسن آل الشيخ','المفضل الغلابي','الأبهري','شارع وادي أزيمة','الإدريسي','Mahayeda','الظفير','السبهانية','بلقيس','King Fahad Rd','بوعرفة','الشجون','المشورة','رقم 43','سيف الدولة الغافل','Al Massaif','المدينة المنورة','25','سليط بن قيس','يحيى الأنصاري','طريق الخرج','نهر النيل','No. 11','الأمير سلطان بن عبدالعزيز','Al Jamil','Manara','no.218','محمد النياحي','أحمد المقدسي','العريد','اللؤلؤة','شارع رقم 306','أبي حفص النحوي','شارع ابن ماجة','خلاد بن رافع','Dertour','رقم 99','شارع ابن سينا','شيخ الشيوخ الجويني','الغنامية','شارع الشيخ على الحمد الصالحي','السامرية','الحماسة',['حذيفة بن اليمان', 'سليمان بن علي آل مشرف'],'رقم 62','حبان بن أبي جبلة','As-Sahabh','الصعوب','الخليفة الناصر لدين الله','الغدير','طريق مكة المكرمة','أبي عبدالله البهاء','رماح','أبو عبيدة عامر بن الجراح','البريمي','الشيخ صالح بن عبدالعزيز آل الشيخ','طريق تركي الأول بن عبدالعزيز آل سعود','البحار','شارع الصحراوي','الحجاب','القلانسي','عبدالرحيم الدرجي','جبل مبرك','الأخاشب','حسن الشوري','التين','شهاب الدين الغزي','عوف بن عبدالرحمن','طريق الملك عبدالعزيز','ابن الصباغ الخزرجي','الأمير سعد بن عبدالرحمن الأول','السيل','الجديدة','سهيل بن عدي','No. 205','الحوارة','مسلا','الدويمة','طريق الدائري الشرقي','الدائري الشمالي','شارع أبي طاهر الشيباني','ابي الثناء الحلي','الريامة','حمد الشويعر','أبي الندى','Al Wadi Al Akhdhar','محمود الأيوبي','شارع متعب بن عبدالعزيز','ثنيات','سالم الحطاب','شارع حفصه بن سيرين','الحسن الطوسي','عاصم بن عمر','ممر الدحض','صفية بنت أحمد','حمورية','شارع النجمة','شارع عبادة بن الصامت','المباركة','شارع عبدالله التميمي','Mohammed Al Shanqiti','آل درع','القاضي إياس','وادي ترج','وادي قران','الثامر','Ibn Khalkan','سطام أبا الخيل','طريق تركي الأول بن عبدالعزيز آل سعود','خيران','الحسين الكندي','شارع عبدالرحمن بخش','ابن السقاء','سودة','شارع الاحساء','Waqada','ابن النقال','الأعلم النحوي','Abdullah Bin Ibrahim Bin Saif','طريق العليا العام','شعب الحليفة','كرز بن الحارث','حماد المارديني','القاسم النميري','دار المجد','شارع أبي نصر الضرير','شارع عبدالله بن أبي السرح','الذهبي','عبدالعزيز بن محمد بن مانع','السودي','بللسمر','طريق مكة المكرمة','Nemran','شارع الكناني','الموتد','عبدالمجيد بن الحسن','علي بن الهيثم','الأفضلي','يحيى الفرضي','Abi Al Hasan Al Nazani St.','خلف بن عبدالله','زين الدين التنوخي','No. 285','السويداوي','محمد بن أحمد الفاسي','الحمود','شارع عثمان بن عفان','Al Maqrah','فرج حسين','إسحاق بن مرة','المغرة','شارع الشيخ عبد العزيز بن عبد الرحمن بن بشر','Najran','إسماعيل بن السلطان','ابن غزيل','شارع فرج التغلبي','البجادية','دعاء','شارع السلامة','أبي ميمونة','طريق الأمير فيصل بن بندر بن عبدالعزيز','تميم بن مر','وادي ماوان','شارع ال فريان','شارع أبي الحسن المقدسي','أبي الفتح البغدادي','الأشعث','مقدام','معتوق بن أبي البقاء','وادي الأحمد','أحمد التميمي','الأمير سعود بن عبدالله بن جلوي','شارع الأمير بدر بن عبدالعزيز','No. 163','عبدالله بن حبان','شارع أروم','علي عبدالله الشهراني',\"'Al Foqaha\",'ابن جرير التنوخي','أبي العزائم','فاطمة الزهراء','التوحيد']"
   ]
  },
  {
   "cell_type": "code",
   "execution_count": 14,
   "metadata": {},
   "outputs": [],
   "source": [
    "road_names = [road_info[0] for road_info in roads_with_coords if isinstance(road_info[0], str)]\n",
    "\n",
    "unique_road_names = set(road_names)"
   ]
  },
  {
   "cell_type": "code",
   "execution_count": 15,
   "metadata": {},
   "outputs": [],
   "source": [
    "with open(\"unique_road_names.txt\", \"w\") as f:\n",
    "    for road_name in unique_road_names:\n",
    "        f.write(f\"{road_name}\\n\")"
   ]
  },
  {
   "cell_type": "markdown",
   "metadata": {},
   "source": [
    "## Filter Road Names"
   ]
  },
  {
   "cell_type": "markdown",
   "metadata": {},
   "source": [
    "### First Try"
   ]
  },
  {
   "cell_type": "code",
   "execution_count": 16,
   "metadata": {},
   "outputs": [],
   "source": [
    "import re\n",
    "from difflib import SequenceMatcher\n",
    "\n",
    "# Helper function to clean road names\n",
    "def clean_road_name(road_name):\n",
    "    # Convert to lowercase and remove special characters, and translate Arabic numerals if needed\n",
    "    road_name = road_name.lower()\n",
    "    road_name = re.sub(r'[^\\w\\s]', '', road_name)  # Remove punctuation\n",
    "    return road_name\n",
    "\n",
    "# Function to check similarity between two road names\n",
    "def are_similar(name1, name2, threshold=0.8):\n",
    "    similarity = SequenceMatcher(None, name1, name2).ratio()\n",
    "    return similarity >= threshold"
   ]
  },
  {
   "cell_type": "code",
   "execution_count": 17,
   "metadata": {},
   "outputs": [],
   "source": [
    "def get_geocode(road_name, city=\"Riyadh\", country=\"Saudi Arabia\"):\n",
    "\n",
    "    # Try geocoding with road name and context\n",
    "    queries = [road_name, f\"{road_name}, {city}\", f\"{road_name}, {city}, {country}\"]\n",
    "    \n",
    "    for query in queries:\n",
    "        geocode_result = gmaps.geocode(query)\n",
    "        if geocode_result:\n",
    "            location = geocode_result[0]['geometry']['location']\n",
    "            return location['lat'], location['lng']\n",
    "    \n",
    "    # If no result was found\n",
    "    return None, None\n"
   ]
  },
  {
   "cell_type": "code",
   "execution_count": 18,
   "metadata": {},
   "outputs": [],
   "source": [
    "def get_traffic_data(road_name):\n",
    "    try:\n",
    "        # Get geocodes for start and end of the road with fallback mechanism\n",
    "        origin_lat, origin_lng = get_geocode(road_name + \" start\")\n",
    "        destination_lat, destination_lng = get_geocode(road_name + \" end\")\n",
    "        \n",
    "        # If either geocode is missing, skip this road\n",
    "        if origin_lat is None or destination_lat is None:\n",
    "            print(f\"Error getting geocodes for {road_name}\")\n",
    "            return None\n",
    "\n",
    "        origin = f\"{origin_lat},{origin_lng}\"\n",
    "        destination = f\"{destination_lat},{destination_lng}\"\n",
    "        \n",
    "        # Request traffic data using Distance Matrix API\n",
    "        traffic_data = gmaps.distance_matrix(origins=origin, \n",
    "                                             destinations=destination, \n",
    "                                             mode=\"driving\", \n",
    "                                             departure_time=\"now\")\n",
    "        element = traffic_data['rows'][0]['elements'][0]\n",
    "        \n",
    "        # Check if traffic duration is available, otherwise use regular duration\n",
    "        if 'duration_in_traffic' in element:\n",
    "            traffic_duration = element['duration_in_traffic']['value']\n",
    "        elif 'duration' in element:\n",
    "            traffic_duration = element['duration']['value']\n",
    "            print(f\"Traffic data not available for {road_name}, using regular duration\")\n",
    "        else:\n",
    "            print(f\"No duration data found for {road_name}\")\n",
    "            return None\n",
    "\n",
    "        return traffic_duration\n",
    "    except Exception as e:\n",
    "        print(f\"Error getting traffic data for {road_name}: {e}\")\n",
    "        return None\n"
   ]
  },
  {
   "cell_type": "code",
   "execution_count": 19,
   "metadata": {},
   "outputs": [],
   "source": [
    "def deduplicate_roads(road_list):\n",
    "    cleaned_roads = []\n",
    "    unique_roads = []\n",
    "    \n",
    "    for road in road_list:\n",
    "        cleaned_name = clean_road_name(road)\n",
    "        \n",
    "        if not any(are_similar(cleaned_name, clean_road_name(r)) for r in unique_roads):\n",
    "            unique_roads.append(road)\n",
    "    \n",
    "    return unique_roads"
   ]
  },
  {
   "cell_type": "code",
   "execution_count": 20,
   "metadata": {},
   "outputs": [],
   "source": [
    "def rank_roads_by_traffic(roads):\n",
    "    road_traffic = []\n",
    "    \n",
    "    for road in roads:\n",
    "        traffic = get_traffic_data(road)\n",
    "        if traffic is not None:\n",
    "            road_traffic.append((road, traffic))\n",
    "    \n",
    "    # Sort by traffic duration in descending order\n",
    "    road_traffic.sort(key=lambda x: x[1], reverse=True)\n",
    "    return road_traffic[:200]  # Top 200 most trafficked roads\n"
   ]
  },
  {
   "cell_type": "code",
   "execution_count": null,
   "metadata": {},
   "outputs": [],
   "source": [
    "def get_top_200_traffic_roads(road_list):\n",
    "    # Step 1: Clean and deduplicate the roads\n",
    "    unique_roads = deduplicate_roads(road_list)\n",
    "\n",
    "    # Step 2: Rank the roads by traffic\n",
    "    top_200_roads = rank_roads_by_traffic(unique_roads)\n",
    "    \n",
    "    return top_200_roads\n",
    "\n",
    "# Get top 200 roads with the highest traffic\n",
    "top_200_roads = get_top_200_traffic_roads(all_roads)\n",
    "\n",
    "# Display the results\n",
    "for road, traffic in top_200_roads:\n",
    "    print(f\"{road}: {traffic} seconds of traffic delay\")\n"
   ]
  },
  {
   "cell_type": "code",
   "execution_count": null,
   "metadata": {},
   "outputs": [],
   "source": [
    "# len(top_200_roads)"
   ]
  },
  {
   "cell_type": "markdown",
   "metadata": {},
   "source": [
    "### Second Try"
   ]
  },
  {
   "cell_type": "code",
   "execution_count": 47,
   "metadata": {},
   "outputs": [],
   "source": [
    "with open(\"unique_road_names.txt\", \"r\") as f:\n",
    "    loaded_road_names = set(line.strip() for line in f)"
   ]
  },
  {
   "cell_type": "code",
   "execution_count": null,
   "metadata": {},
   "outputs": [],
   "source": [
    "from fuzzywuzzy import fuzz\n",
    "\n",
    "def remove_duplicate_roads(road_names):\n",
    "    unique_roads = []\n",
    "    threshold = 80  # Similarity threshold for fuzzy matching\n",
    "    for road in road_names:\n",
    "        if not any(fuzz.ratio(road, unique) > threshold for unique in unique_roads):\n",
    "            print(f\"Original road count: {road}\")\n",
    "            unique_roads.append(road)\n",
    "    \n",
    "    return unique_roads\n",
    "\n",
    "# Clean duplicates (optional since sets usually handle unique items by nature)\n",
    "cleaned_roads = remove_duplicate_roads(loaded_road_names)"
   ]
  },
  {
   "cell_type": "code",
   "execution_count": 55,
   "metadata": {},
   "outputs": [],
   "source": [
    "with open(\"cleaned_unique_road_names.txt\", \"w\") as f:\n",
    "    for road_name in cleaned_roads:\n",
    "        f.write(f\"{road_name}\\n\")"
   ]
  },
  {
   "cell_type": "markdown",
   "metadata": {},
   "source": [
    "## Filter Depend on Ratio/Distance of Roads"
   ]
  },
  {
   "cell_type": "code",
   "execution_count": 4,
   "metadata": {},
   "outputs": [],
   "source": [
    "with open(\"cleaned_unique_road_names.txt\", \"r\") as f:\n",
    "    cleaned_roads = set(line.strip() for line in f)"
   ]
  },
  {
   "cell_type": "code",
   "execution_count": 5,
   "metadata": {},
   "outputs": [],
   "source": [
    "def get_road_start_end(gmaps_client, road_name, city='Riyadh'):\n",
    "    try:\n",
    "        geocode_result = gmaps_client.geocode(f\"{road_name}, {city}\")\n",
    "        if geocode_result and 'bounds' in geocode_result[0]['geometry']:\n",
    "            start_point = geocode_result[0]['geometry']['bounds']['northeast']\n",
    "            end_point = geocode_result[0]['geometry']['bounds']['southwest']\n",
    "            return (start_point['lat'], start_point['lng']), (end_point['lat'], end_point['lng'])\n",
    "        else:\n",
    "            return None, None\n",
    "    except Exception as e:\n",
    "        print(f\"Error getting start/end points for {road_name}: {e}\")\n",
    "        return None, None"
   ]
  },
  {
   "cell_type": "code",
   "execution_count": null,
   "metadata": {},
   "outputs": [],
   "source": [
    "def determine_traffic_condition(speed_kmh, delay_min):\n",
    "    if speed_kmh < 20 and delay_min > 10:\n",
    "        return 'Heavy Traffic'\n",
    "    elif speed_kmh < 40:\n",
    "        return 'Moderate Traffic'\n",
    "    else:\n",
    "        return 'Light Traffic'\n",
    "\n",
    "def get_traffic_data(gmaps_client, road_name, city='Riyadh'):\n",
    "    start_coords, end_coords = get_road_start_end(gmaps_client, road_name, city)\n",
    "    \n",
    "    if start_coords is None or end_coords is None:\n",
    "        print(f\"Could not retrieve start/end points for {road_name}.\")\n",
    "        return None\n",
    "\n",
    "    origin = f\"{start_coords[0]},{start_coords[1]}\"\n",
    "    destination = f\"{end_coords[0]},{end_coords[1]}\"\n",
    "    \n",
    "    try:\n",
    "        directions_result = gmaps_client.directions(\n",
    "            origin,\n",
    "            destination,\n",
    "            mode=\"driving\",\n",
    "            departure_time=\"now\",  # Real-time traffic data\n",
    "            traffic_model=\"best_guess\"\n",
    "        )\n",
    "\n",
    "        if directions_result:\n",
    "            route = directions_result[0]['legs'][0]\n",
    "            duration_in_traffic_min = route['duration_in_traffic']['value'] / 60\n",
    "            duration_min = route['duration']['value'] / 60\n",
    "            distance_km = route['distance']['value'] / 1000\n",
    "            speed_kmh = (distance_km) / (duration_in_traffic_min / 60)\n",
    "            delay_min = (route['duration_in_traffic']['value'] - route['duration']['value']) / 60\n",
    "            traffic_ratio = duration_in_traffic_min / duration_min\n",
    "            timestamp = datetime.now().isoformat()\n",
    "            day_of_week = datetime.now().strftime('%A')\n",
    "            hour_of_day = datetime.now().hour\n",
    "            is_peak_hour = 1 if hour_of_day in range(7, 10) or hour_of_day in range(17, 20) else 0\n",
    "            time_of_day = datetime.now().strftime('%p')\n",
    "            traffic_condition = determine_traffic_condition(speed_kmh, delay_min)\n",
    "\n",
    "            traffic_data = {\n",
    "                'route_id': f\"{road_name}_{datetime.now().strftime('%Y%m%d%H%M%S')}\",\n",
    "                'road_name': road_name,\n",
    "                'origin': origin,\n",
    "                'destination': destination,\n",
    "                'distance_km': distance_km,\n",
    "                'duration_min': duration_min,\n",
    "                'duration_in_traffic_min': duration_in_traffic_min,\n",
    "                'departure_time': timestamp,\n",
    "                'speed_kmh': speed_kmh,\n",
    "                'delay_min': delay_min,\n",
    "                'traffic_ratio': traffic_ratio,\n",
    "                'timestamp': timestamp,\n",
    "                'day_of_week': day_of_week,\n",
    "                'hour_of_day': hour_of_day,\n",
    "                'is_peak_hour': is_peak_hour,\n",
    "                'time_of_day': time_of_day,\n",
    "                'traffic_condition': traffic_condition\n",
    "            }\n",
    "            return traffic_data\n",
    "        else:\n",
    "            return None\n",
    "    except Exception as e:\n",
    "        print(f\"Error fetching traffic data for {road_name}: {e}\")\n",
    "        return None\n",
    "\n",
    "def generate_data_for_first_10_roads(csv_file, gmaps_client):\n",
    "    df = pd.read_csv(csv_file)\n",
    "    origins_destinations = df['Road Name'].head(10).tolist()  # Get the first 10 road names\n",
    "    traffic_data_list = []\n",
    "\n",
    "    for road_name in origins_destinations:\n",
    "        traffic_data = get_traffic_data(gmaps_client, road_name, city='Riyadh')  # Use road name and city\n",
    "        if traffic_data:\n",
    "            traffic_data_list.append(traffic_data)\n",
    "\n",
    "    traffic_df = pd.DataFrame(traffic_data_list)\n",
    "\n",
    "    traffic_df.to_csv('test_traffic_data.csv', index=False)\n",
    "    print(\"Traffic data for the first 10 roads saved to 'test_traffic_data.csv'.\")\n",
    "\n",
    "# Example usage (replace 'YOUR_GOOGLE_MAPS_API_KEY' with your actual API key)\n",
    "# gmaps_client = googlemaps.Client(key='YOUR_GOOGLE_MAPS_API_KEY')\n",
    "generate_data_for_first_10_roads('filtered_road_names.csv', gmaps)\n"
   ]
  },
  {
   "cell_type": "code",
   "execution_count": null,
   "metadata": {},
   "outputs": [],
   "source": [
    "# Create a DataFrame from the heap\n",
    "df = pd.DataFrame(top_200_heap, columns=['Negative Ratio', 'Road Name', 'Distance (km)', 'Time (mins)'])\n",
    "\n",
    "# Convert the negative ratio back to a positive value\n",
    "df['Ratio (km/min)'] = -df['Negative Ratio']\n",
    "\n",
    "# Drop the negative ratio column since we don't need it anymore\n",
    "df = df.drop(columns=['Negative Ratio'])\n",
    "\n",
    "# Save the DataFrame to a CSV file\n",
    "df.to_csv('filtered_road_names.csv', index=False)\n",
    "\n",
    "print(f\"Data saved to filtered_road_names.csv\")"
   ]
  },
  {
   "cell_type": "markdown",
   "metadata": {},
   "source": [
    "## Add start,end points to csv"
   ]
  },
  {
   "cell_type": "code",
   "execution_count": null,
   "metadata": {},
   "outputs": [],
   "source": [
    "df = pd.read_csv('filtered_road_names.csv')\n",
    "df.head()"
   ]
  },
  {
   "cell_type": "code",
   "execution_count": 44,
   "metadata": {},
   "outputs": [],
   "source": [
    "df[['Start_point','End_point']] = df['Road Name'].apply(lambda x: pd.Series(get_road_start_end(gmaps, x, city='Riyadh')))"
   ]
  },
  {
   "cell_type": "code",
   "execution_count": 46,
   "metadata": {},
   "outputs": [],
   "source": [
    "df.to_csv('filtered_road_names.csv', index=False)"
   ]
  },
  {
   "cell_type": "markdown",
   "metadata": {},
   "source": [
    "## The rest"
   ]
  },
  {
   "cell_type": "code",
   "execution_count": null,
   "metadata": {},
   "outputs": [],
   "source": [
    "df = pd.read_csv('filtered_road_names.csv')\n",
    "df.head()"
   ]
  },
  {
   "cell_type": "code",
   "execution_count": null,
   "metadata": {},
   "outputs": [],
   "source": [
    "df.isna().sum()"
   ]
  },
  {
   "cell_type": "code",
   "execution_count": null,
   "metadata": {},
   "outputs": [],
   "source": [
    "df.duplicated().sum()"
   ]
  },
  {
   "cell_type": "code",
   "execution_count": null,
   "metadata": {},
   "outputs": [],
   "source": [
    "df.info()"
   ]
  },
  {
   "cell_type": "code",
   "execution_count": 98,
   "metadata": {},
   "outputs": [],
   "source": [
    "df = df[(df['Distance (km)'] <= 81) & (df['Distance (km)'] >= 7)]"
   ]
  },
  {
   "cell_type": "code",
   "execution_count": null,
   "metadata": {},
   "outputs": [],
   "source": [
    "import matplotlib.pyplot as plt\n",
    "import pandas as pd\n",
    "import ast\n",
    "\n",
    "# Convert the string representation of tuples into actual tuples\n",
    "df['Start_point'] = df['Start_point'].apply(ast.literal_eval)\n",
    "df['End_point'] = df['End_point'].apply(ast.literal_eval)\n",
    "\n",
    "# Set up the plot\n",
    "plt.figure(figsize=(10, 8))\n",
    "\n",
    "# Plot polylines for each road\n",
    "for index, row in df.iterrows():\n",
    "    start_lat, start_lng = row['Start_point']\n",
    "    end_lat, end_lng = row['End_point']\n",
    "    \n",
    "    # Plot each road line with its start and end points\n",
    "    plt.plot([start_lng, end_lng], [start_lat, end_lat], marker='o', label=row['Road Name'])\n",
    "\n",
    "# Adding labels and title\n",
    "plt.xlabel(\"Longitude\")\n",
    "plt.ylabel(\"Latitude\")\n",
    "plt.title(\"Road Directions Plot\")\n",
    "\n",
    "# Display the plot\n",
    "plt.show()\n"
   ]
  },
  {
   "cell_type": "code",
   "execution_count": null,
   "metadata": {},
   "outputs": [],
   "source": [
    "final_road_list['Bearing_Cluster'].value_counts()"
   ]
  },
  {
   "cell_type": "code",
   "execution_count": null,
   "metadata": {},
   "outputs": [],
   "source": [
    "# final_road_list"
   ]
  },
  {
   "cell_type": "code",
   "execution_count": 124,
   "metadata": {},
   "outputs": [],
   "source": [
    "df_end = final_road_list[(final_road_list['Distance_Cluster'] == 1) & (final_road_list['Geo_Cluster'] == 0)]"
   ]
  },
  {
   "cell_type": "code",
   "execution_count": null,
   "metadata": {},
   "outputs": [],
   "source": [
    "df_end.info()"
   ]
  },
  {
   "cell_type": "markdown",
   "metadata": {},
   "source": [
    "## Generate the Data and save it in S3"
   ]
  },
  {
   "cell_type": "code",
   "execution_count": null,
   "metadata": {},
   "outputs": [],
   "source": [
    "import pandas as pd\n",
    "import googlemaps\n",
    "import os\n",
    "from io import StringIO\n",
    "from datetime import datetime\n",
    "import uuid  # For generating unique filenames\n",
    "import ast\n",
    "\n",
    "# Function to determine traffic color\n",
    "def determine_traffic_color(delay, duration):\n",
    "    if delay < 0.05 * duration:\n",
    "        return 'Blue'\n",
    "    elif delay < 0.20 * duration:\n",
    "        return 'Yellow'\n",
    "    elif delay < 0.50 * duration:\n",
    "        return 'Orange'\n",
    "    elif delay < 1.00 * duration:\n",
    "        return 'Red'\n",
    "    else:\n",
    "        return 'Dark Red'\n",
    "\n",
    "# Function to get traffic data using start and end points from DataFrame\n",
    "def get_traffic_data_from_dataframe(gmaps_client, start_lat, start_lng, end_lat, end_lng, road_name, city='Riyadh'):\n",
    "    origin = f\"{start_lat},{start_lng}\"\n",
    "    destination = f\"{end_lat},{end_lng}\"\n",
    "    \n",
    "    try:\n",
    "        directions_result = gmaps_client.directions(\n",
    "            origin, destination, mode=\"driving\", departure_time=\"now\", traffic_model=\"best_guess\"\n",
    "        )\n",
    "\n",
    "        if not directions_result:\n",
    "            return None\n",
    "\n",
    "        route = directions_result[0]['legs'][0]\n",
    "        duration_in_traffic_min = route['duration_in_traffic']['value'] / 60\n",
    "        distance_km = route['distance']['value'] / 1000\n",
    "        speed_kmh = distance_km / (duration_in_traffic_min / 60)\n",
    "        delay_min = (route['duration_in_traffic']['value'] - route['duration']['value']) / 60\n",
    "        traffic_condition = determine_traffic_color(delay_min, route['duration']['value'] / 60)\n",
    "        timestamp = datetime.now().isoformat()\n",
    "        \n",
    "        return {\n",
    "            'road_name': road_name,\n",
    "            'distance_km': distance_km,\n",
    "            'duration_in_traffic_min': duration_in_traffic_min,\n",
    "            'speed_kmh': speed_kmh,\n",
    "            'delay_min': delay_min,\n",
    "            'traffic_condition': traffic_condition,\n",
    "            'timestamp': timestamp,\n",
    "        }\n",
    "    except Exception as e:\n",
    "        print(f\"Error fetching traffic data for {road_name}: {e}\")\n",
    "        return None\n",
    "\n",
    "# Function to generate traffic data for all roads in DataFrame\n",
    "def generate_data_from_dataframe(csv_file, gmaps_client):\n",
    "    df = pd.read_csv(csv_file)\n",
    "    \n",
    "    # Assuming your dataframe has columns: 'Road Name', 'start_lat', 'start_lng', 'end_lat', 'end_lng'\n",
    "    traffic_data_list = []\n",
    "    df['Start_point'] = df['Start_point'].apply(ast.literal_eval)\n",
    "    df['End_point'] = df['End_point'].apply(ast.literal_eval)\n",
    "    \n",
    "    for _, row in df.iterrows():\n",
    "        road_name = row['Road Name']\n",
    "        # start_lat = row['start_lat']\n",
    "        # start_lng = row['start_lng']\n",
    "        start_lat,start_lng = row['Start_point']\n",
    "        end_lat,end_lng = row['End_point']\n",
    "        # end_lat = row['end_lat']\n",
    "        # end_lng = row['end_lng']\n",
    "        \n",
    "        traffic_data = get_traffic_data_from_dataframe(gmaps_client, start_lat, start_lng, end_lat, end_lng, road_name)\n",
    "        \n",
    "        if traffic_data:\n",
    "            traffic_data_list.append(traffic_data)\n",
    "\n",
    "    if traffic_data_list:\n",
    "        # Convert traffic data list to DataFrame\n",
    "        traffic_df = pd.DataFrame(traffic_data_list)\n",
    "        \n",
    "        # Generate a unique filename using UUID and timestamp\n",
    "        timestamp = datetime.now().strftime(\"%Y%m%d_%H%M%S\")\n",
    "        unique_filename = f\"traffic_data_{timestamp}_{uuid.uuid4()}.csv\"\n",
    "        \n",
    "        # Write to local CSV file\n",
    "        traffic_df.to_csv(unique_filename, index=False)\n",
    "        \n",
    "        print(f\"Traffic data saved as '{unique_filename}'.\")\n",
    "\n",
    "# Run the function with your CSV file\n",
    "generate_data_from_dataframe('filtered_road_names.csv', gmaps)\n"
   ]
  },
  {
   "cell_type": "code",
   "execution_count": null,
   "metadata": {},
   "outputs": [],
   "source": [
    "# import boto3\n",
    "import pandas as pd\n",
    "import googlemaps\n",
    "import os\n",
    "from io import StringIO\n",
    "from datetime import datetime\n",
    "import uuid  # For generating unique filenames\n",
    "\n",
    "# Function to determine traffic color\n",
    "def determine_traffic_color(delay, duration):\n",
    "    if delay < 0.05 * duration:\n",
    "        return 'Blue'\n",
    "    elif delay < 0.20 * duration:\n",
    "        return 'Yellow'\n",
    "    elif delay < 0.50 * duration:\n",
    "        return 'Orange'\n",
    "    elif delay < 1.00 * duration:\n",
    "        return 'Red'\n",
    "    else:\n",
    "        return 'Dark Red'\n",
    "\n",
    "# Function to get traffic data from Google Maps\n",
    "def get_traffic_data(gmaps_client, road_name, city='Riyadh'):\n",
    "    start_coords, end_coords = get_road_start_end(gmaps_client, road_name, city)\n",
    "    \n",
    "    if not start_coords or not end_coords:\n",
    "        print(f\"Could not retrieve start/end points for {road_name}.\")\n",
    "        return None\n",
    "\n",
    "    origin = f\"{start_coords[0]},{start_coords[1]}\"\n",
    "    destination = f\"{end_coords[0]},{end_coords[1]}\"\n",
    "    \n",
    "    try:\n",
    "        directions_result = gmaps_client.directions(\n",
    "            origin, destination, mode=\"driving\", departure_time=\"now\", traffic_model=\"best_guess\"\n",
    "        )\n",
    "\n",
    "        if not directions_result:\n",
    "            return None\n",
    "\n",
    "        route = directions_result[0]['legs'][0]\n",
    "        duration_in_traffic_min = route['duration_in_traffic']['value'] / 60\n",
    "        distance_km = route['distance']['value'] / 1000\n",
    "        speed_kmh = distance_km / (duration_in_traffic_min / 60)\n",
    "        delay_min = (route['duration_in_traffic']['value'] - route['duration']['value']) / 60\n",
    "        traffic_condition = determine_traffic_color(delay_min, route['duration']['value'] / 60)\n",
    "        timestamp = datetime.now().isoformat()\n",
    "        \n",
    "        return {\n",
    "            'road_name': road_name,\n",
    "            'distance_km': distance_km,\n",
    "            'duration_in_traffic_min': duration_in_traffic_min,\n",
    "            'speed_kmh': speed_kmh,\n",
    "            'delay_min': delay_min,\n",
    "            'traffic_condition': traffic_condition,\n",
    "            'timestamp': timestamp,\n",
    "        }\n",
    "    except Exception as e:\n",
    "        print(f\"Error fetching traffic data for {road_name}: {e}\")\n",
    "        return None\n",
    "\n",
    "# Function to generate traffic data and save to S3 with unique filenames\n",
    "def generate_data_for_first_10_roads(csv_file, gmaps_client):\n",
    "    df = pd.read_csv(csv_file)\n",
    "    road_names = df['Road Name']\n",
    "    traffic_data_list = [get_traffic_data(gmaps_client, road, city='Riyadh') for road in road_names if get_traffic_data(gmaps_client, road, city='Riyadh')]\n",
    "\n",
    "    if traffic_data_list:\n",
    "        # Convert traffic data list to DataFrame\n",
    "        traffic_df = pd.DataFrame(traffic_data_list)\n",
    "        \n",
    "        # Generate a unique filename using UUID and timestamp\n",
    "        timestamp = datetime.now().strftime(\"%Y%m%d_%H%M%S\")\n",
    "        unique_filename = f\"traffic_data_{timestamp}_{uuid.uuid4()}.csv\"\n",
    "        \n",
    "        # Write to in-memory CSV buffer\n",
    "        # csv_buffer = StringIO()\n",
    "        traffic_df.to_csv(unique_filename, index=False)\n",
    "\n",
    "        # # Upload to S3\n",
    "        # s3 = boto3.client('s3')\n",
    "        # s3.put_object(Bucket='your_bucket_name', Key=unique_filename, Body=csv_buffer.getvalue())\n",
    "        \n",
    "        print(f\"Traffic data saved to S3 as '{unique_filename}'.\")\n",
    "\n",
    "generate_data_for_first_10_roads('filtered_road_names.csv', gmaps)"
   ]
  }
 ],
 "metadata": {
  "kernelspec": {
   "display_name": "base",
   "language": "python",
   "name": "python3"
  },
  "language_info": {
   "codemirror_mode": {
    "name": "ipython",
    "version": 3
   },
   "file_extension": ".py",
   "mimetype": "text/x-python",
   "name": "python",
   "nbconvert_exporter": "python",
   "pygments_lexer": "ipython3",
   "version": "3.11.7"
  }
 },
 "nbformat": 4,
 "nbformat_minor": 2
}
