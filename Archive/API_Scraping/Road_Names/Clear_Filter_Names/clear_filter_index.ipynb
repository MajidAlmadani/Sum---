{
 "cells": [
  {
   "cell_type": "markdown",
   "metadata": {},
   "source": [
    "## Import & Initialize"
   ]
  },
  {
   "cell_type": "code",
   "execution_count": 3,
   "metadata": {},
   "outputs": [],
   "source": [
    "import os\n",
    "import time\n",
    "from datetime import datetime\n",
    "from dotenv import load_dotenv\n",
    "\n",
    "import googlemaps\n",
    "import gmplot\n",
    "\n",
    "import pandas as pd\n",
    "\n",
    "import re\n",
    "from difflib import SequenceMatcher\n",
    "from fuzzywuzzy import fuzz\n"
   ]
  },
  {
   "cell_type": "code",
   "execution_count": 4,
   "metadata": {},
   "outputs": [],
   "source": [
    "load_dotenv()\n",
    "API_KEY = os.getenv('GOOGLE_MAPS_API_KEY_3')"
   ]
  },
  {
   "cell_type": "code",
   "execution_count": 5,
   "metadata": {},
   "outputs": [],
   "source": [
    "gmaps = googlemaps.Client(key=API_KEY)"
   ]
  },
  {
   "cell_type": "markdown",
   "metadata": {},
   "source": [
    "## Filter Road Names"
   ]
  },
  {
   "cell_type": "markdown",
   "metadata": {},
   "source": [
    "### First Try"
   ]
  },
  {
   "cell_type": "code",
   "execution_count": 16,
   "metadata": {},
   "outputs": [],
   "source": [
    "def clean_road_name(road_name):\n",
    "    road_name = road_name.lower()\n",
    "    road_name = re.sub(r'[^\\w\\s]', '', road_name)\n",
    "    return road_name\n",
    "\n",
    "def are_similar(name1, name2, threshold=0.8):\n",
    "    similarity = SequenceMatcher(None, name1, name2).ratio()\n",
    "    return similarity >= threshold"
   ]
  },
  {
   "cell_type": "code",
   "execution_count": 17,
   "metadata": {},
   "outputs": [],
   "source": [
    "def get_geocode(road_name, city=\"Riyadh\", country=\"Saudi Arabia\"):\n",
    "\n",
    "    queries = [road_name, f\"{road_name}, {city}\", f\"{road_name}, {city}, {country}\"]\n",
    "    \n",
    "    for query in queries:\n",
    "        geocode_result = gmaps.geocode(query)\n",
    "        if geocode_result:\n",
    "            location = geocode_result[0]['geometry']['location']\n",
    "            return location['lat'], location['lng']\n",
    "    \n",
    "    return None, None\n"
   ]
  },
  {
   "cell_type": "code",
   "execution_count": 18,
   "metadata": {},
   "outputs": [],
   "source": [
    "def get_traffic_data(road_name):\n",
    "    try:\n",
    "        origin_lat, origin_lng = get_geocode(road_name + \" start\")\n",
    "        destination_lat, destination_lng = get_geocode(road_name + \" end\")\n",
    "        \n",
    "        if origin_lat is None or destination_lat is None:\n",
    "            print(f\"Error getting geocodes for {road_name}\")\n",
    "            return None\n",
    "\n",
    "        origin = f\"{origin_lat},{origin_lng}\"\n",
    "        destination = f\"{destination_lat},{destination_lng}\"\n",
    "        \n",
    "        traffic_data = gmaps.distance_matrix(origins=origin, \n",
    "                                            destinations=destination, \n",
    "                                            mode=\"driving\", \n",
    "                                            departure_time=\"now\")\n",
    "        element = traffic_data['rows'][0]['elements'][0]\n",
    "        \n",
    "        if 'duration_in_traffic' in element:\n",
    "            traffic_duration = element['duration_in_traffic']['value']\n",
    "        elif 'duration' in element:\n",
    "            traffic_duration = element['duration']['value']\n",
    "            print(f\"Traffic data not available for {road_name}, using regular duration\")\n",
    "        else:\n",
    "            print(f\"No duration data found for {road_name}\")\n",
    "            return None\n",
    "\n",
    "        return traffic_duration\n",
    "    except Exception as e:\n",
    "        print(f\"Error getting traffic data for {road_name}: {e}\")\n",
    "        return None\n"
   ]
  },
  {
   "cell_type": "code",
   "execution_count": 19,
   "metadata": {},
   "outputs": [],
   "source": [
    "def deduplicate_roads(road_list):\n",
    "    cleaned_roads = []\n",
    "    unique_roads = []\n",
    "    \n",
    "    for road in road_list:\n",
    "        cleaned_name = clean_road_name(road)\n",
    "        \n",
    "        if not any(are_similar(cleaned_name, clean_road_name(r)) for r in unique_roads):\n",
    "            unique_roads.append(road)\n",
    "    \n",
    "    return unique_roads"
   ]
  },
  {
   "cell_type": "code",
   "execution_count": 20,
   "metadata": {},
   "outputs": [],
   "source": [
    "def rank_roads_by_traffic(roads):\n",
    "    road_traffic = []\n",
    "    \n",
    "    for road in roads:\n",
    "        traffic = get_traffic_data(road)\n",
    "        if traffic is not None:\n",
    "            road_traffic.append((road, traffic))\n",
    "    \n",
    "    road_traffic.sort(key=lambda x: x[1], reverse=True)\n",
    "    return road_traffic[:200]\n"
   ]
  },
  {
   "cell_type": "code",
   "execution_count": null,
   "metadata": {},
   "outputs": [],
   "source": [
    "def get_top_200_traffic_roads(road_list):\n",
    "    unique_roads = deduplicate_roads(road_list)\n",
    "\n",
    "    top_200_roads = rank_roads_by_traffic(unique_roads)\n",
    "    \n",
    "    return top_200_roads\n",
    "\n",
    "\n",
    "top_200_roads = get_top_200_traffic_roads(all_roads)\n",
    "\n",
    "for road, traffic in top_200_roads:\n",
    "    print(f\"{road}: {traffic} seconds of traffic delay\")\n"
   ]
  },
  {
   "cell_type": "code",
   "execution_count": null,
   "metadata": {},
   "outputs": [],
   "source": [
    "len(top_200_roads)"
   ]
  },
  {
   "cell_type": "markdown",
   "metadata": {},
   "source": [
    "### Second Try"
   ]
  },
  {
   "cell_type": "code",
   "execution_count": 47,
   "metadata": {},
   "outputs": [],
   "source": [
    "with open(\"unique_road_names.txt\", \"r\") as f:\n",
    "    loaded_road_names = set(line.strip() for line in f)"
   ]
  },
  {
   "cell_type": "code",
   "execution_count": null,
   "metadata": {},
   "outputs": [],
   "source": [
    "def remove_duplicate_roads(road_names):\n",
    "    unique_roads = []\n",
    "    threshold = 80 \n",
    "    for road in road_names:\n",
    "        if not any(fuzz.ratio(road, unique) > threshold for unique in unique_roads):\n",
    "            print(f\"Original road count: {road}\")\n",
    "            unique_roads.append(road)\n",
    "    \n",
    "    return unique_roads\n",
    "\n",
    "cleaned_roads = remove_duplicate_roads(loaded_road_names)"
   ]
  },
  {
   "cell_type": "code",
   "execution_count": 55,
   "metadata": {},
   "outputs": [],
   "source": [
    "with open(\"cleaned_unique_road_names.txt\", \"w\") as f:\n",
    "    for road_name in cleaned_roads:\n",
    "        f.write(f\"{road_name}\\n\")"
   ]
  },
  {
   "cell_type": "markdown",
   "metadata": {},
   "source": [
    "## Filter Depend on Ratio/Distance of Roads"
   ]
  },
  {
   "cell_type": "code",
   "execution_count": 4,
   "metadata": {},
   "outputs": [],
   "source": [
    "with open(\"cleaned_unique_road_names.txt\", \"r\") as f:\n",
    "    cleaned_roads = set(line.strip() for line in f)"
   ]
  },
  {
   "cell_type": "code",
   "execution_count": 5,
   "metadata": {},
   "outputs": [],
   "source": [
    "def get_road_start_end(gmaps_client, road_name, city='Riyadh'):\n",
    "    try:\n",
    "        geocode_result = gmaps_client.geocode(f\"{road_name}, {city}\")\n",
    "        if geocode_result and 'bounds' in geocode_result[0]['geometry']:\n",
    "            start_point = geocode_result[0]['geometry']['bounds']['northeast']\n",
    "            end_point = geocode_result[0]['geometry']['bounds']['southwest']\n",
    "            return (start_point['lat'], start_point['lng']), (end_point['lat'], end_point['lng'])\n",
    "        else:\n",
    "            return None, None\n",
    "    except Exception as e:\n",
    "        print(f\"Error getting start/end points for {road_name}: {e}\")\n",
    "        return None, None"
   ]
  },
  {
   "cell_type": "code",
   "execution_count": null,
   "metadata": {},
   "outputs": [],
   "source": [
    "def determine_traffic_condition(speed_kmh, delay_min):\n",
    "    if speed_kmh < 20 and delay_min > 10:\n",
    "        return 'Heavy Traffic'\n",
    "    elif speed_kmh < 40:\n",
    "        return 'Moderate Traffic'\n",
    "    else:\n",
    "        return 'Light Traffic'\n",
    "\n",
    "def get_traffic_data(gmaps_client, road_name, city='Riyadh'):\n",
    "    start_coords, end_coords = get_road_start_end(gmaps_client, road_name, city)\n",
    "    \n",
    "    if start_coords is None or end_coords is None:\n",
    "        print(f\"Could not retrieve start/end points for {road_name}.\")\n",
    "        return None\n",
    "\n",
    "    origin = f\"{start_coords[0]},{start_coords[1]}\"\n",
    "    destination = f\"{end_coords[0]},{end_coords[1]}\"\n",
    "    \n",
    "    try:\n",
    "        directions_result = gmaps_client.directions(\n",
    "            origin,\n",
    "            destination,\n",
    "            mode=\"driving\",\n",
    "            departure_time=\"now\",\n",
    "            traffic_model=\"best_guess\"\n",
    "        )\n",
    "\n",
    "        if directions_result:\n",
    "            route = directions_result[0]['legs'][0]\n",
    "            duration_in_traffic_min = route['duration_in_traffic']['value'] / 60\n",
    "            duration_min = route['duration']['value'] / 60\n",
    "            distance_km = route['distance']['value'] / 1000\n",
    "            speed_kmh = (distance_km) / (duration_in_traffic_min / 60)\n",
    "            delay_min = (route['duration_in_traffic']['value'] - route['duration']['value']) / 60\n",
    "            traffic_ratio = duration_in_traffic_min / duration_min\n",
    "            timestamp = datetime.now().isoformat()\n",
    "            day_of_week = datetime.now().strftime('%A')\n",
    "            hour_of_day = datetime.now().hour\n",
    "            is_peak_hour = 1 if hour_of_day in range(7, 10) or hour_of_day in range(17, 20) else 0\n",
    "            time_of_day = datetime.now().strftime('%p')\n",
    "            traffic_condition = determine_traffic_condition(speed_kmh, delay_min)\n",
    "\n",
    "            traffic_data = {\n",
    "                'route_id': f\"{road_name}_{datetime.now().strftime('%Y%m%d%H%M%S')}\",\n",
    "                'road_name': road_name,\n",
    "                'origin': origin,\n",
    "                'destination': destination,\n",
    "                'distance_km': distance_km,\n",
    "                'duration_min': duration_min,\n",
    "                'duration_in_traffic_min': duration_in_traffic_min,\n",
    "                'departure_time': timestamp,\n",
    "                'speed_kmh': speed_kmh,\n",
    "                'delay_min': delay_min,\n",
    "                'traffic_ratio': traffic_ratio,\n",
    "                'timestamp': timestamp,\n",
    "                'day_of_week': day_of_week,\n",
    "                'hour_of_day': hour_of_day,\n",
    "                'is_peak_hour': is_peak_hour,\n",
    "                'time_of_day': time_of_day,\n",
    "                'traffic_condition': traffic_condition\n",
    "            }\n",
    "            return traffic_data\n",
    "        else:\n",
    "            return None\n",
    "    except Exception as e:\n",
    "        print(f\"Error fetching traffic data for {road_name}: {e}\")\n",
    "        return None\n",
    "\n",
    "def generate_data_for_first_10_roads(csv_file, gmaps_client):\n",
    "    df = pd.read_csv(csv_file)\n",
    "    origins_destinations = df['Road Name'].head(10).tolist()  \n",
    "    traffic_data_list = []\n",
    "\n",
    "    for road_name in origins_destinations:\n",
    "        traffic_data = get_traffic_data(gmaps_client, road_name, city='Riyadh')  \n",
    "        if traffic_data:\n",
    "            traffic_data_list.append(traffic_data)\n",
    "\n",
    "    traffic_df = pd.DataFrame(traffic_data_list)\n",
    "\n",
    "    traffic_df.to_csv('test_traffic_data.csv', index=False)\n",
    "    print(\"Traffic data for the first 10 roads saved to 'test_traffic_data.csv'.\")\n",
    "    \n",
    "generate_data_for_first_10_roads('filtered_road_names.csv', gmaps)\n"
   ]
  },
  {
   "cell_type": "code",
   "execution_count": null,
   "metadata": {},
   "outputs": [],
   "source": [
    "df = pd.DataFrame(top_200_heap, columns=['Negative Ratio', 'Road Name', 'Distance (km)', 'Time (mins)'])\n",
    "\n",
    "df['Ratio (km/min)'] = -df['Negative Ratio']\n",
    "\n",
    "df = df.drop(columns=['Negative Ratio'])\n",
    "\n",
    "df.to_csv('filtered_road_names.csv', index=False)\n",
    "\n",
    "print(f\"Data saved to filtered_road_names.csv\")"
   ]
  },
  {
   "cell_type": "markdown",
   "metadata": {},
   "source": [
    "## Add start,end points to csv"
   ]
  },
  {
   "cell_type": "code",
   "execution_count": null,
   "metadata": {},
   "outputs": [],
   "source": [
    "df = pd.read_csv('filtered_road_names.csv')\n",
    "df.head()"
   ]
  },
  {
   "cell_type": "code",
   "execution_count": 44,
   "metadata": {},
   "outputs": [],
   "source": [
    "df[['Start_point','End_point']] = df['Road Name'].apply(lambda x: pd.Series(get_road_start_end(gmaps, x, city='Riyadh')))"
   ]
  },
  {
   "cell_type": "code",
   "execution_count": 46,
   "metadata": {},
   "outputs": [],
   "source": [
    "df.to_csv('filtered_road_names.csv', index=False)"
   ]
  }
 ],
 "metadata": {
  "kernelspec": {
   "display_name": "base",
   "language": "python",
   "name": "python3"
  },
  "language_info": {
   "codemirror_mode": {
    "name": "ipython",
    "version": 3
   },
   "file_extension": ".py",
   "mimetype": "text/x-python",
   "name": "python",
   "nbconvert_exporter": "python",
   "pygments_lexer": "ipython3",
   "version": "3.11.7"
  }
 },
 "nbformat": 4,
 "nbformat_minor": 2
}
