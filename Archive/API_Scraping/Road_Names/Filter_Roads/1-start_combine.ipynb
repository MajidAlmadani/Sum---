{
 "cells": [
  {
   "cell_type": "code",
   "execution_count": 66,
   "metadata": {},
   "outputs": [],
   "source": [
    "import os\n",
    "import pandas as pd"
   ]
  },
  {
   "cell_type": "code",
   "execution_count": 67,
   "metadata": {},
   "outputs": [],
   "source": [
    "directory = '/Users/cornflex/Desktop/Project/T5/T5-CapstoneProject/WebScraping/Filter_Roads/start/Dataset/'\n",
    "\n",
    "files = os.listdir(directory)\n",
    "\n",
    "csv_files = [f for f in files if f.endswith('.csv')]\n",
    "\n",
    "dfs = []\n",
    "for csv_file in csv_files:\n",
    "    file_path = os.path.join(directory, csv_file)\n",
    "    df = pd.read_csv(file_path)\n",
    "    dfs.append(df)\n",
    "\n",
    "df = pd.concat(dfs, ignore_index=True)"
   ]
  },
  {
   "cell_type": "code",
   "execution_count": 68,
   "metadata": {},
   "outputs": [],
   "source": [
    "gd = df.groupby(['road_name', 'Start_point', 'End_point']).agg({\n",
    "    'delay_min': 'mean',\n",
    "    'speed_kmh': 'mean',\n",
    "    'duration_in_traffic_min': 'mean',\n",
    "    'distance_km': 'mean',\n",
    "    'traffic_condition': lambda x: x.mode()[0]  # Take the most frequent traffic condition\n",
    "}).reset_index()"
   ]
  },
  {
   "cell_type": "code",
   "execution_count": 69,
   "metadata": {},
   "outputs": [],
   "source": [
    "df = gd[(gd['distance_km'] <= 81) & (gd['distance_km'] >= 6)]"
   ]
  },
  {
   "cell_type": "code",
   "execution_count": 70,
   "metadata": {},
   "outputs": [],
   "source": [
    "df.reset_index(drop=True, inplace=True)"
   ]
  },
  {
   "cell_type": "code",
   "execution_count": 71,
   "metadata": {},
   "outputs": [
    {
     "data": {
      "text/plain": [
       "249"
      ]
     },
     "execution_count": 71,
     "metadata": {},
     "output_type": "execute_result"
    }
   ],
   "source": [
    "df[['Start_point','End_point']].duplicated().sum()"
   ]
  },
  {
   "cell_type": "code",
   "execution_count": 72,
   "metadata": {},
   "outputs": [],
   "source": [
    "df = df.drop_duplicates(subset=['Start_point','End_point'])"
   ]
  },
  {
   "cell_type": "code",
   "execution_count": 73,
   "metadata": {},
   "outputs": [],
   "source": [
    "import ast\n",
    "\n",
    "df['Start_point'] = df['Start_point'].apply(ast.literal_eval)\n",
    "df['End_point'] = df['End_point'].apply(ast.literal_eval)\n",
    "\n",
    "\n",
    "top_left = (24.985496, 46.467449)\n",
    "bottom_right = (24.609640, 46.928374)\n",
    "\n",
    "def clean_in_riyadh(row):\n",
    "    road_start = row['Start_point']\n",
    "    road_end = row['End_point']\n",
    "    \n",
    "    if (((road_start[0] <= top_left[0]) and (road_start[1] >= top_left[1])) and ((road_start[0] >= bottom_right[0]) and (road_start[1] <= bottom_right[1]))):\n",
    "        return 'in'   \n",
    "    \n",
    "    elif (((road_end[0] <= top_left[0]) and (road_end[1] >= top_left[1])) and((road_end[0] >= bottom_right[0]) and (road_end[1] <= bottom_right[1]))):\n",
    "        return 'in'   \n",
    "    \n",
    "    else:\n",
    "        return None\n",
    "\n",
    "df['outside_riyadh'] = df.apply(clean_in_riyadh,axis=1);\n",
    "\n",
    "df.isna().sum()\n",
    "df.dropna(inplace=True)\n",
    "\n",
    "df.drop(columns=['outside_riyadh'],inplace=True)"
   ]
  },
  {
   "cell_type": "code",
   "execution_count": 74,
   "metadata": {},
   "outputs": [
    {
     "name": "stdout",
     "output_type": "stream",
     "text": [
      "<class 'pandas.core.frame.DataFrame'>\n",
      "Int64Index: 309 entries, 2 to 662\n",
      "Data columns (total 8 columns):\n",
      " #   Column                   Non-Null Count  Dtype  \n",
      "---  ------                   --------------  -----  \n",
      " 0   road_name                309 non-null    object \n",
      " 1   Start_point              309 non-null    object \n",
      " 2   End_point                309 non-null    object \n",
      " 3   delay_min                309 non-null    float64\n",
      " 4   speed_kmh                309 non-null    float64\n",
      " 5   duration_in_traffic_min  309 non-null    float64\n",
      " 6   distance_km              309 non-null    float64\n",
      " 7   traffic_condition        309 non-null    object \n",
      "dtypes: float64(4), object(4)\n",
      "memory usage: 21.7+ KB\n"
     ]
    }
   ],
   "source": [
    "df.info()"
   ]
  },
  {
   "cell_type": "code",
   "execution_count": 84,
   "metadata": {},
   "outputs": [],
   "source": [
    "# pd.reset_option('display.max_rows', None)\n",
    "\n",
    "df.reset_index(drop=True, inplace=True)"
   ]
  },
  {
   "cell_type": "code",
   "execution_count": 85,
   "metadata": {},
   "outputs": [],
   "source": [
    "# df.to_csv(directory+'cleaned_dataset.csv', index=False)"
   ]
  }
 ],
 "metadata": {
  "kernelspec": {
   "display_name": "base",
   "language": "python",
   "name": "python3"
  },
  "language_info": {
   "codemirror_mode": {
    "name": "ipython",
    "version": 3
   },
   "file_extension": ".py",
   "mimetype": "text/x-python",
   "name": "python",
   "nbconvert_exporter": "python",
   "pygments_lexer": "ipython3",
   "version": "3.11.7"
  }
 },
 "nbformat": 4,
 "nbformat_minor": 2
}
