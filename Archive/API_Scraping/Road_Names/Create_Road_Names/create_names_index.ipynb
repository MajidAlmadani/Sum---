{
 "cells": [
  {
   "cell_type": "markdown",
   "metadata": {},
   "source": [
    "## Import & Initialize"
   ]
  },
  {
   "cell_type": "code",
   "execution_count": 3,
   "metadata": {},
   "outputs": [],
   "source": [
    "import os\n",
    "import time\n",
    "from datetime import datetime\n",
    "from dotenv import load_dotenv\n",
    "\n",
    "import googlemaps\n",
    "import gmplot\n",
    "\n",
    "import pandas as pd\n",
    "\n",
    "import osmnx as ox\n",
    "import random\n",
    "\n",
    "import numpy as np"
   ]
  },
  {
   "cell_type": "code",
   "execution_count": 4,
   "metadata": {},
   "outputs": [],
   "source": [
    "load_dotenv()\n",
    "API_KEY = os.getenv('GOOGLE_MAPS_API_KEY_3')"
   ]
  },
  {
   "cell_type": "code",
   "execution_count": 5,
   "metadata": {},
   "outputs": [],
   "source": [
    "gmaps = googlemaps.Client(key=API_KEY)"
   ]
  },
  {
   "cell_type": "markdown",
   "metadata": {},
   "source": [
    "## Roads Names"
   ]
  },
  {
   "cell_type": "markdown",
   "metadata": {},
   "source": [
    "#### First Try:"
   ]
  },
  {
   "cell_type": "code",
   "execution_count": 4,
   "metadata": {},
   "outputs": [],
   "source": [
    "def get_roads_in_location(gmaps_client, query, location, radius=50000):\n",
    "    roads_data = []\n",
    "    \n",
    "    try:\n",
    "        places_result = gmaps_client.places(query=query, location=location, radius=radius)\n",
    "        \n",
    "        print(f\"API Response Status: {places_result.get('status')}\")\n",
    "\n",
    "        if places_result['status'] == 'ZERO_RESULTS':\n",
    "            print(\"No results found for the query.\")\n",
    "            return roads_data\n",
    "        elif places_result['status'] != 'OK':\n",
    "            print(f\"Error in API response: {places_result['status']}\")\n",
    "            return roads_data\n",
    "        \n",
    "        for place in places_result['results']:\n",
    "            place_name = place.get('name', '')\n",
    "            if any(keyword in place_name.lower() for keyword in ['road', 'street', 'highway', 'route']):\n",
    "                road_info = {\n",
    "                    'name': place['name'],\n",
    "                    'latitude': place['geometry']['location']['lat'],\n",
    "                    'longitude': place['geometry']['location']['lng']\n",
    "                }\n",
    "                roads_data.append(road_info)\n",
    "        \n",
    "        while 'next_page_token' in places_result:\n",
    "            time.sleep(2)  \n",
    "            places_result = gmaps_client.places(query=query, page_token=places_result['next_page_token'])\n",
    "            \n",
    "            if places_result['status'] == 'ZERO_RESULTS':\n",
    "                print(\"No more results found on next page.\")\n",
    "                break\n",
    "            elif places_result['status'] != 'OK':\n",
    "                print(f\"Error in API response on next page: {places_result['status']}\")\n",
    "                break\n",
    "            \n",
    "            for place in places_result['results']:\n",
    "                place_name = place.get('name', '')\n",
    "                if any(keyword in place_name.lower() for keyword in ['road', 'street', 'highway', 'route']):\n",
    "                    road_info = {\n",
    "                        'name': place['name'],\n",
    "                        'latitude': place['geometry']['location']['lat'],\n",
    "                        'longitude': place['geometry']['location']['lng']\n",
    "                    }\n",
    "                    roads_data.append(road_info)\n",
    "    \n",
    "    except Exception as e:\n",
    "        print(f\"An error occurred: {str(e)}\")\n",
    "    \n",
    "    return roads_data\n"
   ]
  },
  {
   "cell_type": "code",
   "execution_count": 5,
   "metadata": {},
   "outputs": [],
   "source": [
    "riyadh_location = (24.7136, 46.6753)\n",
    "\n",
    "query = \"شارع\"\n",
    "\n",
    "roads_data = get_roads_in_location(gmaps, query, riyadh_location)\n",
    "\n",
    "print(\"Roads in Riyadh:\")\n",
    "for road in roads_data:\n",
    "    print(f\"Name: {road['name']}, Latitude: {road['latitude']}, Longitude: {road['longitude']}\")"
   ]
  },
  {
   "cell_type": "code",
   "execution_count": 6,
   "metadata": {},
   "outputs": [],
   "source": [
    "# road_first = ['11565 Olaya Street, Riyadh','1564 Makkah Al Mukarramah Branch Road, Riyadh','1st Floor, Dove Plaza, (Hyper Panda 4406, 6554 تقاطع شارع أم الحمام مع شارع رضوان، حي أم الحمام الغربي،, Riyadh','2459 Makkah Al Mukarramah Branch Road, Riyadh','3004 No. 58, 12213 8285 Khurais Intersection with Olaya General Street, Riyadh','3019 Abu Bakr Alrazi Street, Riyadh','7520 Ibrahim Ala Nafisi Street Al Madhar, الرياض','8096 King Abdulaziz Road, Riyadh','9033 King Fahd Road, Tower 1, Riyadh','Abi Bakr As Siddiq Road, Riyadh','Al Awsat Valley Street, Riyadh','Al Muhandis Masaid Al Anqari, PM9J+G55, Riyadh','Al Takhassousi, Norah Square, Riyadh','Al Takhassousi, PMG3+72H, Riyadh','Al Takhassousi, Riyadh','Almughirah Ibn Shubah, Riyadh','Andalusia Hotel, Building No-10, Street No-6, Capital O 237, Riyadh','Ash Shaikh Abdullah Al Anqari, Riyadh','Building No.7358 Al Hanka, Riyadh','Center Point, King Abdullah Road, king abdullah road beside home centre, Riyadh','Dababt street, PP34+WFC, Al Hayat Newspaper Building, Riyadh','Imam Saud Bin Abdulaziz Bin Mohammed Road, Riyadh','Khalid Ibn Yazid Ibn Muawiyah, Riyadh','King Abdulaziz Road, PMWJ+CPV, Riyadh','King Abdullah Branch Road, Riyadh','King Fahd Branch Road, Riyadh','King Fahd Road, Riyadh','King Faisal Foundation, King Fahd Branch Road, مبنى, Riyadh','King Salman Neighborhood','Kingdom Centre, Olaya Street, Riyadh','Makkah Al Mukarramah Road, Riyadh','Merfal Apartment, Urwa Bin Ward Street, طريق الأمام سعود بن عبدالعزيز - شارع عروة بن الورد - حي المروج','Office No. 203, Block C, Al Akaria Plaza, Olaya Road, الرياض','Olaya Street, Riyadh','Opposite To The Kingdom Tower, Olaya Street, Riyadh','Prince Muhammad Ibn Abd Al Aziz, Riyadh','Prince Sultan Bin Abdulaziz Rd, Al Olaya, Riyadh','Rafha Street, PPM2+557, Riyadh','Rafha Street, Salah Ad Din, Riyadh','Riyadh','Thalateen Street, Riyadh','prince faisal, Riyadh','tahlia street Riyadh 11322 Saudi Arabia, Riyadh','حي الملك فهد،, طريق الملك فهد, Riyadh','سنتر بوينت, شارع العليــــــا العام , قرب, Riyadh','شارع التخصصي،, Riyadh','شارع, PM2J+FQ2, Riyadh','طريق الملك فهد, Olaya, الرياض','طريق مكة المكرمة، طريق خريص، مقابل مدينة الملك فهد الطبية, Riyadh']"
   ]
  },
  {
   "cell_type": "markdown",
   "metadata": {},
   "source": [
    "#### Second Try:"
   ]
  },
  {
   "cell_type": "code",
   "execution_count": 7,
   "metadata": {},
   "outputs": [],
   "source": [
    "def get_road_names(gmaps, location):\n",
    "    road_names = []\n",
    "    places_result = gmaps.places_nearby(location=location, radius=50000, type='establishment')\n",
    "    \n",
    "    road_names.extend([place.get('vicinity', '') for place in places_result['results']])\n",
    "    \n",
    "    while 'next_page_token' in places_result:\n",
    "        time.sleep(2)\n",
    "        places_result = gmaps.places_nearby(location=location, radius=50000, type='establishment', page_token=places_result['next_page_token'])\n",
    "        road_names.extend([place.get('vicinity', '') for place in places_result['results']])\n",
    "    \n",
    "    return road_names\n",
    "\n",
    "location = {'lat': 24.7136, 'lng': 46.6753} \n",
    "roads = get_road_names(gmaps, location)\n",
    "\n",
    "for road in roads:\n",
    "    print(road)\n"
   ]
  },
  {
   "cell_type": "code",
   "execution_count": 8,
   "metadata": {},
   "outputs": [],
   "source": [
    "# road_second = ['Al Urubah Road','Unnamed Road','Olaya Street','Al Ulaya','Khalid Ibn Yazid Ibn Muawiyah','شارع العليا','Abdullah Ibn Zamah','Sayyidah Ar Ruasa','طريق العروبة','Al Khourmah','العروبه','حراج بن قاسم']"
   ]
  },
  {
   "cell_type": "code",
   "execution_count": 9,
   "metadata": {},
   "outputs": [],
   "source": [
    "# road_third = ['Yaqub Ibn Ghanaim','البديعات','أبي صادق المخزومي','Ibn Al Qutub','Al Dahiah','Unnamed Road','Abi Al Faraj Ibn Al Jawzi','Wadi Awal','ابن الأثير','Almalga','أبي البقاء التيمي','ابن هبة الله','Adhbah','سلطان بن بجاد','أبي البركات النسفي','Prince Sultan Bin Salman Bin Abdulaziz Street','Saad Al Kindi','Jawdah','Muhammad As Sabati','مؤتة','Ibn Hamid','92','Abdul Rahman Ibn Hassan Al Umran','Al Hafez Abi Al Mouammar','Al Suhail','Buraidah Ibn Al Husaib','Street Number 84','Ibn Abdulwarith','شارع التخصصي','Abd Al Mouhsen Al Shami','Al Foudoul','Abdulwahab Ibn Abdulqadir','Ash Shulah','Mouta Street','أبي النجح إسماعيل','Al Amir Muhammad Ibn Abdul Aziz Branch Road','شارع الوحدة','Ashiqar','ابن إياس الكناني','Yousef Al Ayoubi','Street Number 94','Abdulhaq Ibn Ali Al Malki','أبي المفاخر الحموي','الأمير محمد بن عبدالعزيز','Abi Ibrahim Al Bardani','Al Maidhar','Wadi Ghulail','Al Mundhir Ibn Abdullah','عتاب الأموي','Al Tounisi','التلمساني','أبي غالب الكاتب','أبي الحسن العطار','Abi Sadik Al Mokhsumi Street','Ibn Al Attar','أبي الفتح القارئ','Muqdam','Algla','قتيبة بن شريح','Al Jazan','عبدالواحد بن جديد','Al Harbi','Uzaihir','Mubarak Al Douaik','Hussain Rushdi','Ibn Ammar Al Asadi','ممر3','Al lethamah','Ahmad Al Itab','Ad Dawid','Ibn Ad Dujaji','Ibn Al Shater','Khousaibah','As Sinani','Abi Backer Bin Niama Path','نعمة','ابن الآبار','Al Badiyah','Abdallah Bin Mohammad Al Talmisani','التاجر','أم البهاء البغدادية','Rumah','Al Jamuh Al Ansari','أبي حامد الغزالي','Abdulrahman Ibn Hibatullah','Al Anadol','Al Hawamidiyah','شارع','عبدالواحد بن عبدالله النصري','Ibn Al Kharasani','Jablah Ibn Malek','Umm Al Karam Az Zahawiyah','Abduljalil Alqurtubi','King Abdallah Ibn Abd Al Aziz','صعائد','Abdulqader Al Jazairi','Jabal Thahlan Path','أبي بكر الصفي','Al Baz','Jabal Nuam','السلطان أبي المغازي','Malik Ibn Khalaf','الثاملة','Abd Al Hakim Al Jamhi','Naim Ibn Masud','أبي الحسن الهاشمي','Abd Al Khalek Ibn Ahmad','Abdullah Ibn Al Arqam','Abi Jafar Ibn Zuraiq','Bashir Ibn Mahfouz','Mura Bin Ghaith Path','As Sanad','موسى بن عقبة، العليا،','Juneah Path','الأفراح','محمود الساوى','وادي خيبر','No. 68','Ibn Al Atar Path','Abdullah Ibn Yasir','Abi Al Qasim Al Balawi','أبي المظفر بن باكير','شارع الأمير سلطان بن سلمان بن عبدالعزيز','Uthman Al Harqumi','Huda Ash Sham','Om Alsaud','الديوان','Abi Abdullah Ibn Dawud','Al Ghuraira','Abi Salih Al Jaili','Yahia Al Bakri','Al Amli','Salih Al Krafi','Ibn Hibatullah','Abi Al Qasim Idris','Al Mansur As Saadi','عمر بن سعيد بن مالك','العماد بن محمد الأصبهاني','Daou Al Sabah','At Takhassusi Branch Street','Abdulrahman Al Azdi','Al Mounzir Ibn Abdullah','الكاتب','وادي العمارية','Malilah','Al Mouwaffaq Al Sabouni','Yosef Al Bazaz Street','الغزولي','Abd Al Wahed Ibn Jarir','Ibn Amamah','Al Jarrah Al Hakami','Zat Al Sawari','Street Number 90','Al Safwi','Safiy Ad Din Al Hali','65','Ibn Al Mamun','Ath Thamad','Abi Al Hussain Al Habri','جبل فحيط','وادي صفير','الغنائم','Umm Hakim','Jabal Qamir','Abi Amr Al Yaseri','ابن أبي ليلي','Sajir','ابن ابي ليلي','Al Shatinah','Abdulrahim Al Maghribi','Al Ajri','Ibn Matir Al Hakami','Az Zurayqat','Al Athal','Abi Al Thoraya Path','أيوب الثعلبى','No. 48','AI- waround neighborhood','يعقوب بن داود','At Takhassusi Branch','Musa Bin Oakba Path','Isa Bin Fairuz','Rafiq Al Hariri','Wadi Mara','Ibn Ad Daminah','شارع الأمير ممدوح بن عبدالعزيز','Ibn Abi Al Hadeed Lane','أبي محمد النساج','Hafr Al Bab','Ibn Al Wathiq','Dumah Al Jandal','ابن المنتخب','Ibn Hydarah','الراشدية','509','الأنجب','Ibrahim Ash Shami','Ash Shuaybah','الخميس','Mansur Al Bahwati','شارع بدر التمام','احمد بن حمبل','Abbas Al Jawhari','شهاب بن أبى بكر','Omar Al Shehab','Al Buraq','عبدالله بن سليمان الحمدان','الأخوة','Ibn Futuh','احمد عبدالغفور عطار','Abi Nuzar Al Jamal','Ibn Zawtan','Abi Al Fadl','Fadl Ibn Salmah','عبدالرحمن بن علي آل الشيخ','أبي العلاء البصري','شارع عبدالله بن سليمان الحمدان','Ibn Al Shaikh','بخاري','Fatimah Umm Al Baha','RQJA3630 Ibn Al Amid','Sabtah','Qasim Al Jabiri','أبي أرطى','ابن الصباغ','No. 66','Qoudamah Ibn Madoun','شارع وادي الكردي','King Abdulaziz Road','Al Qalanasi','محمود بن الربيع','المزرع','Abi Bakr Ibn Al Faqih','الاميراحمد بن عبدالعزيز','وادي الثمامة','طريق الامير محمد بن عبدالعزيز','الأغلب بن عمرو','Thabet Al Loughaoui','أمين واصف','Abi Al Fath Ath Thaqafi','Ibn Atiyah','Abi Tamim Al Musawi','ابن الساعي','أبي مصعب المدني','أبي الحسين الحبري','Ibrahim Ar Rasafi','Duhyah','Khalf Ibn Mudan','رشيد الدين الصوري','Ibn Shakir','Al Masoudi','Prince Abdullah Ibn Faisal Ibn Abdulaziz','الملك فهد الفرعي','شارع جبل المضابيع','Al Raht','Abi Al Mouhasin Al Tousi','Al Katip Street','Aiun Al Jawa Street','شارع 98','Tamam Al Habshi','Al Jamouh Al Ansari','أحمد بن فضلان','Ain Al Thaghrah','Al Wousaiti','ابن الناظر','المواقيتي','ابن أبي الحديد','Abi Hayyan At Tawhidi','Ibn Abanah Al Ashbili','Ibn Naim','Alimam Altartushi Almaliki Path','Al Mughirah Ibn Iyash','الاثير','Salih Ibn Salim','البرقان','Muhammad Ibn Al Zahabi','Mahmud as Sawi','Ar Rabi Al Ahmar','Hatim Ibn Dhafir','Sayyidah Ar Ruasa','ابن عقيل','ابن بركة','إسماعيل السمذي','Al Hazimi','Abi Ath Thana Al Maghribi','Al Mizri','طريق الملك عبدالله الفرعي','Jabalah Ibn Harithah','Hilal Ibn Badr','الدرعي','Az Zanbaq','Mazin Ibn Shaiban','Ibn Al Qazzaz','ثابت بن معاذ الأنصاري','Al Badir','وادي الابطح','علي العريف','Fathuallah Ash Shafi','ابن ابي حليم','ممر7','Ahmad Alghafi Street','خالد بن يزيد','Abi Hadid','الشلال','إبراهيم بن نشا القيسي','Daoud Al Asbahani','Ibn Ibad Al Katib','Al Walid At Tamimi','الرحالة','Al Zouhour','Umm Sadirah','Jafar Alskmi','Rizgallah Altamimi','شارع العليا، حي الملك فهد','Thavit Al Lghawt','أبي جعفر بن زريق','Al Alaya','Ras Al Ain','رقم 62','Ath Thamilah','Mohammad Al Koufi','Mahmoud Ibn Al Rabih','الداخلة','Wadi Hanifah Street','Ar Rabi Ibn Anas','Orjowan','الأمان','الشعلة','Sulaiman Al Murtada','شارع أم الحمام','ابن أمامة','شهاب بن أبي بكر','King Abdullah Branch Road','Al Kutbi','Al Dalimi','Abi Jafar Al Gharnati','Al Mahjar','Oumro Al Qais','As Suraya','Ibn Uqail','أحمد الواعظ','خير الدين الرملي','Tahliah Street','الاملي','Abdullah Ibn Yarbu','Yahia Al Rahwani','الناصرة','إبراهيم بن الحمصي','الغريراء','حارثة بن سهل','أبي محمد الجوهري','Abi Al Ala Ibn Zahr','Al Awwam Ibn Kaab','حسين رشدي','Hasan Shakir Aflatun','Al Awsat Valley Street','خبيرا','مثيبة','Abdulqadir As Saadi','Qutn Ibn Harithah','عيسي الثعالبي','Abi Al Fath Al Qari','مرخ','Al Muthwah','ابن أبي المفاخر','Al Hulyah','أبي عمران الرشيد','الأملي','خالد بن عمير العدوي البصري','حراء','التخصصي','رقم 78','Hatib Ibn Amr','البلاغة','Jafar Ibn Abi Talib','Umar Al Qazzaz','Abi Bakr Al Wasiti','Al Bekaa','سعيد الأسدي','Mouzaffar Al Sawadi','Katib Al Dine','Jabal Amayah','Al Shaikh Hamad Al Jasir','Prince Nayef Ibn Abd Al Aziz','أبي العباس الوكيل','Al Shaqiq','Al Qamra','الربيع الأحمر','Al Sultan Abi Al Maghazi','ابن آجروم','Abi Al Khair Al Sakhaoui','Al Kamli','ابن الأزرق','Al Batinah','Al Bahriah','Al Burj','أبي الفرج بن الجوزي','أبي حديد','Abi Mansur Al Nousouli','ابي المفاخر الحموي','Jaw','Al Shaikh Abdallah','Wadi Al Thoumamah','جبل كويكب','شارع وادي الثمامة','يحيي بن علي','Mujashi Ibn Masud','الزاهد أويس','Ali Ibn Salih','Ahmad Ibrahim Al Ghazzawi','Shuraih Ibn Al Arith','Abdulrazaq an Najari','أبي موسى الجمال','أبي سليك',\"Obaidah Ibn Rabi'ah\",'Nisah','Khair Al Dine Al Ramli','دسمان','البرج','Abi Salik','Panda Parking','Tatouan','محمد ابن ابراهيم ابن جبير','Al Basala','Muhammad Ibn Wahaib','Al Burqat','khalid ibn sinan al absi','Abi As Sadat Al Mubarak','Abdulaziz Al Qabiti','التخصصي الفرعي','Mazra','إبراهيم الرصافي','Ubaidah Ibn Rabia','العليا، 2721','وادي الريحان','Wadi Al Tesrear Street','Ibn An Namis','الأمير خالد بن محمد بن عبدالرحمن','Prince Turki Bin Abdulaziz Al Awal Road','Ibn Abd Al Wahid','Mouheiddine Al Naisaburi','لطف بن محمد الزبيري','Saad Ibn Soubaih','Al Dari','Muhammad As Suwaihali','Youssef Al Kadi','Ibn Abd Al Warith','أبي الفرج الحربي','شارع علي العريف','سعد بن بخيت','Al Barud','داود الأصبهاني','Abi Al Moujahid Al Marouzi','Barquq Al Ashraf','Hussein Roushdi','Hussein Ibn Hasan','Shamail','شارع رقم 54','أبي الفرج العدل','Ibn Al Damina Path','Hasan Al Badr','المعارف','القمراء','Al Badeh','Harithah Ibn Sahl','شارع موسى بن نصير','AR Ramayid','Al Urubah Road','Awis Az Zahid','Al Mufaddhal Ibn Fadhalah','Abi Mansur Al Kilabi','Moosab Al Zubari Street','Al Ghazi Ibn Qays','المراتبي','ذات السواري','أبي الحسن المأموني','ممر13','Ash Shaikh Uthman Ibn Al Barahim','537','Ibn Abi Al Fakhr Path','Fakhr Ad Din Ibn Salamah','Al Nakhai Path','Ibn Umayrah Al Makhzumi','Ahmad At Tai','ابي الفضل','الامير خالد بن محمد بن عبدالرحمن','Ibn Al Mountakhib','Ibrahim Ibn Al Hamasi','Ad Dakhilah','Al Naserah','أبي بكر الواسطي','Al Adl','Al Khoulaif','Abi Al Mufakhir Al Hamawi','Al Takhassousi','Al Seham','وادي القري','أبي علي الزماني','ابن أجروم','الشيحية','Samha','Al Bustan Path',\"Atika'a Bint Zid Street\",'Al Adab Street','Bir Al Kaiam Street','عبدالرحمن بن علي ال الشيخ','Abduljabbar Ibn Abi Dhar','Prince Abdallah Ibn Saoud Ibn Faisal','النور','Abi Hashim Ibn Ammar','Abdullah Ibn Khamis','Taher Al Maqdisi','Abi Al Hasan Al Mamuni','Ibrahim Ibn Al Aghlib','عبدالله بن الارقم','Al Sarh Road','الشيخ مبارك الصباح','وادي عليب','Dhifar','Al-Thumamah Valley Street','Al Bishari','Al Doma Street','Umm Al Fakhr','حصن بن وبرة الطائي','هلال بن امية','شارع العليا','أبي الحسن النحوي','أبي منصور النعماني','Abdulkhaliq Ibn Ahmad','ممر يونس المليجي','Jameh Al Tamimi','Al Bathnah','العصفر','أبي دجانة','Asyad Ibn Abi Iyas','أبي المكارم بن المسلم','طريف','Ash Shallal','Al Mahazim','يحيى بن النجار','Ash Shihab at Taifi','Ibn Al Karif Path','الاناضول','أبي الثناء المغربي','أبي هاشم بن عمار','No. 54','طريق الأمير تركي بن عبدالعزيز الأول','جعفر بن أبي طالب','Muhammad Al Hakim','Albkhit','العليا','Ayyad Ibn Khouwailid','Shourai Ibn Amer','Musa Ibn Nussair Street','التجارة','King Abdullah Road','ممر27','Isa Ath Thaalabi','Al Tourfiah','أبي بكر أحمد بن نعمة','Al Farouthi','Albdiat','ثابت ابن معاذ الانصاري','Street Number 82','Adamnahuri','أبي ثلوم','Hanifa Valley Street','إبراهيم الباهلي','Zain Al Dar','أبي منصور الكلابي','الخليفة الأمين','Wadi Albatah Street','Al Attaf Al Kalbi','التجاره','ورد بن خالد','وادي الكردي','Abi Taib Al Akabi Path','الشيماء','Al Zourwah','Rabiah Bint Abi Al Abbas','Uthman An Nahwi','Wadi Jaleel','Zaid Bin Oasama Street','شعبة بن الحجاج','الزنبق','المرقش الأكبر','Hamzah As Saydalani','Muawiyah Al Aqili','Thabit Al Loghawi Street','Akmal Al Qurashi','AZ Zuhur','Roumah','Hamid at Tawil','Ahbab','Abdullah Ibn Zamah','PM8G+5HX،','ابي المحاسن الطوسي','Muhammad Al Aqbani','Abi Al Barkat An Nisfi','عنبسة الغافقي','الأعوام','Al Khalifah Al Amin','الأغصان','Shaiban At Tamimi','No. 64','Ibn Al Khurayf','Abi Ahmad Al Hamathany Path','أبي سلمة','محمد بن واسع الأزدي','عبدالحميد أبي هيف','Al Harith Ibn Zouhair','Al Shaikh Hamad Al Thani','Suliman Bin Rahma Path','ابن الخصيب الدمشقي','Abi Al Hasan Al Jalajali','Ibrahim Ibn Nasha Al Qaysi','Asfal Al Batin','Al Ghazzal Al Baghdadi','Said Al Asadi','Wadi Jessah','Ismail Al Waidh','الأمير عبدالله بن محمد بن عبدالرحمن','الشهاب الطائفي','Yusuf Al Hanbali','وادي ملحة','أبي منصور النصولي','Al Shalal','يعقوب بن غنائم','إبراهيم الزيادي','Abi An Najah Ismail','أبي عبدالله الحربي','علي إبراهيم','Abi Jafar Al Adeeb Path','وادي سمائل','Said ibn harith','عاتكة بنت زيد','أبي ذر الحنفي','رقم 104','شارع صفوان بن مالك','Abhor','البريمي','المختص البدري','الاغصان','Ibn Al Jamal','أحمد بن داود الجذامي','Ibn Al Faqih','الأمير عبدالله بن فيصل بن عبدالعزيز','Al Bardiyah','Abdulmutalib Al Hanafi','Abi Al Fath Ibn Abi Qasim','جبل اسود العين','Al Fadl Ibn Ismail','الباز','Wadi Al Batin','Ibn Abi Sudika Path','Hafr Albab','جناح','Al Shamardal Al Bajali Path','الشيخ عبدالله العنقري','الخرمه','Al Nabaqiah','Ali Ibn Abdulghaffar','Khalid Ibn Bakir','Rmah','Masyaf','الأمير تركي بن عبدالعزيز الأول الفرعي','القلانسي','Matuq Al Baghdadi','البير','محمد صالح قزاز','ابن الشاطر الأنباري','Sabat Al Ala','Ibn Al Abbar','أحجار الثمام','Abdulrahman Bin Saad Bin Saeed','ابن إدريس','Sulaiman Ibn Al Lubad','محمد بن أبي صفرة','Al Moughirah Ibn Ayash','Ibn Al Mawardi','المليجي','Ibn Arafah','شارع الأمير أحمد بن عبدالعزيز','Wadi Al Raihan','Al Asli','Ali Ibn Wahb','Al Ramayid','أبي الحارث الشافعي','Abdallah Al Nadim','ابي عمارة البغدادي','أبي الحسن الجلاجلي','Abi Al Muhasin Al Khayyat','Al Sinidi Path','Al Ashraf Al Ayyubi','الكرامة','Abdulmalik Ibn Razin','Abdulhamid Abu Haif','Jabal Amaiah','No. 60','حسن شاكر أفلاطون','شارع وادي حنيفة','أحمد المكناسي','ابن حميد','Al Khayzaran','عقدة','وادي مطعم','Al Bouraikah','Ibn Hawqal','Al ghanayim','Abi Muhammad Ibn Hydarah','Umm Abdullah At Tanukhiyah','إبراهيم بن السيد البصري','Muraifiq','Ibn as Sai','Prince Abdullah Ibn Muhammad Ibn Abdulrahman','Al Diwan','Ahmed Al Itab','الافراح','الشيخ محمد بن إبراهيم بن جبير','المقدام','حوطة بني تميم','Kinda Bin Huthain Street','As Sain','Ain Al Shams Al Thaqafiyah','رقم 84','Al Ulaya','صلالة','Al Jalal Al Mahali','نصر بن منصور الضرير','Dabil','Al Cheikh Muhammad Ibn Ibrahim Ibn Joubeir','Al Naqrah','Abi Al Hajjaj Al Maqdisi','أبي الفتح بن أبي القاسم','عبدالله بن سند','Ibrahim Al Muhaddith','رأس العين','Abi Al Abbas Al Farghani','الأمير أحمد بن عبدالرحمن بن فيصل','دقلة','Ibn Ammar',\"Al Howra'a Street\",'عبدالله بن ثعلبة','سطام أبا الخيل','عبدالله بن خميس','Ziad Al Fazari','عامر بن امية','سفيان بن عيينة','Abdullah Ar Ramisi','Al Shouwaier Al Jaafi','Yahya Ar Rahwani','Al Hulwah','الأمن','Al Bark','علي بن الحسن الخزرجي','Wathab Ibn Sabiq','Ibn Fadlan','Ibn Awanah','Al Aliyah','Ali as Saigh','شارع رقم 108','Pedestrians Overpass','أبي العلاء بن زهر','Asinani Path','Hamran','Abi Hanifah Ad Dainuri','جعفر بن عباس بن صديق','Street Number 72','المسدي','Abdulrahman Ibn Ali Al Ash Shaikh','عبدالرحمن بن حسن آل عمران','حراج بن قاسم','Muhammad Ibn Talab','طريق الملك فهد','Al Buraimi','Jabal Baysan','البدر','Abdullah Al Miselli Street','Al Maliji','Ahjar Al Thamam','Abi Al Faraj Aladl','King Fahd Branch Road','Shouja Ibn Wahb','Muthibah','Abi Talh','Ibn Ammarah Al Baghdadi','No. 62','شارع حوطة بني تميم','Abi Masab Al Madani','Al Shoulah','Abdulrahim As Samani','Anbasah Al Ghafaqi','Al Wadiah','Ibn Shuraih','Dasman','Mahmoud Ibn Omair Al Aousi','Masud Al Badri','الأشرف الأيوبي','عبدالله بن سلمه','Ibn Shahman','Ibn Al Hafidh','Ibraheem Alshami','أم سديرة','Dawud Ibn Urwah','King Fahd Road','Aldakhlah','أبي الحسن القلصادي','أبي حيان التوحيدي','Hamid Al Tawil','Al Jumaiha','ابن فتوح','Abi Hafs Ibn Hilal','Albradi','Al Faraj Ibn Kinanah','إبراهيم النفيسي','قريش المدني','Muhammad Ibn Suwaid','Abi Abdallah Al Husseini','Tamam Ibn Umar','Ibn Abi An Najm','Ibn Al Muhalhil','Saad Ibn Bakhit','Al Ataa','شارع سليمان المرتضي','Ubaidullah Allithi','محمد بن أسباط','رقم 52','وادي مية','Jafar Al Andalusi','يحيى بن عدي','الأمير فيصل بن سعد بن عبدالرحمن','Al Roumahi','Abdulkarim Nadir','Heraa','Prince Khalid Ibn Muhammad Ibn Abd Al Rahman','Safaqis','Abi Zakaria Ibn Mansour','أحمد بن المقتدر بالله','شارع رقم 74','Abdulrahman Ibn Mahdi','البساتين','حلوة','Ash Shihah','Al Barqa','Abdulwahid Ibn Jarir','Sad Ibn Bakhit At Turki','Al Muraqish Al Akbar','الازدهار','Ibrahim Ibn Nasha Al Qaisi','Abi Al Mansur Ad Daqiqi','عمر القزاز','Abi Ali Al Qali','ضهية','Ali Ibrahim','أبي نزار الجمال','Abdulrahman bin Saleh Al Shubaili','Al Burqan','Salim Al Hatub Path','يحيى بن معين','Ahmad Abdulghafur Attar','Abi Al Hasan Al Attar','Oqda','Abi Huffs Bin Hilal Path','أحمد بن دراج','Sufyan Ibn Qays','عبدالرحمن أبي شامة','Prince Ahmad Ibn Abdulrahman','المهندس مساعد العنقري','Al Tawim','Al Banan','رقم 74','Al Jabiri','Alamar','Al Sidrah','Abdullah Ibn Abi at Taqi','Al Makhayniq','ابن العطار','Ajdad Street','Abi Umran Ar Rashid','Raoudat Mehanna','Al Huliah','عبدالقادر الجزائري','Abi Muhammad Al Jawhari','Al Hudaifiyah','Ibn Barakah','Asyad Ibn Abdullah','صلاح الدين الصفدي','Jamal Aldin Algezairi','Al Husami','أبي المحاسن','Yehia Bin Yaqut Path','Ar Rahif','Ibn Al Asad','Street Number 74','أبي منصور الكوفي','Abi Ghalib Ibn Saadullah','حجر','Abi Al Mudhaffar Ibn Bakir','Ar Rabiyah','Street Number 92','الراعي الكلبي','Abi Ishaq Al Harbi','Al Aqiliyah','أحمد العشاب','Abdallah Ibn Abi Al Taqi','Al Rashidiah','Safwan Ibn Malik','Yaqub Ibn Dawud','Amr Ibn Marzuq','Souhaj','Ahmad Al Baihaqi','Ibn Sabbagh','أحمد الزاهد','شارع ابن امامه','Muhammad Al Kufi','ابراهيم الزيادي','أبي الحسن بن البناء','أبي الفداء إسماعيل','Arwa Ibn Ouzaina','ام الحمام','الكوكب','Albuhturiah','يوسف القاضي','Abi Haishah','Muhammad Al Muqaddisi','زين الدار المصري','Kareem Alley','جعفر الأندلسي','Abou Al Selm','ممر9','الإقدام','Ibn Al Farad','Thabit Ibn Hazm','المسعودي','Wadi Batan Path','عبدالرحيم الأزدي','أمرؤ القيس','عبدالرحمن بن هبة الله','النقرة','Nasr Ibn Mansur','الجزعان','شارع نساح','Al Farrat Ibn Abi Al Khansa','Al Azuli','Al Abbas Ar Rashidi','المغيرة بن عياش','Sahl Ibn Atik','Al Khamis','Al Qasim Ibn Isa','أبي الحجاج المقدسي','الكثيب','الذبياني','Hanzalah Ibn Malek','عبدالله بن زمعة','Al Fadl Ibn Habbab','Abi Al Qasem Idris','الفضل بن إسماعيل','Abi Thalum','Ibn Hamdun','فضل بن سلمة','Shafi Ibn Al Saeb','Ibn Abi Al Fath Al Kharfi','أبي القاسم البلوي','Al Shehab Al Taifi','صالح الكراني','Safi Al Deen Al Hilli','إبراهيم المحدث','Mousa Ibn Uqbah','الملك عبدالعزيز ابن عبدالرحمن سعود','Muhammad Al Koufi','Ibn Jaljal','Mahmud Ibn AR Rabi','Abi Al Hasan Al Qalsadi','Ahmad ibn Al Muqtadar Billah','Abdulhamid Al Katib','Prince Faisal Ibn Saad Ibn Abd Al Rahman','داود بن عروة','Ibn Sanin','أبي محمد بن حيدرة','أبي أحمد الهمذاني','احمد الواعظ','Al Cheikh Mubarak Al Soubah','Al Henkah','محمد المغربي','سعد بن خيثمة الأوسي','وادي ريمار','مصدق الصلحي','أبي سليمان الأندي','وادي أم أثله','Al Aghlab Ibn Amr','Abi Mohammad Al Jawhari','Omar Al Gazaz Path','Sufyan Ibn Ayinah','Abdullah Ibn Salamah','طريق الملك عبدالله','حنظلة بن مالك','Mahmud Ibn Al Mubarak','Harithah An Najari','Abi Al Faraj Al Adl','المنيني']"
   ]
  },
  {
   "cell_type": "code",
   "execution_count": 10,
   "metadata": {},
   "outputs": [],
   "source": [
    "# road_forth = ['عاقل الليثي','شارع الخرج القديم','المزاحميه 2673','طريق الحاير حوطة بني تميم','Qurtajina','Ibn Zaidoun Street','Al Kharj Road','ابي الحسن الفصيحي','511','Abdallah Ibn Houzafah Al Sahmi','اللغفيه 1766','عبدالله ابن حذافة السهمي','البدائع 194','Al Hameid','5399','Abi Al Abbas Al Asqalani','Al Imam Muslim','Abdul Rahman Ad Dakhil','ممر3','Al Johari','المجزر بن زياد البلوي','طريق الحائر','Unnamed Road','المزاحميه 1284','علي البغدادي','65','Samahat Ash Shaikh Abdulaziz Ibn Baz Street','ابراهيم القيسي','المزاحميه 1264','قرين','أبي الحسن الفصيحي','Jabal Ajyad Road','Gharsa','Fatimah Valley Street','Muslimah Al Fahri','قصور ال مقبل 54','ابن لهيعة','ال حفيان 1193','قصور ال مقبل 52','المزاحميه 1584','وادي فاطمه','جبل الضبيان','طريق رياض الخرج','Aliuddin Al Hanafi','Ahmad Ibn Alkhattab','جبل مركوز','Alsail Alkabeer Road','Ibn Mani','هجرة الاوسط 1032','أبي العباس البغدادي','Weastern Ring Branch Road','وادي لبن','ضرما 206','اللؤلؤة 25','الرفايع 2074','Abdullah Alsahmi Street','5395','ضرما 1189','Mujahid Street','ال حفيان 1256','يوسف نعمة الله','الحائر','النابغه','Al Hadaar Street','أبي بكر بن علي الحدادي العبادي','إسماعيل الصقلي','Al Madina Al Munawwarah Road','وادي السادة','Asir Street','حراء','العزيزية','ابن زيدون','شارع صحار بن عياش','هجرة المناخ 1579','Mohammad Rashid Rida','Shebh Al Jazirah','ابو عماد','Salih Al Hariri Al Afandi Street','حداب القرى','Aljawhri Street','Omar Ibn Al Khattab Branch Road','القاسم ابن امية','الدائري الثالث','وادي الرمه','Al Farazdaq Street','عسير','المجد','505','أم ظهران','Wadi Rikham','جبل حضن','شارع وادي الهدار','Al Haeer Road','المعتصم','قريه ديراب 2289','Wadi Laban','هجرة الاوسط 2515','المزاحميه 2569','المروه','يثرب','عبدالرحمن العنبري','ضرما 1225']"
   ]
  },
  {
   "cell_type": "markdown",
   "metadata": {},
   "source": [
    "#### Last Try:"
   ]
  },
  {
   "cell_type": "code",
   "execution_count": 11,
   "metadata": {},
   "outputs": [],
   "source": [
    "city_name = 'Riyadh, Saudi Arabia'\n",
    "G = ox.graph_from_place(city_name, network_type='drive')\n",
    "\n",
    "edges = ox.graph_to_gdfs(G, nodes=False, edges=True)\n",
    "\n",
    "roads_with_coords = []\n",
    "\n",
    "for _, row in edges.iterrows():\n",
    "    origin = f\"{row['geometry'].coords[0][1]},{row['geometry'].coords[0][0]}\" \n",
    "    destination = f\"{row['geometry'].coords[-1][1]},{row['geometry'].coords[-1][0]}\" \n",
    "    \n",
    "    road_name = row['name'] if 'name' in row and row['name'] is not None else \"Unnamed road\"\n",
    "    \n",
    "    roads_with_coords.append((road_name, origin, destination))\n",
    "\n",
    "for road_info in roads_with_coords[:10]: \n",
    "    road_name, origin, destination = road_info\n",
    "    print(f\"Road: {road_name}, Origin: {origin}, Destination: {destination}\")\n"
   ]
  },
  {
   "cell_type": "code",
   "execution_count": 12,
   "metadata": {},
   "outputs": [],
   "source": [
    "list_graph_roads = []\n",
    "\n",
    "for i in roads_with_coords:\n",
    "    if isinstance(i[0], (list, np.ndarray)): \n",
    "        if not pd.isnull(i[0]).any(): \n",
    "            list_graph_roads.append(i[0])\n",
    "    else:  \n",
    "        if not pd.isnull(i[0]):\n",
    "            list_graph_roads.append(i[0])\n"
   ]
  },
  {
   "cell_type": "code",
   "execution_count": 13,
   "metadata": {},
   "outputs": [],
   "source": [
    "# list_from_before_graph = ['Al Braida','ضرما','طريق الملك سلمان','عبدالله بن دهيش','شارع الربيع','محمد بن نصر الدمشقي','قرطاجة','أبي العباس الخطيب','شارع الوقار','BRT11','البيطار','علي بن أبي الخير','حامد القاري','طريق الإمام سعود بن فيصل','الخيران','النورة','الطريق الدائري الشمالي','Al Saud','عبدالله الخليفي','وادي حلب','الغنامية','الأحيدب','عبدالله بن حسن آل الشيخ','المفضل الغلابي','الأبهري','شارع وادي أزيمة','الإدريسي','Mahayeda','الظفير','السبهانية','بلقيس','King Fahad Rd','بوعرفة','الشجون','المشورة','رقم 43','سيف الدولة الغافل','Al Massaif','المدينة المنورة','25','سليط بن قيس','يحيى الأنصاري','طريق الخرج','نهر النيل','No. 11','الأمير سلطان بن عبدالعزيز','Al Jamil','Manara','no.218','محمد النياحي','أحمد المقدسي','العريد','اللؤلؤة','شارع رقم 306','أبي حفص النحوي','شارع ابن ماجة','خلاد بن رافع','Dertour','رقم 99','شارع ابن سينا','شيخ الشيوخ الجويني','الغنامية','شارع الشيخ على الحمد الصالحي','السامرية','الحماسة',['حذيفة بن اليمان', 'سليمان بن علي آل مشرف'],'رقم 62','حبان بن أبي جبلة','As-Sahabh','الصعوب','الخليفة الناصر لدين الله','الغدير','طريق مكة المكرمة','أبي عبدالله البهاء','رماح','أبو عبيدة عامر بن الجراح','البريمي','الشيخ صالح بن عبدالعزيز آل الشيخ','طريق تركي الأول بن عبدالعزيز آل سعود','البحار','شارع الصحراوي','الحجاب','القلانسي','عبدالرحيم الدرجي','جبل مبرك','الأخاشب','حسن الشوري','التين','شهاب الدين الغزي','عوف بن عبدالرحمن','طريق الملك عبدالعزيز','ابن الصباغ الخزرجي','الأمير سعد بن عبدالرحمن الأول','السيل','الجديدة','سهيل بن عدي','No. 205','الحوارة','مسلا','الدويمة','طريق الدائري الشرقي','الدائري الشمالي','شارع أبي طاهر الشيباني','ابي الثناء الحلي','الريامة','حمد الشويعر','أبي الندى','Al Wadi Al Akhdhar','محمود الأيوبي','شارع متعب بن عبدالعزيز','ثنيات','سالم الحطاب','شارع حفصه بن سيرين','الحسن الطوسي','عاصم بن عمر','ممر الدحض','صفية بنت أحمد','حمورية','شارع النجمة','شارع عبادة بن الصامت','المباركة','شارع عبدالله التميمي','Mohammed Al Shanqiti','آل درع','القاضي إياس','وادي ترج','وادي قران','الثامر','Ibn Khalkan','سطام أبا الخيل','طريق تركي الأول بن عبدالعزيز آل سعود','خيران','الحسين الكندي','شارع عبدالرحمن بخش','ابن السقاء','سودة','شارع الاحساء','Waqada','ابن النقال','الأعلم النحوي','Abdullah Bin Ibrahim Bin Saif','طريق العليا العام','شعب الحليفة','كرز بن الحارث','حماد المارديني','القاسم النميري','دار المجد','شارع أبي نصر الضرير','شارع عبدالله بن أبي السرح','الذهبي','عبدالعزيز بن محمد بن مانع','السودي','بللسمر','طريق مكة المكرمة','Nemran','شارع الكناني','الموتد','عبدالمجيد بن الحسن','علي بن الهيثم','الأفضلي','يحيى الفرضي','Abi Al Hasan Al Nazani St.','خلف بن عبدالله','زين الدين التنوخي','No. 285','السويداوي','محمد بن أحمد الفاسي','الحمود','شارع عثمان بن عفان','Al Maqrah','فرج حسين','إسحاق بن مرة','المغرة','شارع الشيخ عبد العزيز بن عبد الرحمن بن بشر','Najran','إسماعيل بن السلطان','ابن غزيل','شارع فرج التغلبي','البجادية','دعاء','شارع السلامة','أبي ميمونة','طريق الأمير فيصل بن بندر بن عبدالعزيز','تميم بن مر','وادي ماوان','شارع ال فريان','شارع أبي الحسن المقدسي','أبي الفتح البغدادي','الأشعث','مقدام','معتوق بن أبي البقاء','وادي الأحمد','أحمد التميمي','الأمير سعود بن عبدالله بن جلوي','شارع الأمير بدر بن عبدالعزيز','No. 163','عبدالله بن حبان','شارع أروم','علي عبدالله الشهراني',\"'Al Foqaha\",'ابن جرير التنوخي','أبي العزائم','فاطمة الزهراء','التوحيد']"
   ]
  },
  {
   "cell_type": "code",
   "execution_count": 14,
   "metadata": {},
   "outputs": [],
   "source": [
    "road_names = [road_info[0] for road_info in roads_with_coords if isinstance(road_info[0], str)]\n",
    "\n",
    "unique_road_names = set(road_names)"
   ]
  },
  {
   "cell_type": "code",
   "execution_count": 15,
   "metadata": {},
   "outputs": [],
   "source": [
    "with open(\"unique_road_names.txt\", \"w\") as f:\n",
    "    for road_name in unique_road_names:\n",
    "        f.write(f\"{road_name}\\n\")"
   ]
  }
 ],
 "metadata": {
  "kernelspec": {
   "display_name": "base",
   "language": "python",
   "name": "python3"
  },
  "language_info": {
   "codemirror_mode": {
    "name": "ipython",
    "version": 3
   },
   "file_extension": ".py",
   "mimetype": "text/x-python",
   "name": "python",
   "nbconvert_exporter": "python",
   "pygments_lexer": "ipython3",
   "version": "3.11.7"
  }
 },
 "nbformat": 4,
 "nbformat_minor": 2
}
