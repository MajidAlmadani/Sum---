{
 "cells": [
  {
   "cell_type": "markdown",
   "id": "5b4f96d9",
   "metadata": {
    "id": "Pd_01gYBjqMS",
    "papermill": {
     "duration": 0.020028,
     "end_time": "2023-05-23T15:38:46.645167",
     "exception": false,
     "start_time": "2023-05-23T15:38:46.625139",
     "status": "completed"
    },
    "tags": []
   },
   "source": [
    "# Environment Setup"
   ]
  },
  {
   "cell_type": "code",
   "execution_count": 1,
   "id": "8542f0da",
   "metadata": {
    "collapsed": true,
    "execution": {
     "iopub.execute_input": "2023-05-23T15:38:46.687402Z",
     "iopub.status.busy": "2023-05-23T15:38:46.686813Z",
     "iopub.status.idle": "2023-05-23T15:38:47.157860Z",
     "shell.execute_reply": "2023-05-23T15:38:47.156512Z"
    },
    "id": "8liVMdCzj2IT",
    "jupyter": {
     "outputs_hidden": true,
     "source_hidden": true
    },
    "outputId": "b54eaf94-6374-4caf-e95c-df9e39cc2286",
    "papermill": {
     "duration": 0.494653,
     "end_time": "2023-05-23T15:38:47.159616",
     "exception": true,
     "start_time": "2023-05-23T15:38:46.664963",
     "status": "failed"
    },
    "tags": []
   },
   "outputs": [
    {
     "ename": "ModuleNotFoundError",
     "evalue": "No module named 'google.colab'",
     "output_type": "error",
     "traceback": [
      "\u001b[0;31m---------------------------------------------------------------------------\u001b[0m",
      "\u001b[0;31mModuleNotFoundError\u001b[0m                       Traceback (most recent call last)",
      "Cell \u001b[0;32mIn[1], line 1\u001b[0m\n\u001b[0;32m----> 1\u001b[0m \u001b[38;5;28;01mfrom\u001b[39;00m \u001b[38;5;21;01mgoogle\u001b[39;00m\u001b[38;5;21;01m.\u001b[39;00m\u001b[38;5;21;01mcolab\u001b[39;00m \u001b[38;5;28;01mimport\u001b[39;00m drive\n\u001b[1;32m      2\u001b[0m drive\u001b[38;5;241m.\u001b[39mmount(\u001b[38;5;124m'\u001b[39m\u001b[38;5;124m/content/drive\u001b[39m\u001b[38;5;124m'\u001b[39m)\n",
      "\u001b[0;31mModuleNotFoundError\u001b[0m: No module named 'google.colab'"
     ]
    }
   ],
   "source": [
    "from google.colab import drive\n",
    "drive.mount('/content/drive')"
   ]
  },
  {
   "cell_type": "code",
   "execution_count": null,
   "id": "d43771fe",
   "metadata": {
    "execution": {
     "iopub.execute_input": "2023-05-23T14:02:53.409838Z",
     "iopub.status.busy": "2023-05-23T14:02:53.408293Z",
     "iopub.status.idle": "2023-05-23T14:02:54.543434Z",
     "shell.execute_reply": "2023-05-23T14:02:54.542043Z",
     "shell.execute_reply.started": "2023-05-23T14:02:53.409785Z"
    },
    "id": "WEHw_DxakMAV",
    "outputId": "3f6b826a-d5ec-4930-d0c7-efef1c32ae50",
    "papermill": {
     "duration": null,
     "end_time": null,
     "exception": null,
     "start_time": null,
     "status": "pending"
    },
    "tags": []
   },
   "outputs": [],
   "source": [
    "!nvidia-smi"
   ]
  },
  {
   "cell_type": "code",
   "execution_count": null,
   "id": "4a39fdba",
   "metadata": {
    "execution": {
     "iopub.execute_input": "2023-05-23T15:02:50.632038Z",
     "iopub.status.busy": "2023-05-23T15:02:50.631388Z",
     "iopub.status.idle": "2023-05-23T15:02:51.872867Z",
     "shell.execute_reply": "2023-05-23T15:02:51.871465Z",
     "shell.execute_reply.started": "2023-05-23T15:02:50.632005Z"
    },
    "papermill": {
     "duration": null,
     "end_time": null,
     "exception": null,
     "start_time": null,
     "status": "pending"
    },
    "tags": []
   },
   "outputs": [],
   "source": [
    "!nvidia-smi"
   ]
  },
  {
   "cell_type": "markdown",
   "id": "4f15215a",
   "metadata": {
    "id": "8E6xSuq0jqMU",
    "papermill": {
     "duration": null,
     "end_time": null,
     "exception": null,
     "start_time": null,
     "status": "pending"
    },
    "tags": []
   },
   "source": [
    "#### Download PaddlePaddle from this [website](https://www.paddlepaddle.org.cn/en/install/quick?docurl=/documentation/docs/en/install/pip/linux-pip_en.html)"
   ]
  },
  {
   "cell_type": "code",
   "execution_count": null,
   "id": "95efb204",
   "metadata": {
    "execution": {
     "iopub.execute_input": "2023-05-23T15:02:58.752696Z",
     "iopub.status.busy": "2023-05-23T15:02:58.752335Z",
     "iopub.status.idle": "2023-05-23T15:04:50.927806Z",
     "shell.execute_reply": "2023-05-23T15:04:50.926699Z",
     "shell.execute_reply.started": "2023-05-23T15:02:58.752667Z"
    },
    "id": "6lBEKoHKjqMU",
    "outputId": "58ddb301-f0c9-40d1-8d7c-72d447b03d78",
    "papermill": {
     "duration": null,
     "end_time": null,
     "exception": null,
     "start_time": null,
     "status": "pending"
    },
    "scrolled": true,
    "tags": []
   },
   "outputs": [],
   "source": [
    "# Using GPU for this project - Linux\n",
    "!python3 -m pip install paddlepaddle-gpu==2.4.2.post112 -f https://www.paddlepaddle.org.cn/whl/linux/mkl/avx/stable.html"
   ]
  },
  {
   "cell_type": "code",
   "execution_count": null,
   "id": "e4b22f49",
   "metadata": {
    "collapsed": true,
    "id": "_XpRa7hDlZ6Z",
    "jupyter": {
     "outputs_hidden": true,
     "source_hidden": true
    },
    "outputId": "151cb1dc-e5d7-4342-c80f-26a983b49f4d",
    "papermill": {
     "duration": null,
     "end_time": null,
     "exception": null,
     "start_time": null,
     "status": "pending"
    },
    "tags": []
   },
   "outputs": [],
   "source": [
    "!python -m pip install paddlepaddle==2.4.2 -i https://mirror.baidu.com/pypi/simple"
   ]
  },
  {
   "cell_type": "code",
   "execution_count": null,
   "id": "667bbbc9",
   "metadata": {
    "execution": {
     "iopub.execute_input": "2023-05-23T15:05:14.838806Z",
     "iopub.status.busy": "2023-05-23T15:05:14.838080Z",
     "iopub.status.idle": "2023-05-23T15:05:15.236720Z",
     "shell.execute_reply": "2023-05-23T15:05:15.235714Z",
     "shell.execute_reply.started": "2023-05-23T15:05:14.838768Z"
    },
    "id": "dA-WtGdHle5X",
    "outputId": "4d1c7e9c-55ce-40ca-fb0d-d1a70afaa6e6",
    "papermill": {
     "duration": null,
     "end_time": null,
     "exception": null,
     "start_time": null,
     "status": "pending"
    },
    "tags": []
   },
   "outputs": [],
   "source": [
    "# Check if paddle installed properly\n",
    "import paddle\n",
    "paddle.utils.run_check()"
   ]
  },
  {
   "cell_type": "code",
   "execution_count": null,
   "id": "544fc0d1",
   "metadata": {
    "execution": {
     "iopub.execute_input": "2023-05-23T15:04:59.046442Z",
     "iopub.status.busy": "2023-05-23T15:04:59.045764Z",
     "iopub.status.idle": "2023-05-23T15:05:14.835493Z",
     "shell.execute_reply": "2023-05-23T15:05:14.834354Z",
     "shell.execute_reply.started": "2023-05-23T15:04:59.046407Z"
    },
    "id": "Ungr5wVujqMV",
    "outputId": "24f8849a-afac-4c4f-da0e-0cc206fb65d5",
    "papermill": {
     "duration": null,
     "end_time": null,
     "exception": null,
     "start_time": null,
     "status": "pending"
    },
    "tags": []
   },
   "outputs": [],
   "source": [
    "# Colne Paddle Github\n",
    "!git clone https://github.com/PaddlePaddle/PaddleOCR.git"
   ]
  },
  {
   "cell_type": "code",
   "execution_count": null,
   "id": "6e16114b",
   "metadata": {
    "execution": {
     "iopub.execute_input": "2023-05-23T14:16:18.698247Z",
     "iopub.status.busy": "2023-05-23T14:16:18.697167Z",
     "iopub.status.idle": "2023-05-23T14:16:19.751677Z",
     "shell.execute_reply": "2023-05-23T14:16:19.748043Z",
     "shell.execute_reply.started": "2023-05-23T14:16:18.698189Z"
    },
    "id": "GgOL5uzXIM0v",
    "outputId": "ada8ec08-6fab-486f-9605-41dc1ddcc819",
    "papermill": {
     "duration": null,
     "end_time": null,
     "exception": null,
     "start_time": null,
     "status": "pending"
    },
    "tags": []
   },
   "outputs": [],
   "source": [
    "!ls "
   ]
  },
  {
   "cell_type": "code",
   "execution_count": null,
   "id": "d0189333",
   "metadata": {
    "collapsed": true,
    "id": "6a4JLJBOF3du",
    "jupyter": {
     "outputs_hidden": true,
     "source_hidden": true
    },
    "outputId": "9b00741f-f583-456d-f433-b532506dd664",
    "papermill": {
     "duration": null,
     "end_time": null,
     "exception": null,
     "start_time": null,
     "status": "pending"
    },
    "tags": []
   },
   "outputs": [],
   "source": [
    "# Copy \"PaddleOCR\" folder which downloaded from github to Google Drive\n",
    "!cp -r PaddleOCR/ /content/drive/MyDrive/MachineLearning/"
   ]
  },
  {
   "cell_type": "markdown",
   "id": "56eb3cd8",
   "metadata": {
    "id": "BmerjB7LjqMV",
    "papermill": {
     "duration": null,
     "end_time": null,
     "exception": null,
     "start_time": null,
     "status": "pending"
    },
    "tags": []
   },
   "source": [
    "### Restart Kernel and Run the scrip"
   ]
  },
  {
   "cell_type": "markdown",
   "id": "654c94b7",
   "metadata": {
    "id": "Rz2y8rXOjqMV",
    "papermill": {
     "duration": null,
     "end_time": null,
     "exception": null,
     "start_time": null,
     "status": "pending"
    },
    "tags": []
   },
   "source": [
    "### Verify installation\n",
    "After the installation is complete, you can use python3 to enter the Python interpreter and then use import paddle and paddle.utils.run_check()\n",
    "\n",
    "If PaddlePaddle is installed successfully! appears, to verify that the installation was successful."
   ]
  },
  {
   "cell_type": "markdown",
   "id": "e35b9a70",
   "metadata": {
    "id": "loJZwhCWjqMV",
    "papermill": {
     "duration": null,
     "end_time": null,
     "exception": null,
     "start_time": null,
     "status": "pending"
    },
    "tags": []
   },
   "source": [
    "# Prequisites"
   ]
  },
  {
   "cell_type": "code",
   "execution_count": null,
   "id": "e731f74c",
   "metadata": {
    "execution": {
     "iopub.execute_input": "2023-05-23T15:15:55.281337Z",
     "iopub.status.busy": "2023-05-23T15:15:55.280879Z",
     "iopub.status.idle": "2023-05-23T15:15:57.302371Z",
     "shell.execute_reply": "2023-05-23T15:15:57.301298Z",
     "shell.execute_reply.started": "2023-05-23T15:15:55.281302Z"
    },
    "papermill": {
     "duration": null,
     "end_time": null,
     "exception": null,
     "start_time": null,
     "status": "pending"
    },
    "tags": []
   },
   "outputs": [],
   "source": [
    "import gdown\n",
    "\n",
    "url = \"https://drive.google.com/uc?id=19kSj_GswccuXk45yH87jTXLqpLTxaS67\"\n",
    "output = \"PPOCRdata.tar\"\n",
    "\n",
    "gdown.download(url, output)"
   ]
  },
  {
   "cell_type": "code",
   "execution_count": null,
   "id": "ee1b0f48",
   "metadata": {
    "execution": {
     "iopub.execute_input": "2023-05-23T15:16:02.466939Z",
     "iopub.status.busy": "2023-05-23T15:16:02.466536Z",
     "iopub.status.idle": "2023-05-23T15:16:03.891296Z",
     "shell.execute_reply": "2023-05-23T15:16:03.889986Z",
     "shell.execute_reply.started": "2023-05-23T15:16:02.466908Z"
    },
    "papermill": {
     "duration": null,
     "end_time": null,
     "exception": null,
     "start_time": null,
     "status": "pending"
    },
    "tags": []
   },
   "outputs": [],
   "source": [
    "!tar -xf PPOCRdata.tar && rm -rf PPOCRdata.tar"
   ]
  },
  {
   "cell_type": "code",
   "execution_count": null,
   "id": "b31edccf",
   "metadata": {
    "execution": {
     "iopub.execute_input": "2023-05-23T15:07:00.717706Z",
     "iopub.status.busy": "2023-05-23T15:07:00.717044Z",
     "iopub.status.idle": "2023-05-23T15:07:01.741233Z",
     "shell.execute_reply": "2023-05-23T15:07:01.739965Z",
     "shell.execute_reply.started": "2023-05-23T15:07:00.717674Z"
    },
    "papermill": {
     "duration": null,
     "end_time": null,
     "exception": null,
     "start_time": null,
     "status": "pending"
    },
    "tags": []
   },
   "outputs": [],
   "source": [
    "!ls -lh"
   ]
  },
  {
   "cell_type": "code",
   "execution_count": null,
   "id": "e147ca6a",
   "metadata": {
    "execution": {
     "iopub.execute_input": "2023-05-23T15:06:23.973974Z",
     "iopub.status.busy": "2023-05-23T15:06:23.973597Z",
     "iopub.status.idle": "2023-05-23T15:06:37.754742Z",
     "shell.execute_reply": "2023-05-23T15:06:37.753583Z",
     "shell.execute_reply.started": "2023-05-23T15:06:23.973945Z"
    },
    "id": "euNQYuzbjqMV",
    "outputId": "2270cd52-1b3c-44ac-e6c4-ec39e4674cce",
    "papermill": {
     "duration": null,
     "end_time": null,
     "exception": null,
     "start_time": null,
     "status": "pending"
    },
    "tags": []
   },
   "outputs": [],
   "source": [
    "!pip install tqdm imutils opencv-python matplotlib gdown"
   ]
  },
  {
   "cell_type": "code",
   "execution_count": null,
   "id": "99b5257b",
   "metadata": {
    "execution": {
     "iopub.execute_input": "2023-05-23T15:08:44.179356Z",
     "iopub.status.busy": "2023-05-23T15:08:44.178942Z",
     "iopub.status.idle": "2023-05-23T15:08:44.184806Z",
     "shell.execute_reply": "2023-05-23T15:08:44.183478Z",
     "shell.execute_reply.started": "2023-05-23T15:08:44.179321Z"
    },
    "id": "NLL-XIXijqMW",
    "papermill": {
     "duration": null,
     "end_time": null,
     "exception": null,
     "start_time": null,
     "status": "pending"
    },
    "tags": []
   },
   "outputs": [],
   "source": [
    "import cv2 \n",
    "import os \n",
    "#from imutils import perspective\n",
    "import numpy as np \n",
    "import json\n",
    "from tqdm import tqdm\n",
    "import matplotlib.pyplot as plt\n",
    "from imutils import perspective"
   ]
  },
  {
   "cell_type": "code",
   "execution_count": null,
   "id": "52404498",
   "metadata": {
    "execution": {
     "iopub.execute_input": "2023-05-23T15:08:08.353980Z",
     "iopub.status.busy": "2023-05-23T15:08:08.353531Z",
     "iopub.status.idle": "2023-05-23T15:08:36.338494Z",
     "shell.execute_reply": "2023-05-23T15:08:36.337037Z",
     "shell.execute_reply.started": "2023-05-23T15:08:08.353946Z"
    },
    "papermill": {
     "duration": null,
     "end_time": null,
     "exception": null,
     "start_time": null,
     "status": "pending"
    },
    "tags": []
   },
   "outputs": [],
   "source": [
    "!pip install --upgrade scipy numpy"
   ]
  },
  {
   "cell_type": "markdown",
   "id": "c266e721",
   "metadata": {
    "id": "Ob2RmmUGjqMW",
    "papermill": {
     "duration": null,
     "end_time": null,
     "exception": null,
     "start_time": null,
     "status": "pending"
    },
    "tags": []
   },
   "source": [
    "# Detector Training"
   ]
  },
  {
   "cell_type": "code",
   "execution_count": null,
   "id": "ce33dce2",
   "metadata": {
    "collapsed": true,
    "id": "7UMx_yXxjqMW",
    "jupyter": {
     "outputs_hidden": true,
     "source_hidden": true
    },
    "outputId": "6805134a-cfcb-41d3-a550-0b866b7ea9c2",
    "papermill": {
     "duration": null,
     "end_time": null,
     "exception": null,
     "start_time": null,
     "status": "pending"
    },
    "tags": []
   },
   "outputs": [],
   "source": [
    "print(\"Number of Training images are\", len(os.listdir(\"/content/drive/MyDrive/MachineLearning/Total-Text\")))"
   ]
  },
  {
   "cell_type": "code",
   "execution_count": null,
   "id": "9d90dd51",
   "metadata": {
    "cellView": "form",
    "collapsed": true,
    "id": "SjoZVvUgjqMX",
    "jupyter": {
     "outputs_hidden": true,
     "source_hidden": true
    },
    "outputId": "5bfbfbfa-264a-48e1-a280-938c125c643b",
    "papermill": {
     "duration": null,
     "end_time": null,
     "exception": null,
     "start_time": null,
     "status": "pending"
    },
    "tags": []
   },
   "outputs": [],
   "source": [
    "#@title\n",
    "# Code JL - Preparring Training Annotation Text file\n",
    "count =0\n",
    "flag = 1\n",
    "train_dir = os.path.join(\"Total-Text\", \"Train\")\n",
    "annotation_polygonal_dir = os.path.join(\"Total-Text\", \"Annotation\", \"groundtruth_polygonal_annotation\", \"Train\")\n",
    "for i in tqdm(os.listdir(train_dir)):\n",
    "    img_path = os.path.join(train_dir, i)\n",
    "    bounding_box_path = os.path.join(annotation_polygonal_dir, \"poly_gt_\"+i.split('.')[0]+\".txt\")\n",
    "    bounding_box_data = open(bounding_box_path, 'r')\n",
    "    bounding_box_data = bounding_box_data.readlines()\n",
    "    lis = []\n",
    "    for j in bounding_box_data:\n",
    "        try:\n",
    "            j = j.replace('\\n', '')\n",
    "            x_coordinates = j.split(\",\")[0].split(\"[\")[2].split(\"]\")[0].split(\" \")\n",
    "            y_coordinates = j.split(\",\")[1].split(\"[\")[2].split(\"]\")[0].split(\" \")\n",
    "            # if len(x_coordinates)!=6 or len(y_coordinates)!=6:\n",
    "            #     continue\n",
    "            # if(j.split(\" \")[-1]==\"[]\"):\n",
    "            #     continue\n",
    "            text = j.split(\" \")[-1].split(\"'\")[1]\n",
    "            if('#' in text):\n",
    "                text = '###'\n",
    "            x1, x2, x3, x4, x5, x6 = x_coordinates[0], x_coordinates[1], x_coordinates[2], x_coordinates[3], x_coordinates[4], x_coordinates[5]\n",
    "            y1, y2, y3, y4, y5, y6 = y_coordinates[0], y_coordinates[1], y_coordinates[2], y_coordinates[3], y_coordinates[4], y_coordinates[5]\n",
    "            dic = {}\n",
    "            dic[\"points\"] = [[x1, y1], [x2, y2], [x3, y3], [x4, y4], [x5, y5], [x6, x6]]\n",
    "            dic[\"transcription\"] = str(text)\n",
    "            lis.append(dic)\n",
    "        except:\n",
    "            flag = 0\n",
    "    lis = json.dumps(lis)\n",
    "    # if(flag==0):\n",
    "    #     flag = 1\n",
    "    #     continue\n",
    "    # if(lis==[] or lis==[]):\n",
    "    #     continue\n",
    "    with open(\"train.txt\", 'a') as ob:\n",
    "        ob.write(img_path+\"\\t\"+str(lis)+\"\\n\")\n",
    "    count = count + 1\n",
    "print(\"Total number of Annotations created for Training are \", count)"
   ]
  },
  {
   "cell_type": "code",
   "execution_count": null,
   "id": "7b11f95f",
   "metadata": {
    "cellView": "form",
    "collapsed": true,
    "id": "O8oQMmskjqMX",
    "jupyter": {
     "outputs_hidden": true,
     "source_hidden": true
    },
    "outputId": "3be83d57-00b9-445b-ab63-996e16162b26",
    "papermill": {
     "duration": null,
     "end_time": null,
     "exception": null,
     "start_time": null,
     "status": "pending"
    },
    "tags": []
   },
   "outputs": [],
   "source": [
    "#@title\n",
    "# Preparing Training Annotation Text file\n",
    "\n",
    "count = 0\n",
    "flag = 1\n",
    "for i in tqdm(os.listdir(\"Total-Text/Train\")):\n",
    "  img_path = os.path.join(\"Total-Text/Train\", i)\n",
    "  bounding_box_path = os.path.join(\"Total-Text/Annotation/groundtruth_polygonal_annotation/Train\", \"poly_gt_\"+i.split(\".\")[0]+\".txt\")\n",
    "  var = open(bounding_box_path, \"r\")\n",
    "  var = var.readlines()\n",
    "  lis = []\n",
    "  for j in var:\n",
    "    try:\n",
    "      j = j.replace(\"\\n\", '')\n",
    "      x_coordinates = j.split(\",\")[0].split(\"[\")[2].split(\"]\")[0].split(\" \")\n",
    "      y_coordinates = j.split(\",\")[1].split(\"[\")[2].split(\"]\")[0].split(\" \")\n",
    "      if(len(x_coordinates) != 4 or len(y_coordinates)!=4):\n",
    "        continue\n",
    "      #text = j.split(\",\")[3].split(\"[\")[1].split(\"'\")[1]\n",
    "      if(j.split(\" \")[-1]==\"[]\"):\n",
    "        continue\n",
    "      text = j.split(\" \")[-1].split(\"'\")[1]\n",
    "      if(\"#\" in text):\n",
    "        text = \"###\"\n",
    "      x1, x2, x3, x4 = x_coordinates[0], x_coordinates[1], x_coordinates[2], x_coordinates[3]\n",
    "      y1, y2, y3, y4 = y_coordinates[0], y_coordinates[1], y_coordinates[2], y_coordinates[3] \n",
    "      dic = {}\n",
    "      dic[\"points\"] = [[x1,y1], [x2,y2], [x3,y3], [x4,y4]]  \n",
    "      dic[\"transcription\"] = str(text)\n",
    "      lis.append(dic)\n",
    "    except:\n",
    "      flag = 0\n",
    "  lis = json.dumps(lis)\n",
    "  if(flag == 0):\n",
    "    flag = 1\n",
    "    continue\n",
    "  if(lis == [] or lis==\"[]\"):\n",
    "    continue\n",
    "  with open(\"train.txt\", \"a\") as ob:\n",
    "    ob.write(img_path+\"\\t\"+str(lis)+\"\\n\")\n",
    "  count = count + 1\n",
    "\n",
    "print(\"Total number of Annotations created for Training are \", count)"
   ]
  },
  {
   "cell_type": "code",
   "execution_count": null,
   "id": "6302685a",
   "metadata": {
    "cellView": "form",
    "collapsed": true,
    "id": "efPDbVLJjqMX",
    "jupyter": {
     "outputs_hidden": true,
     "source_hidden": true
    },
    "outputId": "011e7bf2-fd05-4e9b-dc28-964919152011",
    "papermill": {
     "duration": null,
     "end_time": null,
     "exception": null,
     "start_time": null,
     "status": "pending"
    },
    "tags": []
   },
   "outputs": [],
   "source": [
    "#@title\n",
    "# Code JL - Preparring Test or Validation Annotation Text file\n",
    "count =0\n",
    "flag = 1\n",
    "test_dir = os.path.join(\"Total-Text\", \"Test\")\n",
    "annotation_polygonal_dir = os.path.join(\"Total-Text\", \"Annotation\", \"groundtruth_polygonal_annotation\", \"Test\")\n",
    "for i in tqdm(os.listdir(test_dir)):\n",
    "    img_path = os.path.join(test_dir, i)\n",
    "    bounding_box_path = os.path.join(annotation_polygonal_dir, \"poly_gt_\"+i.split('.')[0]+\".txt\")\n",
    "    bounding_box_data = open(bounding_box_path, 'r')\n",
    "    bounding_box_data = bounding_box_data.readlines()\n",
    "    lis = []\n",
    "    for j in bounding_box_data:\n",
    "        try:\n",
    "            j = j.replace('\\n', '')\n",
    "            x_coordinates = j.split(\",\")[0].split(\"[\")[2].split(\"]\")[0].split(\" \")\n",
    "            y_coordinates = j.split(\",\")[1].split(\"[\")[2].split(\"]\")[0].split(\" \")\n",
    "            # if len(x_coordinates)!=6 or len(y_coordinates)!=6:\n",
    "            #     continue\n",
    "            # if(j.split(\" \")[-1]==\"[]\"):\n",
    "            #     continue\n",
    "            text = j.split(\" \")[-1].split(\"'\")[1]\n",
    "            if('#' in text):\n",
    "                text = '###'\n",
    "            x1, x2, x3, x4, x5, x6 = x_coordinates[0], x_coordinates[1], x_coordinates[2], x_coordinates[3], x_coordinates[4], x_coordinates[5]\n",
    "            y1, y2, y3, y4, y5, y6 = y_coordinates[0], y_coordinates[1], y_coordinates[2], y_coordinates[3], y_coordinates[4], y_coordinates[5]\n",
    "            dic = {}\n",
    "            dic[\"points\"] = [[x1, y1], [x2, y2], [x3, y3], [x4, y4], [x5, y5], [x6, x6]]\n",
    "            dic[\"transcription\"] = str(text)\n",
    "            lis.append(dic)\n",
    "        except:\n",
    "            flag = 0\n",
    "    lis = json.dumps(lis)\n",
    "    # if(flag==0):\n",
    "    #     flag = 1\n",
    "    #     continue\n",
    "    # if(lis==[] or lis==[]):\n",
    "    #     continue\n",
    "    with open(\"test.txt\", 'a') as ob:\n",
    "        ob.write(img_path+\"\\t\"+str(lis)+\"\\n\")\n",
    "    count = count + 1\n",
    "print(\"Total number of Annotations created for Testing are \", count)"
   ]
  },
  {
   "cell_type": "code",
   "execution_count": null,
   "id": "58f1d4e4",
   "metadata": {
    "cellView": "form",
    "collapsed": true,
    "id": "d-jC_JAxjqMY",
    "jupyter": {
     "outputs_hidden": true,
     "source_hidden": true
    },
    "outputId": "7974b443-e098-4f5b-e9b6-f0ff0945cc95",
    "papermill": {
     "duration": null,
     "end_time": null,
     "exception": null,
     "start_time": null,
     "status": "pending"
    },
    "tags": []
   },
   "outputs": [],
   "source": [
    "#@title\n",
    "# Preparing Testing/Validation Annotation Text file\n",
    "\n",
    "count = 0\n",
    "flag = 1\n",
    "for i in tqdm(os.listdir(\"Total-Text/Test\")):\n",
    "  img_path = os.path.join(\"Total-Text/Test\", i)\n",
    "  bounding_box_path = os.path.join(\"Total-Text/Annotation/groundtruth_polygonal_annotation/Test\", \"poly_gt_\"+i.split(\".\")[0]+\".txt\")\n",
    "  var = open(bounding_box_path, \"r\")\n",
    "  var = var.readlines()\n",
    "  lis = []\n",
    "  for j in var:\n",
    "    try:\n",
    "      j = j.replace(\"\\n\", '')\n",
    "      x_coordinates = j.split(\",\")[0].split(\"[\")[2].split(\"]\")[0].split(\" \")\n",
    "      y_coordinates = j.split(\",\")[1].split(\"[\")[2].split(\"]\")[0].split(\" \")\n",
    "      if(len(x_coordinates) != 4 or len(y_coordinates)!=4):\n",
    "        continue\n",
    "      #text = j.split(\",\")[3].split(\"[\")[1].split(\"'\")[1]\n",
    "      if(j.split(\" \")[-1]==\"[]\"):\n",
    "        continue\n",
    "      text = j.split(\" \")[-1].split(\"'\")[1]\n",
    "      if(\"#\" in text):\n",
    "        text = \"###\"\n",
    "      x1, x2, x3, x4 = x_coordinates[0], x_coordinates[1], x_coordinates[2], x_coordinates[3]\n",
    "      y1, y2, y3, y4 = y_coordinates[0], y_coordinates[1], y_coordinates[2], y_coordinates[3] \n",
    "      dic = {}\n",
    "      dic[\"points\"] = [[x1,y1], [x2,y2], [x3,y3], [x4,y4]]  \n",
    "      dic[\"transcription\"] = str(text)\n",
    "      lis.append(dic)\n",
    "    except:\n",
    "      flag = 0\n",
    "  lis = json.dumps(lis)\n",
    "  if(flag == 0):\n",
    "    flag = 1\n",
    "    continue\n",
    "  if(lis == [] or lis==\"[]\"):\n",
    "    continue\n",
    "  with open(\"test.txt\", \"a\") as ob:\n",
    "    ob.write(img_path+\"\\t\"+str(lis)+\"\\n\")\n",
    "  count = count + 1\n",
    "\n",
    "print(\"Total number of Annotations created for Test/Eval are \", count)"
   ]
  },
  {
   "cell_type": "code",
   "execution_count": null,
   "id": "1d6e218f",
   "metadata": {
    "cellView": "form",
    "collapsed": true,
    "id": "4lt3BEVejqMY",
    "jupyter": {
     "outputs_hidden": true,
     "source_hidden": true
    },
    "outputId": "3a7966e3-4efc-49e0-d06e-6c0e5dfe0b71",
    "papermill": {
     "duration": null,
     "end_time": null,
     "exception": null,
     "start_time": null,
     "status": "pending"
    },
    "tags": []
   },
   "outputs": [],
   "source": [
    "#@title\n",
    "!git clone https://github.com/PaddlePaddle/PaddleOCR.git"
   ]
  },
  {
   "cell_type": "code",
   "execution_count": null,
   "id": "2b24c3f2",
   "metadata": {
    "execution": {
     "iopub.execute_input": "2023-05-23T15:08:51.251207Z",
     "iopub.status.busy": "2023-05-23T15:08:51.250747Z",
     "iopub.status.idle": "2023-05-23T15:08:51.259348Z",
     "shell.execute_reply": "2023-05-23T15:08:51.258209Z",
     "shell.execute_reply.started": "2023-05-23T15:08:51.251132Z"
    },
    "id": "hlKUjccQjqMY",
    "outputId": "ea0c00f5-e330-455c-a633-fc7b829b8f0c",
    "papermill": {
     "duration": null,
     "end_time": null,
     "exception": null,
     "start_time": null,
     "status": "pending"
    },
    "tags": []
   },
   "outputs": [],
   "source": [
    "%cd ./PaddleOCR"
   ]
  },
  {
   "cell_type": "code",
   "execution_count": null,
   "id": "5f3b76f3",
   "metadata": {
    "execution": {
     "iopub.execute_input": "2023-05-23T15:08:54.014243Z",
     "iopub.status.busy": "2023-05-23T15:08:54.013859Z",
     "iopub.status.idle": "2023-05-23T15:09:58.881457Z",
     "shell.execute_reply": "2023-05-23T15:09:58.880071Z",
     "shell.execute_reply.started": "2023-05-23T15:08:54.014212Z"
    },
    "id": "E7t-wV6epe3V",
    "outputId": "2a1d3457-8575-4fad-9fbc-fc054c3be847",
    "papermill": {
     "duration": null,
     "end_time": null,
     "exception": null,
     "start_time": null,
     "status": "pending"
    },
    "scrolled": true,
    "tags": []
   },
   "outputs": [],
   "source": [
    "!pip install -r requirements.txt"
   ]
  },
  {
   "cell_type": "code",
   "execution_count": null,
   "id": "3c654143",
   "metadata": {
    "execution": {
     "iopub.execute_input": "2023-05-23T15:10:09.934832Z",
     "iopub.status.busy": "2023-05-23T15:10:09.934417Z",
     "iopub.status.idle": "2023-05-23T15:10:09.944194Z",
     "shell.execute_reply": "2023-05-23T15:10:09.943195Z",
     "shell.execute_reply.started": "2023-05-23T15:10:09.934795Z"
    },
    "papermill": {
     "duration": null,
     "end_time": null,
     "exception": null,
     "start_time": null,
     "status": "pending"
    },
    "tags": []
   },
   "outputs": [],
   "source": [
    "%cd .."
   ]
  },
  {
   "cell_type": "code",
   "execution_count": null,
   "id": "f48b0aef",
   "metadata": {
    "execution": {
     "iopub.execute_input": "2023-05-23T15:16:18.191915Z",
     "iopub.status.busy": "2023-05-23T15:16:18.191117Z",
     "iopub.status.idle": "2023-05-23T15:16:19.249348Z",
     "shell.execute_reply": "2023-05-23T15:16:19.247972Z",
     "shell.execute_reply.started": "2023-05-23T15:16:18.191876Z"
    },
    "papermill": {
     "duration": null,
     "end_time": null,
     "exception": null,
     "start_time": null,
     "status": "pending"
    },
    "tags": []
   },
   "outputs": [],
   "source": [
    "!ls"
   ]
  },
  {
   "cell_type": "code",
   "execution_count": null,
   "id": "13a24bf2",
   "metadata": {
    "execution": {
     "iopub.execute_input": "2023-05-23T15:16:30.419414Z",
     "iopub.status.busy": "2023-05-23T15:16:30.418975Z",
     "iopub.status.idle": "2023-05-23T15:16:31.476247Z",
     "shell.execute_reply": "2023-05-23T15:16:31.475075Z",
     "shell.execute_reply.started": "2023-05-23T15:16:30.419378Z"
    },
    "papermill": {
     "duration": null,
     "end_time": null,
     "exception": null,
     "start_time": null,
     "status": "pending"
    },
    "tags": []
   },
   "outputs": [],
   "source": [
    "!cat en_PP-OCRv3_rec.yml"
   ]
  },
  {
   "cell_type": "code",
   "execution_count": null,
   "id": "f244423b",
   "metadata": {
    "collapsed": true,
    "id": "HakJEATRjqMY",
    "jupyter": {
     "outputs_hidden": true,
     "source_hidden": true
    },
    "outputId": "3fe37d3b-4ea5-4696-8354-4aaf37443e06",
    "papermill": {
     "duration": null,
     "end_time": null,
     "exception": null,
     "start_time": null,
     "status": "pending"
    },
    "tags": []
   },
   "outputs": [],
   "source": [
    "!wget -P ./pretrain_models/ https://paddleocr.bj.bcebos.com/pretrained/MobileNetV3_large_x0_5_pretrained.pdparams"
   ]
  },
  {
   "cell_type": "code",
   "execution_count": null,
   "id": "ce498537",
   "metadata": {
    "cellView": "form",
    "id": "MckJ423yjqMZ",
    "papermill": {
     "duration": null,
     "end_time": null,
     "exception": null,
     "start_time": null,
     "status": "pending"
    },
    "tags": []
   },
   "outputs": [],
   "source": [
    "#@title\n",
    "#Multi-GPU Training\n",
    "!python3 -m paddle.distributed.launch --gpus '0,1'  tools/train.py -c configs/det/det_mv3_db.yml -o Global.pretrained_model=./pretrain_models/MobileNetV3_large_x0_5_pretrained"
   ]
  },
  {
   "cell_type": "code",
   "execution_count": null,
   "id": "b396e7c6",
   "metadata": {
    "cellView": "form",
    "id": "0ENkFvcjjqMZ",
    "outputId": "40c0053a-5eb4-4c2a-c8a9-76737d5b1696",
    "papermill": {
     "duration": null,
     "end_time": null,
     "exception": null,
     "start_time": null,
     "status": "pending"
    },
    "tags": []
   },
   "outputs": [],
   "source": [
    "#@title\n",
    "#Single GPU Training\n",
    "!python3 tools/train.py -c configs/det/det_mv3_db.yml  \\\n",
    "         -o Global.pretrained_model=./pretrain_models/MobileNetV3_large_x0_5_pretrained "
   ]
  },
  {
   "cell_type": "code",
   "execution_count": null,
   "id": "e1877790",
   "metadata": {
    "papermill": {
     "duration": null,
     "end_time": null,
     "exception": null,
     "start_time": null,
     "status": "pending"
    },
    "tags": []
   },
   "outputs": [],
   "source": [
    "#Multi-GPU Training\n",
    "!python3 -m paddle.distributed.launch --gpus '0,1'  ./PaddleOCR/tools/train.py -c ./det_mv3_db.yml -o Global.pretrained_model=./pretrain_models/MobileNetV3_large_x0_5_pretrained"
   ]
  },
  {
   "cell_type": "code",
   "execution_count": null,
   "id": "94084518",
   "metadata": {
    "id": "bmRdk5q-jqMZ",
    "papermill": {
     "duration": null,
     "end_time": null,
     "exception": null,
     "start_time": null,
     "status": "pending"
    },
    "scrolled": true,
    "tags": []
   },
   "outputs": [],
   "source": [
    "#Single GPU Training\n",
    "!python3 ./PaddleOCR/tools/train.py -c ./det_mv3_db.yml  -o Global.pretrained_model=./pretrain_models/MobileNetV3_large_x0_5_pretrained.pdparams"
   ]
  },
  {
   "cell_type": "markdown",
   "id": "96c97ef0",
   "metadata": {
    "id": "inEz_fEfjqMZ",
    "papermill": {
     "duration": null,
     "end_time": null,
     "exception": null,
     "start_time": null,
     "status": "pending"
    },
    "tags": []
   },
   "source": [
    "# Recognizer Training"
   ]
  },
  {
   "cell_type": "code",
   "execution_count": null,
   "id": "c3174936",
   "metadata": {
    "cellView": "form",
    "collapsed": true,
    "id": "z6DvyrfDjqMZ",
    "jupyter": {
     "outputs_hidden": true,
     "source_hidden": true
    },
    "outputId": "1e54183e-f3b1-4308-f30a-11c4f9464492",
    "papermill": {
     "duration": null,
     "end_time": null,
     "exception": null,
     "start_time": null,
     "status": "pending"
    },
    "tags": []
   },
   "outputs": [],
   "source": [
    "#@title\n",
    "# Preparing the Training Annotation File and images\n",
    "\n",
    "count = 0\n",
    "flag = 1\n",
    "img_counter = 0\n",
    "for i in tqdm(os.listdir(\"Total-Text/Train\")):\n",
    "  img_path = os.path.join(\"Total-Text/Train\", i)\n",
    "  bounding_box_path = os.path.join(\"Total-Text/Annotation/groundtruth_polygonal_annotation/Train\", \"poly_gt_\"+i.split(\".\")[0]+\".txt\")\n",
    "  var = open(bounding_box_path, \"r\")\n",
    "  var = var.readlines()\n",
    "  for j in var:\n",
    "    try:\n",
    "      j = j.replace(\"\\n\", '')\n",
    "      x_coordinates = j.split(\",\")[0].split(\"[\")[2].split(\"]\")[0].split(\" \")\n",
    "      y_coordinates = j.split(\",\")[1].split(\"[\")[2].split(\"]\")[0].split(\" \")\n",
    "      if(len(x_coordinates) != 4 or len(y_coordinates)!=4):\n",
    "        continue\n",
    "      #text = j.split(\",\")[3].split(\"[\")[1].split(\"'\")[1]\n",
    "      if(j.split(\" \")[-1]==\"[]\"):\n",
    "        continue\n",
    "      text = j.split(\" \")[-1].split(\"'\")[1]\n",
    "      if(\"#\" in text):\n",
    "        text = \"###\"\n",
    "      x1, x2, x3, x4 = x_coordinates[0], x_coordinates[1], x_coordinates[2], x_coordinates[3]\n",
    "      y1, y2, y3, y4 = y_coordinates[0], y_coordinates[1], y_coordinates[2], y_coordinates[3] \n",
    "      dic = {}\n",
    "      dic[\"points\"] = [[x1,y1], [x2,y2], [x3,y3], [x4,y4]]  \n",
    "      dic[\"transcription\"] = str(text)\n",
    "      lis.append(dic)\n",
    "      x1,y1,x2,y2,x3,y3,x4,y4 = int(x1), int(y1), int(x2), int(y2), int(x3), int(y3), int(x4), int(x4)\n",
    "      pts = np.asarray([(x1,y1), (x2,y2), (x3,y3), (x4,y4)])\n",
    "      img = cv2.imread(img_path)\n",
    "      warped = perspective.four_point_transform(img, pts)\n",
    "      new_img_path = \"crnn_train/img_\"+str(img_counter)+\".png\"\n",
    "      cv2.imwrite(new_img_path, warped)\n",
    "      with open(\"rec_train.txt\", \"a\") as ob:\n",
    "        ob.write(new_img_path+\"\\t\"+text+\"\\n\")\n",
    "      img_counter = img_counter + 1\n",
    "    except:\n",
    "      flag = 0\n",
    "  if(flag == 0):\n",
    "    flag = 1\n",
    "    continue\n",
    "  count = count + 1\n",
    "print(\"Total number of Annotations created for Training are \", count)"
   ]
  },
  {
   "cell_type": "code",
   "execution_count": null,
   "id": "7ac129bc",
   "metadata": {
    "cellView": "form",
    "collapsed": true,
    "id": "wemQUw1jjqMb",
    "jupyter": {
     "outputs_hidden": true,
     "source_hidden": true
    },
    "outputId": "3d3a822b-c4e3-4e07-c70c-e1f90d4f0d51",
    "papermill": {
     "duration": null,
     "end_time": null,
     "exception": null,
     "start_time": null,
     "status": "pending"
    },
    "tags": []
   },
   "outputs": [],
   "source": [
    "#@title\n",
    "# Preparing the Testing/Eval Annotation File and images\n",
    "\n",
    "count = 0\n",
    "flag = 1\n",
    "img_counter = 0\n",
    "for i in tqdm(os.listdir(\"Total-Text/Test\")):\n",
    "  img_path = os.path.join(\"Total-Text/Test\", i)\n",
    "  bounding_box_path = os.path.join(\"Total-Text/Annotation/groundtruth_polygonal_annotation/Test\", \"poly_gt_\"+i.split(\".\")[0]+\".txt\")\n",
    "  var = open(bounding_box_path, \"r\")\n",
    "  var = var.readlines()\n",
    "  for j in var:\n",
    "    try:\n",
    "      j = j.replace(\"\\n\", '')\n",
    "      x_coordinates = j.split(\",\")[0].split(\"[\")[2].split(\"]\")[0].split(\" \")\n",
    "      y_coordinates = j.split(\",\")[1].split(\"[\")[2].split(\"]\")[0].split(\" \")\n",
    "      if(len(x_coordinates) != 4 or len(y_coordinates)!=4):\n",
    "        continue\n",
    "      #text = j.split(\",\")[3].split(\"[\")[1].split(\"'\")[1]\n",
    "      if(j.split(\" \")[-1]==\"[]\"):\n",
    "        continue\n",
    "      text = j.split(\" \")[-1].split(\"'\")[1]\n",
    "      if(\"#\" in text):\n",
    "        text = \"###\"\n",
    "      x1, x2, x3, x4 = x_coordinates[0], x_coordinates[1], x_coordinates[2], x_coordinates[3]\n",
    "      y1, y2, y3, y4 = y_coordinates[0], y_coordinates[1], y_coordinates[2], y_coordinates[3] \n",
    "      dic = {}\n",
    "      dic[\"points\"] = [[x1,y1], [x2,y2], [x3,y3], [x4,y4]]  \n",
    "      dic[\"transcription\"] = str(text)\n",
    "      lis.append(dic)\n",
    "      x1,y1,x2,y2,x3,y3,x4,y4 = int(x1), int(y1), int(x2), int(y2), int(x3), int(y3), int(x4), int(x4)\n",
    "      pts = np.asarray([(x1,y1), (x2,y2), (x3,y3), (x4,y4)])\n",
    "      img = cv2.imread(img_path)\n",
    "      warped = perspective.four_point_transform(img, pts)\n",
    "      new_img_path = \"crnn_test/img_\"+str(img_counter)+\".png\"\n",
    "      cv2.imwrite(new_img_path, warped)\n",
    "      with open(\"rec_test.txt\", \"a\") as ob:\n",
    "        ob.write(new_img_path+\"\\t\"+text+\"\\n\")\n",
    "      img_counter = img_counter + 1\n",
    "    except:\n",
    "      flag = 0\n",
    "  if(flag == 0):\n",
    "    flag = 1\n",
    "    continue\n",
    "  count = count + 1\n",
    "print(\"Total number of Annotations created for Test/Eval are \", count)"
   ]
  },
  {
   "cell_type": "code",
   "execution_count": null,
   "id": "0e5a85ad",
   "metadata": {
    "id": "F_czvKtmjqMb",
    "jupyter": {
     "source_hidden": true
    },
    "papermill": {
     "duration": null,
     "end_time": null,
     "exception": null,
     "start_time": null,
     "status": "pending"
    },
    "tags": []
   },
   "outputs": [],
   "source": [
    "%cd PaddleOCR"
   ]
  },
  {
   "cell_type": "code",
   "execution_count": null,
   "id": "8a0e1866",
   "metadata": {
    "collapsed": true,
    "id": "x0lqDC9-jqMb",
    "jupyter": {
     "outputs_hidden": true,
     "source_hidden": true
    },
    "outputId": "aef67595-ca40-4fc2-8f8f-3cf74fc8e77c",
    "papermill": {
     "duration": null,
     "end_time": null,
     "exception": null,
     "start_time": null,
     "status": "pending"
    },
    "tags": []
   },
   "outputs": [],
   "source": [
    "# Download the pre-trained model of en_PP-OCRv3\n",
    "!wget -P ./pretrain_models/ https://paddleocr.bj.bcebos.com/PP-OCRv3/english/en_PP-OCRv3_rec_train.tar\n",
    "# Decompress model parameters\n",
    "%cd pretrain_models\n",
    "!tar -xf en_PP-OCRv3_rec_train.tar && rm -rf en_PP-OCRv3_rec_train.tar\n",
    "%cd .."
   ]
  },
  {
   "cell_type": "code",
   "execution_count": null,
   "id": "6a942269",
   "metadata": {
    "cellView": "form",
    "id": "d_kjm8zrjqMb",
    "jupyter": {
     "source_hidden": true
    },
    "papermill": {
     "duration": null,
     "end_time": null,
     "exception": null,
     "start_time": null,
     "status": "pending"
    },
    "tags": []
   },
   "outputs": [],
   "source": [
    "#@title\n",
    "!python3 -m paddle.distributed.launch --gpus '0,1'  tools/train.py -c configs/rec/PP-OCRv3/en_PP-OCRv3_rec.yml -o Global.pretrained_model=en_PP-OCRv3_rec_train/best_accuracy"
   ]
  },
  {
   "cell_type": "code",
   "execution_count": null,
   "id": "3fe1b958",
   "metadata": {
    "execution": {
     "iopub.execute_input": "2023-05-23T15:17:24.059891Z",
     "iopub.status.busy": "2023-05-23T15:17:24.059469Z"
    },
    "papermill": {
     "duration": null,
     "end_time": null,
     "exception": null,
     "start_time": null,
     "status": "pending"
    },
    "scrolled": true,
    "tags": []
   },
   "outputs": [],
   "source": [
    "#@title\n",
    "!python3 -m paddle.distributed.launch --gpus '0,1'  ./PaddleOCR/tools/train.py -c ./en_PP-OCRv3_rec.yml -o Global.pretrained_model=./pretrain_models/en_PP-OCRv3_rec_train/best_accuracy"
   ]
  },
  {
   "cell_type": "code",
   "execution_count": null,
   "id": "9e2ed713",
   "metadata": {
    "collapsed": true,
    "id": "5X7xlOD1PbdQ",
    "jupyter": {
     "outputs_hidden": true,
     "source_hidden": true
    },
    "outputId": "8a08f144-489f-4ebb-fea9-201f2177e9bc",
    "papermill": {
     "duration": null,
     "end_time": null,
     "exception": null,
     "start_time": null,
     "status": "pending"
    },
    "tags": []
   },
   "outputs": [],
   "source": [
    "#Single GPU Training\n",
    "!python3 ./PaddleOCR/tools/train.py -c ./en_PP-OCRv3_rec.yml  -o Global.pretrained_model=./pretrain_models/en_PP-OCRv3_rec_train/best_accuracy.pdparams"
   ]
  },
  {
   "cell_type": "markdown",
   "id": "98c077aa",
   "metadata": {
    "id": "g8l-abAZjqMb",
    "papermill": {
     "duration": null,
     "end_time": null,
     "exception": null,
     "start_time": null,
     "status": "pending"
    },
    "tags": []
   },
   "source": [
    "# Converting Trained Weights to Inference Weights"
   ]
  },
  {
   "cell_type": "code",
   "execution_count": null,
   "id": "f8a01de2",
   "metadata": {
    "id": "9eGhOSePjqMb",
    "papermill": {
     "duration": null,
     "end_time": null,
     "exception": null,
     "start_time": null,
     "status": "pending"
    },
    "tags": []
   },
   "outputs": [],
   "source": [
    "%cd PaddleOCR"
   ]
  },
  {
   "cell_type": "code",
   "execution_count": null,
   "id": "3731fd75",
   "metadata": {
    "id": "jD7LFKk_jqMc",
    "outputId": "84d78531-a302-4b6e-f4fd-eff38b514272",
    "papermill": {
     "duration": null,
     "end_time": null,
     "exception": null,
     "start_time": null,
     "status": "pending"
    },
    "tags": []
   },
   "outputs": [],
   "source": [
    "#Conversion of Recognizer Trained weights to Inference\n",
    "\n",
    "!python3 tools/export_model.py -c configs/rec/PP-OCRv3/en_PP-OCRv3_rec.yml -o Global.pretrained_model=output/v3_en_mobile/best_accuracy  Global.save_inference_dir=./inference/en_PP-OCRv3_rec/"
   ]
  },
  {
   "cell_type": "code",
   "execution_count": null,
   "id": "9e19c1af",
   "metadata": {
    "id": "LgHDCsmBjqMc",
    "outputId": "9f12b197-a81e-4932-c7b6-7475d047f37b",
    "papermill": {
     "duration": null,
     "end_time": null,
     "exception": null,
     "start_time": null,
     "status": "pending"
    },
    "tags": []
   },
   "outputs": [],
   "source": [
    "#conversion of Detection Trained Weights to Inference\n",
    "\n",
    "!python3 tools/export_model.py -c /content/PaddleOCR/configs/det/det_mv3_db.yml -o Global.pretrained_model=\"./output/db_mv3/best_accuracy\" Global.save_inference_dir=\"./output/det_db_inference/\""
   ]
  },
  {
   "cell_type": "markdown",
   "id": "9fb773e4",
   "metadata": {
    "id": "sfUU28OMjqMc",
    "papermill": {
     "duration": null,
     "end_time": null,
     "exception": null,
     "start_time": null,
     "status": "pending"
    },
    "tags": []
   },
   "source": [
    "# Inference using Custom Weights in PyPi Version"
   ]
  },
  {
   "cell_type": "code",
   "execution_count": null,
   "id": "79c5870a",
   "metadata": {
    "id": "SvzyRLBJjqMc",
    "papermill": {
     "duration": null,
     "end_time": null,
     "exception": null,
     "start_time": null,
     "status": "pending"
    },
    "tags": []
   },
   "outputs": [],
   "source": [
    "from paddleocr import PaddleOCR,draw_ocr\n",
    "from PIL import Image"
   ]
  },
  {
   "cell_type": "code",
   "execution_count": null,
   "id": "4daa90fe",
   "metadata": {
    "id": "TMn3NOt2jqMc",
    "papermill": {
     "duration": null,
     "end_time": null,
     "exception": null,
     "start_time": null,
     "status": "pending"
    },
    "tags": []
   },
   "outputs": [],
   "source": [
    "#Loading the detector and ocr with the previously trained weights\n",
    "custom_ocr = PaddleOCR(use_angle_cls=True,\n",
    "                rec_model_dir='PaddleOCR/inference/en_PP-OCRv3_rec',\n",
    "                det_model_dir='/content/PaddleOCR/output/det_db_inference', \n",
    "                rec_char_dict_path='ppocr/utils/en_dict.txt',\n",
    "                use_gpu=True,\n",
    "                show_log=False)"
   ]
  },
  {
   "cell_type": "code",
   "execution_count": null,
   "id": "aa2c3ebf",
   "metadata": {
    "id": "dtLLvb7mjqMc",
    "papermill": {
     "duration": null,
     "end_time": null,
     "exception": null,
     "start_time": null,
     "status": "pending"
    },
    "tags": []
   },
   "outputs": [],
   "source": [
    "ocr = PaddleOCR(use_angle_cls=True, lang=\"en\")"
   ]
  },
  {
   "cell_type": "code",
   "execution_count": null,
   "id": "c46f6052",
   "metadata": {
    "id": "_fY7J2hcjqMc",
    "outputId": "ceb8af67-bdcf-4ab7-89cd-dbe11f863bf2",
    "papermill": {
     "duration": null,
     "end_time": null,
     "exception": null,
     "start_time": null,
     "status": "pending"
    },
    "tags": []
   },
   "outputs": [],
   "source": [
    "img_path = \"/content/drive/MyDrive/MachineLearning/Total-Text/Sample/Train/11664.jpg\"\n",
    "img = cv2.imread(img_path)\n",
    "plt.imshow(img)"
   ]
  },
  {
   "cell_type": "code",
   "execution_count": null,
   "id": "7291bcd1",
   "metadata": {
    "id": "Q0CFhE3njqMc",
    "outputId": "9471d93b-8818-49a4-95e9-ae9eff43a179",
    "papermill": {
     "duration": null,
     "end_time": null,
     "exception": null,
     "start_time": null,
     "status": "pending"
    },
    "tags": []
   },
   "outputs": [],
   "source": [
    "result = custom_ocr.ocr(img)"
   ]
  },
  {
   "cell_type": "code",
   "execution_count": null,
   "id": "b1d1b01f",
   "metadata": {
    "id": "LJWzEg8fjqMc",
    "papermill": {
     "duration": null,
     "end_time": null,
     "exception": null,
     "start_time": null,
     "status": "pending"
    },
    "tags": []
   },
   "outputs": [],
   "source": [
    "# draw result\n",
    "image = Image.open(img_path).convert('RGB')\n",
    "boxes = [line[0] for line in result]\n",
    "txts = [line[1][0] for line in result]\n",
    "scores = [line[1][1] for line in result]\n",
    "im_show = draw_ocr(image, boxes, txts, scores, font_path='doc/fonts/simfang.ttf')\n",
    "im_show = Image.fromarray(im_show)\n",
    "im_show.save('result.jpg')"
   ]
  },
  {
   "cell_type": "code",
   "execution_count": null,
   "id": "9ca94bb7",
   "metadata": {
    "id": "UBChxcHBjqMc",
    "outputId": "c84d4edd-164a-4d60-a943-e7e27fdc33d2",
    "papermill": {
     "duration": null,
     "end_time": null,
     "exception": null,
     "start_time": null,
     "status": "pending"
    },
    "tags": []
   },
   "outputs": [],
   "source": [
    "im_show"
   ]
  },
  {
   "cell_type": "code",
   "execution_count": null,
   "id": "c3433b55",
   "metadata": {
    "id": "Kb4w8HxvjqMj",
    "papermill": {
     "duration": null,
     "end_time": null,
     "exception": null,
     "start_time": null,
     "status": "pending"
    },
    "tags": []
   },
   "outputs": [],
   "source": []
  }
 ],
 "metadata": {
  "kernelspec": {
   "display_name": "Python 3",
   "language": "python",
   "name": "python3"
  },
  "language_info": {
   "codemirror_mode": {
    "name": "ipython",
    "version": 3
   },
   "file_extension": ".py",
   "mimetype": "text/x-python",
   "name": "python",
   "nbconvert_exporter": "python",
   "pygments_lexer": "ipython3",
   "version": "3.10.10"
  },
  "papermill": {
   "default_parameters": {},
   "duration": 17.303123,
   "end_time": "2023-05-23T15:38:47.994268",
   "environment_variables": {},
   "exception": true,
   "input_path": "__notebook__.ipynb",
   "output_path": "__notebook__.ipynb",
   "parameters": {},
   "start_time": "2023-05-23T15:38:30.691145",
   "version": "2.4.0"
  }
 },
 "nbformat": 4,
 "nbformat_minor": 5
}
