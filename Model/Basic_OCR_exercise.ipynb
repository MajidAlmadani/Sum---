{
  "cells": [
    {
      "cell_type": "markdown",
      "metadata": {
        "id": "K09M7t6QvO9u"
      },
      "source": [
        "# Introduction\n",
        "\n",
        "In this notebook, we will perform text detection in images using OCR. We will start with image preprocessing and then conduct OCR using Tesseract, EasyOCR, and KerasOCR. By the end of this notebook, you will understand how to enhance image quality for OCR and extract text effectively from images.\n",
        "\n"
      ]
    },
    {
      "cell_type": "markdown",
      "metadata": {
        "id": "4ZQ9DM7WvuE1"
      },
      "source": [
        "# Install and Import Libraries"
      ]
    },
    {
      "cell_type": "code",
      "execution_count": 74,
      "metadata": {
        "id": "MOlqcxJjBPt5"
      },
      "outputs": [],
      "source": [
        "# !apt-get update\n",
        "# !apt-get install -y tesseract-ocr"
      ]
    },
    {
      "cell_type": "code",
      "execution_count": 75,
      "metadata": {
        "id": "vUJvA1mCwkKi"
      },
      "outputs": [],
      "source": [
        "# !pip install pytesseract\n",
        "# !pip install easyocr\n",
        "# !pip install keras-ocr"
      ]
    },
    {
      "cell_type": "code",
      "execution_count": 76,
      "metadata": {
        "id": "nqz-Ji4BMa0T"
      },
      "outputs": [],
      "source": [
        "# Warning! Don't run this code unless you had an error when creating a pipeline for OCR using KerasOCR in the next code cell\n",
        "# !pip install tensorflow==2.9.1 keras==2.9.0\n",
        "# pip install keras == 2.9.0\n",
        "# After runnig this code you will have to restart the session and import libraries again"
      ]
    },
    {
      "cell_type": "code",
      "execution_count": 77,
      "metadata": {
        "id": "6OQYcgKgs32-"
      },
      "outputs": [],
      "source": [
        "# pip install tesseract"
      ]
    },
    {
      "cell_type": "code",
      "execution_count": 78,
      "metadata": {
        "id": "w4j_TemAt-bM"
      },
      "outputs": [],
      "source": [
        "import os\n",
        "import cv2\n",
        "import pytesseract\n",
        "import easyocr\n",
        "import keras_ocr\n",
        "import numpy as np\n",
        "import matplotlib.pyplot as plt\n",
        "from PIL import Image"
      ]
    },
    {
      "cell_type": "code",
      "execution_count": 79,
      "metadata": {
        "id": "ax5yamvmxt-p"
      },
      "outputs": [],
      "source": [
        "# Grayscale conversion\n",
        "def get_grayscale(image):\n",
        "    return cv2.cvtColor(image, cv2.COLOR_BGR2GRAY)\n",
        "\n",
        "# Noise removal\n",
        "def remove_noise(image):\n",
        "    return cv2.medianBlur(image, 5)\n",
        "\n",
        "# Sharpening\n",
        "def sharpen_image(image):\n",
        "    kernel = np.array([[0, -1, 0], [-1, 5,-1], [0, -1, 0]])  # Sharpening kernel\n",
        "    return cv2.filter2D(image, -1, kernel)\n",
        "\n",
        "# Binarization\n",
        "def binarize_image(image):\n",
        "    return cv2.threshold(image, 0, 255, cv2.THRESH_BINARY + cv2.THRESH_OTSU)[1]\n",
        "\n",
        "# Helper display function\n",
        "def display_image(image, title, is_rgb=False):\n",
        "    if is_rgb:\n",
        "        # OpenCV loads images in BGR format by default, so we have to convert BGR to RGB for proper color display\n",
        "        image = cv2.cvtColor(image, cv2.COLOR_BGR2RGB)\n",
        "        plt.imshow(image)\n",
        "    else:\n",
        "        plt.imshow(image, cmap='gray')\n",
        "    plt.title(title)\n",
        "    plt.axis('off')\n",
        "    plt.show()"
      ]
    },
    {
      "cell_type": "code",
      "source": [
        "# image = cv2.imread('/content/Dataset/1.jpg')\n",
        "\n",
        "# display_image(binarize_image(get_grayscale(image)),'Original')\n",
        "\n",
        "# display_image(image,'Original')"
      ],
      "metadata": {
        "id": "GgOdMhTAC_Hs"
      },
      "execution_count": 80,
      "outputs": []
    },
    {
      "cell_type": "code",
      "source": [
        "image_path = []\n",
        "folder_path = '/content/Dataset1'\n",
        "\n",
        "images_paths = [\n",
        "        os.path.join(folder_path, file)\n",
        "        for file in os.listdir(folder_path)\n",
        "        if os.path.splitext(file)[1].lower() in '.jpg'\n",
        "    ]\n",
        "\n",
        "print(len(images_paths))"
      ],
      "metadata": {
        "colab": {
          "base_uri": "https://localhost:8080/"
        },
        "id": "GHoR5yyJu8du",
        "outputId": "e0378b92-9ea5-4487-80ba-27f6dd358248"
      },
      "execution_count": 81,
      "outputs": [
        {
          "output_type": "stream",
          "name": "stdout",
          "text": [
            "35\n"
          ]
        }
      ]
    },
    {
      "cell_type": "markdown",
      "source": [
        "## Pytesseract"
      ],
      "metadata": {
        "id": "Qht7AqJgx6bb"
      }
    },
    {
      "cell_type": "code",
      "execution_count": 82,
      "metadata": {
        "id": "-mQ0KO98WVAW"
      },
      "outputs": [],
      "source": [
        "# tesseract_text_extraction = []\n",
        "\n",
        "# for image_path in images_paths:\n",
        "#   image = cv2.imread(image_path)\n",
        "\n",
        "#   gray_image = get_grayscale(image)\n",
        "\n",
        "#   extracted_text = pytesseract.image_to_string(gray_image)\n",
        "#   tesseract_text_extraction.append(extracted_text)\n",
        "\n",
        "\n",
        "\n",
        "# boxes = pytesseract.image_to_boxes(gray_image)\n",
        "# boxes_image = image.copy()\n",
        "\n",
        "# for box in boxes.splitlines():\n",
        "#     box = box.split(' ')\n",
        "#     x, y, w, h = int(box[1]), int(box[2]), int(box[3]), int(box[4])\n",
        "#     # Draw the rectangle\n",
        "#     cv2.rectangle(boxes_image, (x, boxes_image.shape[0] - y), (w, boxes_image.shape[0] - h), (0, 255, 0), 2)\n",
        "\n",
        "# display_image(boxes_image, \"Image with Bounding Boxes\", is_rgb=True)"
      ]
    },
    {
      "cell_type": "code",
      "source": [
        "# print(tesseract_text_extraction)"
      ],
      "metadata": {
        "id": "CUUttGrGx-_z"
      },
      "execution_count": 83,
      "outputs": []
    },
    {
      "cell_type": "markdown",
      "metadata": {
        "id": "8sZGVxgDENs6"
      },
      "source": [
        "## EasyOCR"
      ]
    },
    {
      "cell_type": "code",
      "execution_count": 84,
      "metadata": {
        "id": "zxqU2gNrGRmy",
        "colab": {
          "base_uri": "https://localhost:8080/"
        },
        "outputId": "6ba77926-9fbc-49e6-e4e2-9340f6e36da3"
      },
      "outputs": [
        {
          "output_type": "stream",
          "name": "stderr",
          "text": [
            "WARNING:easyocr.easyocr:Neither CUDA nor MPS are available - defaulting to CPU. Note: This module is much faster with a GPU.\n"
          ]
        }
      ],
      "source": [
        "easyocr_text_extraction = []\n",
        "\n",
        "reader = easyocr.Reader(['en'])\n",
        "\n",
        "for image_path in images_paths:\n",
        "  image = cv2.imread(image_path)\n",
        "\n",
        "  image = get_grayscale(image)\n",
        "\n",
        "  image = cv2.bilateralFilter(image, 11, 17, 17)\n",
        "\n",
        "  image = cv2.GaussianBlur(image, (3, 3), 0)\n",
        "\n",
        "  # image = cv2.adaptiveThreshold(image, 255, cv2.ADAPTIVE_THRESH_GAUSSIAN_C, cv2.THRESH_BINARY, 11, 2)\n",
        "  result = reader.readtext(image)\n",
        "\n",
        "  easyocr_text_extraction.append(result)"
      ]
    },
    {
      "cell_type": "code",
      "execution_count": 87,
      "metadata": {
        "id": "BS_FoVaqZpPP",
        "colab": {
          "base_uri": "https://localhost:8080/"
        },
        "outputId": "4b86aaa2-a0ed-439f-ce71-1b8dc8a91595"
      },
      "outputs": [
        {
          "output_type": "stream",
          "name": "stdout",
          "text": [
            "EFQ DZI\n",
            "T\n",
            "Naij NrU\n",
            "02Fad\n",
            "DJOEd\n",
            "A65 JKV\n",
            "FJia zhy\n",
            "LJcV\n",
            "GXis OGJ\n",
            "064OGX\n",
            "EGINBG\n",
            "GiB <\n",
            "cEGIUYL\n",
            "LUp\n",
            "HOSZ\n",
            "pBG65 USJ\n",
            "Wg65 ZFX\n",
            "Kho6 KsU\n",
            "HNIA\n",
            "KBY\n",
            "BP6JLYH\n",
            "LPI\n",
            "WSISU\n",
            "Coxs\n",
            "LgaHI\n",
            "QD\n",
            "LLGIPZS\n",
            "(S4OL\n",
            "duos YRO\n",
            "Apos JEQ \n",
            "LHISZZC\n",
            "NSKqJ\n",
            "DNOCX\n",
            "0fosWKJ\n",
            "NEIVSU\n"
          ]
        }
      ],
      "source": [
        "prediction = []\n",
        "\n",
        "for result in easyocr_text_extraction:\n",
        "  for detection in result:\n",
        "    print(detection[1])"
      ]
    },
    {
      "cell_type": "code",
      "source": [],
      "metadata": {
        "id": "KoEKgiilb_37"
      },
      "execution_count": null,
      "outputs": []
    },
    {
      "cell_type": "markdown",
      "metadata": {
        "id": "G3014NjxLoKB"
      },
      "source": [
        "## KerasOCR"
      ]
    },
    {
      "cell_type": "code",
      "execution_count": null,
      "metadata": {
        "id": "zB2VHkWDGLSd",
        "colab": {
          "base_uri": "https://localhost:8080/"
        },
        "outputId": "1746abb5-fcf1-4cff-bff4-50b5667456ca"
      },
      "outputs": [
        {
          "output_type": "stream",
          "name": "stdout",
          "text": [
            "Looking for /root/.keras-ocr/craft_mlt_25k.h5\n",
            "Looking for /root/.keras-ocr/crnn_kurapan.h5\n",
            "2/2 [==============================] - 80s 4s/step\n",
            "2/2 [==============================] - 18s 7s/step\n",
            "rozfkd\n",
            "hggs\n",
            "zfx\n",
            "duds\n",
            "xro\n",
            "cu\n",
            "lloipzs\n",
            "avoeh\n",
            "gie\n",
            "nais\n",
            "nru\n",
            "k6a\n",
            "dmy\n",
            "nasa\n",
            "kgj\n",
            "hna\n",
            "eyo9\n",
            "vls\n",
            "kho6\n",
            "ksu\n",
            "lup\n",
            "msnsu\n",
            "efid\n",
            "dzt\n",
            "fjl\n",
            "zhy\n",
            "kby\n",
            "hrszope\n",
            "leial\n",
            "lais\n",
            "vcv\n",
            "afds\n",
            "jed\n",
            "bps3\n",
            "lyh\n",
            "bgssuss\n",
            "0f05\n",
            "vka\n",
            "afgs\n",
            "jky\n",
            "lnis\n",
            "zzc\n",
            "ina\n",
            "nlea\n",
            "ogx\n",
            "gade\n",
            "epo\n",
            "dadz\n",
            "clx\n",
            "cxis\n",
            "ogu\n",
            "eyginbg\n",
            "cesiiyl\n",
            "khoge\n",
            "zzk\n"
          ]
        }
      ],
      "source": [
        "# pipeline = keras_ocr.pipeline.Pipeline()\n",
        "\n",
        "\n",
        "# tesseract_text_extraction = []\n",
        "# images = []\n",
        "\n",
        "# for image_path in images_paths:\n",
        "#   image = keras_ocr.tools.read(image_path)\n",
        "#   images.append(image)\n",
        "\n",
        "\n",
        "# prediction_groups = pipeline.recognize(images)\n",
        "\n",
        "# for predictions in prediction_groups:\n",
        "#     for prediction in predictions:\n",
        "#         print(prediction[0])"
      ]
    },
    {
      "cell_type": "code",
      "execution_count": null,
      "metadata": {
        "colab": {
          "base_uri": "https://localhost:8080/"
        },
        "outputId": "6ad90639-b5c3-40e8-99ef-44191dd27285",
        "id": "X0LLoSZEEDr4"
      },
      "outputs": [
        {
          "output_type": "stream",
          "name": "stderr",
          "text": [
            "WARNING:easyocr.easyocr:Neither CUDA nor MPS are available - defaulting to CPU. Note: This module is much faster with a GPU.\n"
          ]
        }
      ],
      "source": [
        "# easyocr_text_extraction = []\n",
        "\n",
        "# reader = easyocr.Reader(['en'])\n",
        "\n",
        "# for image_path in images_paths:\n",
        "#   image = cv2.imread(image_path)\n",
        "\n",
        "#   image = cv2.GaussianBlur(image, (5, 5), 0)\n",
        "#   image = cv2.Canny(image, 30, 200)\n",
        "\n",
        "\n",
        "#   # image = cv2.adaptiveThreshold(image, 255, cv2.ADAPTIVE_THRESH_GAUSSIAN_C, cv2.THRESH_BINARY, 11, 2)\n",
        "\n",
        "#   result = reader.readtext(image)\n",
        "\n",
        "#   easyocr_text_extraction.append(result)"
      ]
    },
    {
      "cell_type": "code",
      "execution_count": null,
      "metadata": {
        "colab": {
          "base_uri": "https://localhost:8080/"
        },
        "outputId": "eb6bca67-69dc-4fc9-9b23-1743872106df",
        "id": "mThtwDcnEDr5"
      },
      "outputs": [
        {
          "output_type": "stream",
          "name": "stdout",
          "text": [
            "{@GGs 2FX\n",
            "0os\n",
            "QID\n",
            "LLGI PzS\n",
            "0 3 NQu\n",
            "HMQ\n",
            "7709 VOS\n",
            "1hd6 KSU\n",
            "0S\n",
            "E;C\n",
            "Zhhy\n",
            "Kp\n",
            "LPia\n",
            "(BPe\n",
            "VH\n",
            "g15\n",
            "05\n",
            "Orss\n",
            "Lius ZZC\n",
            "WLE4 @gx\n",
            "6}\n",
            "07 CLX\n",
            "Gxis 0GJ\n",
            "Ceg\n"
          ]
        }
      ],
      "source": [
        "# for result in easyocr_text_extraction:\n",
        "#   for detection in result:\n",
        "#       print(detection[1])"
      ]
    },
    {
      "cell_type": "code",
      "source": [
        "kernel = cv2.getStructuringElement(cv2.MORPH_RECT, (3, 3))\n",
        "\n",
        "image = cv2.imread('/content/Dataset/32.jpg')\n",
        "\n",
        "image = get_grayscale(image)\n",
        "\n",
        "# image = cv2.resize(image, None, fx=2, fy=2, interpolation=cv2.INTER_CUBIC)\n",
        "\n",
        "# image = remove_noise(image)\n",
        "\n",
        "# image = cv2.bilateralFilter(image, 11, 17, 17)\n",
        "\n",
        "image = sharpen_image(image)\n",
        "\n",
        "# image = cv2.Canny(image, 30, 200)\n",
        "\n",
        "\n",
        "image = cv2.dilate(image, kernel, iterations=1)\n",
        "\n",
        "# image = cv2.erode(image, kernel, iterations=2)\n",
        "\n",
        "# image = cv2.GaussianBlur(image, (3, 3), 0)\n",
        "\n",
        "# image = cv2.adaptiveThreshold(image, 255, cv2.ADAPTIVE_THRESH_GAUSSIAN_C, cv2.THRESH_BINARY, 11, 2)\n",
        "\n",
        "\n",
        "result = reader.readtext(image)\n",
        "\n",
        "for detection in result:\n",
        "      print(detection[1])\n",
        "\n",
        "display_image(image,'hello')"
      ],
      "metadata": {
        "colab": {
          "base_uri": "https://localhost:8080/",
          "height": 285
        },
        "id": "zFrM4uqCEZgL",
        "outputId": "3ff51782-0e22-4083-a6b4-e09ae254cbd0"
      },
      "execution_count": null,
      "outputs": [
        {
          "output_type": "stream",
          "name": "stdout",
          "text": [
            "UA 7768\n"
          ]
        },
        {
          "output_type": "display_data",
          "data": {
            "text/plain": [
              "<Figure size 640x480 with 1 Axes>"
            ],
            "image/png": "[encoded data removed]"
          },
          "metadata": {}
        }
      ]
    },
    {
      "cell_type": "code",
      "source": [],
      "metadata": {
        "id": "ffHEf2nqFAsU"
      },
      "execution_count": null,
      "outputs": []
    }
  ],
  "metadata": {
    "colab": {
      "provenance": []
    },
    "kernelspec": {
      "display_name": "Python 3",
      "name": "python3"
    },
    "language_info": {
      "codemirror_mode": {
        "name": "ipython",
        "version": 3
      },
      "file_extension": ".py",
      "mimetype": "text/x-python",
      "name": "python",
      "nbconvert_exporter": "python",
      "pygments_lexer": "ipython3",
      "version": "3.11.7"
    }
  },
  "nbformat": 4,
  "nbformat_minor": 0
}